{
 "cells": [
  {
   "cell_type": "code",
   "execution_count": 1,
   "metadata": {},
   "outputs": [],
   "source": [
    "# Authors: A. Wenteler, M. Huebner, M. Occhetta"
   ]
  },
  {
   "cell_type": "code",
   "execution_count": 11,
   "metadata": {},
   "outputs": [],
   "source": [
    "import pandas as pd \n",
    "import numpy as np\n",
    "import pickle as pkl\n",
    "import matplotlib as mpl\n",
    "import matplotlib.pyplot as plt\n",
    "import mpl_sizes\n",
    "import seaborn as sns\n",
    "#import pypalettes\n",
    "\n",
    "formatter = mpl_sizes.get_format(\"NeurIPS\") # options: ICLR, ICML, NeurIPS, InfThesis\n",
    "mpl.rcParams['text.usetex'] = False\n"
   ]
  },
  {
   "cell_type": "code",
   "execution_count": 4,
   "metadata": {},
   "outputs": [],
   "source": [
    "# load cross_split_overlap_values.pkl\n",
    "with open('cross_split_overlap_values.pkl', 'rb') as f:\n",
    "    cross_split_overlap_values = pkl.load(f)\n",
    "\n",
    "cso_dict = {\n",
    "    'scbert': cross_split_overlap_values[0],\n",
    "    'scgpt': cross_split_overlap_values[1]\n",
    "}"
   ]
  },
  {
   "cell_type": "code",
   "execution_count": 5,
   "metadata": {},
   "outputs": [],
   "source": [
    "scbert = pd.read_csv('individual_results/pert_level_scbert_non_adj_full.csv')\n",
    "scgpt = pd.read_csv('individual_results/pert_level_scgpt_non_adj_full.csv')"
   ]
  },
  {
   "cell_type": "code",
   "execution_count": 6,
   "metadata": {},
   "outputs": [],
   "source": [
    "def preprocess_data(grouped_data):\n",
    "    \"\"\"Pre-process the data for plotting.\"\"\"\n",
    "    \n",
    "    data_splits = grouped_data['data.split'].unique()\n",
    "\n",
    "    data = {}\n",
    "\n",
    "    for i, data_split in enumerate(data_splits):\n",
    "        split_data = grouped_data[grouped_data['data.split'] == data_split]['test/mse'].values\n",
    "        split_data = split_data[~np.isnan(split_data)]\n",
    "        \n",
    "        # Ensure data is list\n",
    "        if not isinstance(split_data, list):\n",
    "            split_data = [split_data]\n",
    "\n",
    "        data[data_split] = split_data\n",
    "\n",
    "    return data"
   ]
  },
  {
   "cell_type": "code",
   "execution_count": 7,
   "metadata": {},
   "outputs": [],
   "source": [
    "scbert_data = preprocess_data(scbert)\n",
    "scgpt_data = preprocess_data(scgpt)\n",
    "\n",
    "# save to json\n",
    "with open('scbert_data.pkl', 'wb') as f:\n",
    "    pkl.dump(scbert_data, f)\n",
    "\n",
    "with open('scgpt_data.pkl', 'wb') as f:\n",
    "    pkl.dump(scgpt_data, f)"
   ]
  },
  {
   "cell_type": "code",
   "execution_count": 8,
   "metadata": {},
   "outputs": [],
   "source": [
    "scbert_split_data = {key: scbert_data[key][0] for key in scbert_data.keys()}\n",
    "scgpt_split_data = {key: scgpt_data[key][0] for key in scgpt_data.keys()}\n",
    "\n",
    "sorted_split_data_scbert = dict(sorted(scbert_split_data.items()))\n",
    "sorted_split_data_scgpt = dict(sorted(scgpt_split_data.items()))\n"
   ]
  },
  {
   "cell_type": "code",
   "execution_count": 20,
   "metadata": {},
   "outputs": [
    {
     "data": {
      "image/png": "[encoded data removed]",
      "text/plain": [
       "<Figure size 1000x500 with 1 Axes>"
      ]
     },
     "metadata": {},
     "output_type": "display_data"
    }
   ],
   "source": [
    "#cmap = load_cmap('Tam')\n",
    "colors = ['#E0A19D', '#C2837D', '#C2695F', '#AB544F', '#AD4137', '#8F2E27', '#711912', '#38120D']\n",
    "\n",
    "# Positions for scbert and scgpt boxplots\n",
    "positions_scbert = [cso_dict['scbert'] + i * 0.02 for i in range(len(sorted_split_data_scbert))]\n",
    "positions_scgpt = [cso_dict['scgpt'] + i * 0.02 for i in range(len(sorted_split_data_scgpt))]\n",
    "\n",
    "# Initialize fig\n",
    "plt.figure(figsize=(10, 5))\n",
    "\n",
    "# Plot boxplots for scbert\n",
    "boxplots_scbert = plt.boxplot(sorted_split_data_scbert.values(), positions=positions_scbert, patch_artist=True, widths=0.015)\n",
    "for patch, color in zip(boxplots_scbert['boxes'], colors):\n",
    "    patch.set_facecolor(color)\n",
    "for median in boxplots_scbert['medians']:\n",
    "    median.set_color('black')\n",
    "\n",
    "# Plot boxplots for scgpt\n",
    "boxplots_scgpt = plt.boxplot(sorted_split_data_scgpt.values(), positions=positions_scgpt, patch_artist=True, widths=0.015)\n",
    "for patch, color in zip(boxplots_scgpt['boxes'], colors):\n",
    "    patch.set_facecolor(color)\n",
    "for median in boxplots_scgpt['medians']:\n",
    "    median.set_color('black')\n",
    "\n",
    "# Add brackets below the boxplots and space the text\n",
    "bracket_y = min(min(v) for v in sorted_split_data_scbert.values()) - 0.1\n",
    "text_offset = 0.08  # Space between the line and the text\n",
    "x_axis_offset = 0.02  # Space between the text and x-axis\n",
    "\n",
    "plt.plot([min(positions_scbert), max(positions_scbert)], [bracket_y] * 2, color='black', lw=1.5)\n",
    "plt.text(np.mean(positions_scbert), bracket_y - text_offset + x_axis_offset, \"scBERT\", ha=\"center\", fontsize=10)\n",
    "\n",
    "plt.plot([min(positions_scgpt), max(positions_scgpt)], [bracket_y] * 2, color='black', lw=1.5)\n",
    "plt.text(np.mean(positions_scgpt), bracket_y - text_offset + x_axis_offset, \"scGPT\", ha=\"center\", fontsize=10)\n",
    "\n",
    "# Center the x-ticks below the brackets\n",
    "mean_position_scbert = np.mean(positions_scbert)\n",
    "mean_position_scgpt = np.mean(positions_scgpt)\n",
    "plt.xticks([mean_position_scbert, mean_position_scgpt], ['{:.3f}'.format(cso_dict['scbert']), \n",
    "                                                         '{:.3f}'.format(cso_dict['scgpt'])])\n",
    "\n",
    "plt.ylim(0, max(positions_scgpt) + 0.5)\n",
    "plt.xlim(min(positions_scbert) - 0.1, max(positions_scgpt) + 0.1)\n",
    "\n",
    "# Set the axis labels\n",
    "plt.xlabel(\"Cross-split overlap\")\n",
    "plt.ylabel(\"MSE\")\n",
    "\n",
    "# Create legend\n",
    "plt.legend(handles=[plt.Line2D([0], [0], color=color, lw=4) for color in colors],\n",
    "           labels=list(sorted_split_data_scbert.keys()), \n",
    "           title=\"Sparsification probability\", loc='upper center', bbox_to_anchor=(0.5, 1.15), ncol=len(sorted_split_data_scbert), frameon=False)\n",
    "\n",
    "plt.grid(axis='y', color = 'gray', linewidth = 0.1)#, alpha = 0.5)\n",
    "\n",
    "# Adjust layout\n",
    "#plt.title(\"Effct of Cross-Split Overlap on Model Performance at Different Splits\")\n",
    "plt.tight_layout(rect=[0, 0.05, 1, 1])  # Adding padding to the bottom\n",
    "\n",
    "# Save plot\n",
    "file_path = 'cross_split_overlap_full.pdf'\n",
    "plt.savefig(file_path, dpi=600)\n",
    "\n",
    "plt.show()"
   ]
  },
  {
   "cell_type": "code",
   "execution_count": null,
   "metadata": {},
   "outputs": [],
   "source": []
  }
 ],
 "metadata": {
  "kernelspec": {
   "display_name": "phd",
   "language": "python",
   "name": "python3"
  },
  "language_info": {
   "codemirror_mode": {
    "name": "ipython",
    "version": 3
   },
   "file_extension": ".py",
   "mimetype": "text/x-python",
   "name": "python",
   "nbconvert_exporter": "python",
   "pygments_lexer": "ipython3",
   "version": "3.10.14"
  }
 },
 "nbformat": 4,
 "nbformat_minor": 2
}
