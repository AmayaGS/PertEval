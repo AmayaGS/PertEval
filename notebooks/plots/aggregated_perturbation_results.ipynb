{
 "cells": [
  {
   "metadata": {
    "ExecuteTime": {
     "end_time": "2024-08-25T10:23:02.492648Z",
     "start_time": "2024-08-25T10:23:02.489287Z"
    }
   },
   "cell_type": "code",
   "source": "# Authors: N. Branson, M. Occhetta., A. Wenteler",
   "outputs": [],
   "execution_count": 36
  },
  {
   "cell_type": "code",
   "metadata": {
    "ExecuteTime": {
     "end_time": "2024-08-25T10:23:02.689149Z",
     "start_time": "2024-08-25T10:23:02.685847Z"
    }
   },
   "source": [
    "import numpy as np\n",
    "import pandas as pd\n",
    "from sklearn.metrics import auc\n",
    "import matplotlib.pyplot as plt\n",
    "from pypalettes import load_cmap"
   ],
   "outputs": [],
   "execution_count": 37
  },
  {
   "cell_type": "code",
   "metadata": {
    "ExecuteTime": {
     "end_time": "2024-08-25T10:23:02.998396Z",
     "start_time": "2024-08-25T10:23:02.967938Z"
    }
   },
   "source": [
    "# These results are produced by running `train.py` in conjunction with the corresponding scFM\n",
    "df_mlp = pd.read_csv('aggregated_results/mlp_baseline.csv')\n",
    "df_scgpt = pd.read_csv('aggregated_results/scgpt.csv')\n",
    "df_scbert = pd.read_csv('aggregated_results/scbert.csv')\n",
    "df_gf = pd.read_csv('aggregated_results/gf.csv')\n",
    "df_uce = pd.read_csv('aggregated_results/uce.csv')\n",
    "df_mean = pd.read_csv('aggregated_results/mean.csv')\n",
    "df_scf = pd.read_csv('aggregated_results/scfoundation.csv')"
   ],
   "outputs": [],
   "execution_count": 38
  },
  {
   "cell_type": "markdown",
   "metadata": {},
   "source": "## Plotting and data processing functions"
  },
  {
   "cell_type": "code",
   "metadata": {
    "ExecuteTime": {
     "end_time": "2024-08-25T10:23:04.286371Z",
     "start_time": "2024-08-25T10:23:04.271073Z"
    }
   },
   "source": [
    "spectral_params = ['0.0', '0.1', '0.2', '0.3', '0.4', '0.5', '0.6', '0.7'] #'0.8']\n",
    "def find_mets_by_spectral_params(model, metric_name, raw_data):\n",
    "    '''find tabular metrics grouped by the spectral params'''\n",
    "    met_by_sp = {}\n",
    "    for sp in spectral_params:\n",
    "        debug_check = f\"{model}_{sp}\"\n",
    "        sp_sub = raw_data[raw_data['Group'] == f'{model}_{sp}']\n",
    "        # if sp_sub[metric_name].isna().all():\n",
    "        #     met_by_sp[f'{model}_{sp}'] = sp_sub['test/rmse'].values\n",
    "        # else:\n",
    "        met_by_sp[f'{model}_{sp}'] = sp_sub[metric_name].values\n",
    "    return pd.DataFrame(met_by_sp)\n",
    "\n",
    "def find_spectral_auc(metric_df):\n",
    "    x = np.array(spectral_params, dtype='float')\n",
    "    y = metric_df.mean() \n",
    "    yerr = metric_df.std() \n",
    "    mean_yerr = yerr.mean()\n",
    "    return auc(x, y), mean_yerr\n",
    "\n",
    "def plot_spectral_curve(metric_df, err='standard_error', zero_ylb=False, shading=True, errbar=True, c=\"#D1E7FF\", alpha=0.8,\n",
    "                        plot_shading_c_same=True):\n",
    "    x = np.array(spectral_params, dtype='float')\n",
    "    y = metric_df.mean()\n",
    "    \n",
    "    yerr = metric_df.std() \n",
    "    \n",
    "    if errbar: #safe to remove if we go with fill_between for errors\n",
    "        plt.errorbar(x, y, yerr=yerr, color='k', capsize = 3,elinewidth=1.5, linewidth=1.0)    \n",
    "    else:\n",
    "        if plot_shading_c_same:\n",
    "            plot_c = c\n",
    "        else:\n",
    "            plot_c = 'k'\n",
    "        plt.plot(x, y, color=plot_c, linestyle='dashed', marker='o', linewidth=0.5)\n",
    "        y_lower = y - yerr\n",
    "        y_upper = y + yerr\n",
    "        plt.fill_between(x, y_lower, y_upper, color=c, alpha=alpha, \n",
    "        #edgecolor='#aad3ff'\n",
    "        )\n",
    "    axes = plt.gca()\n",
    "    y_min, _ = axes.get_ylim()\n",
    "    #\n",
    "    if zero_ylb:\n",
    "        y_min = 0\n",
    "    if shading:\n",
    "        plt.fill_between(x=x, y1=y, y2=y_min, color= \"#D1E7FF\", alpha=1.0)\n",
    "    \n",
    "    plt.xlabel('Sparsification Probability')\n",
    "    plt.ylabel('MSE')\n",
    "\n",
    "\n",
    "def find_auspc_table(all_model_raw_dfs, model_names, probe_model_ds='mlp_norman', metric_name='test/mse'):\n",
    "    '''probe_model_ds named in Group col in df above \n",
    "    metric_name  name of col for metric of intrest\n",
    "    '''\n",
    "    table_auc = {}\n",
    "    table_yerr = {}\n",
    "    for m_name, dft in zip(model_names, all_model_raw_dfs):\n",
    "        if m_name != 'Mean baseline':\n",
    "            auc, yerr = find_spectral_auc(find_mets_by_spectral_params(probe_model_ds, metric_name, dft))\n",
    "        else:\n",
    "            auc, yerr = find_spectral_auc(find_mets_by_spectral_params(\"test_mean_norman\", metric_name, dft))\n",
    "            \n",
    "        table_auc[m_name] = auc\n",
    "        table_yerr[m_name] = yerr\n",
    "    return table_auc, table_yerr"
   ],
   "outputs": [],
   "execution_count": 39
  },
  {
   "metadata": {},
   "cell_type": "markdown",
   "source": "## AUSPC bar plot for all models"
  },
  {
   "cell_type": "code",
   "metadata": {
    "ExecuteTime": {
     "end_time": "2024-08-25T10:23:06.054584Z",
     "start_time": "2024-08-25T10:23:06.016851Z"
    }
   },
   "source": [
    "auc_table, yerr_table = find_auspc_table([df_mlp, df_scbert, df_scgpt, df_gf, df_uce, df_mean, df_scf], model_names=['MLP gene expression', 'scbert', 'scgpt', 'gf', 'uce', 'Mean baseline', 'scfoundation'])\n",
    "auc_table = pd.Series(auc_table).sort_values()"
   ],
   "outputs": [],
   "execution_count": 40
  },
  {
   "cell_type": "code",
   "metadata": {
    "ExecuteTime": {
     "end_time": "2024-08-25T10:23:06.506316Z",
     "start_time": "2024-08-25T10:23:06.501209Z"
    }
   },
   "source": [
    "auc_table"
   ],
   "outputs": [
    {
     "data": {
      "text/plain": [
       "Mean baseline          0.046117\n",
       "scbert                 0.046433\n",
       "uce                    0.046472\n",
       "gf                     0.046513\n",
       "MLP gene expression    0.046928\n",
       "scfoundation           0.047106\n",
       "scgpt                  0.054450\n",
       "dtype: float64"
      ]
     },
     "execution_count": 41,
     "metadata": {},
     "output_type": "execute_result"
    }
   ],
   "execution_count": 41
  },
  {
   "cell_type": "code",
   "metadata": {
    "ExecuteTime": {
     "end_time": "2024-08-25T10:23:34.374794Z",
     "start_time": "2024-08-25T10:23:34.192479Z"
    }
   },
   "source": [
    "plt.figure(figsize=(3, 3))\n",
    "table, yerr = find_auspc_table([df_mean, df_mlp, df_scbert, df_scgpt, df_gf, df_uce, df_scf], model_names=['Mean baseline', 'MLP baseline', 'scBERT', 'scGPT', 'Geneformer', 'UCE', 'scFoundation'])\n",
    "table = pd.Series(table).sort_values()\n",
    "\n",
    "yerr_values = [yerr[model] for model in table.index]\n",
    "\n",
    "#cmap = load_cmap('Flourite')\n",
    "cmap = load_cmap('Rainbow')\n",
    "#cmap = load_cmap('RoseQuartz')\n",
    "#cmap = load_cmap('Sardonyx')\n",
    "bar_colors = [cmap(i/6) for i in range(7)]\n",
    "    \n",
    "width = 0.5\n",
    "\n",
    "yerr_top_only = ([0] * len(yerr_values), yerr_values)\n",
    "\n",
    "# Add error bars to the bar plot\n",
    "bars = plt.bar(table.index, table, width, color=bar_colors, alpha=1.0, yerr=yerr_top_only, capsize=2, linewidth=1, edgecolor='black', \n",
    "               ecolor='black')\n",
    "\n",
    "plt.ylabel('AUSPC')\n",
    "plt.xticks(rotation=90)\n",
    "plt.ylim(0.0, 0.11)\n",
    "plt.tight_layout()\n",
    "plt.savefig('paper_figs/auspc_bar_1.pdf', dpi=300)\n",
    "plt.show()"
   ],
   "outputs": [
    {
     "data": {
      "text/plain": [
       "<Figure size 300x300 with 1 Axes>"
      ],
      "image/png": "[encoded data removed]"
     },
     "metadata": {},
     "output_type": "display_data"
    }
   ],
   "execution_count": 43
  },
  {
   "metadata": {},
   "cell_type": "markdown",
   "source": "## MSE per split / AUSPC bar plot for all models"
  },
  {
   "metadata": {},
   "cell_type": "code",
   "outputs": [],
   "execution_count": null,
   "source": [
    "test_mse = find_mets_by_spectral_params('mlp_norman', 'test/mse', df_mlp)\n",
    "test_mse_uce = find_mets_by_spectral_params('uce', 'test/mse', df_uce)\n",
    "test_mse_gf = find_mets_by_spectral_params('gf', 'test/mse', df_gf)\n",
    "test_mse_scgpt = find_mets_by_spectral_params('scgpt', 'test/mse', df_scgpt)\n",
    "test_mse_scbert = find_mets_by_spectral_params('scbert', 'test/mse', df_scbert)\n",
    "test_mse_scf = find_mets_by_spectral_params('scfoundation', 'test/mse', df_scf)\n",
    "test_mse_mean = find_mets_by_spectral_params('test_mean_norman', 'test/mse', df_mean)"
   ]
  },
  {
   "cell_type": "code",
   "metadata": {
    "ExecuteTime": {
     "end_time": "2024-08-23T14:05:26.332342Z",
     "start_time": "2024-08-23T14:05:26.119423Z"
    }
   },
   "source": [
    "plot_spectral_curve(test_mse, shading=True, errbar=True, plot_shading_c_same=False)\n",
    "plt.savefig('paper_figs/baseline_full_spec_curve.pdf', dpi=300)\n",
    "plt.show()"
   ],
   "outputs": [
    {
     "data": {
      "text/plain": [
       "<Figure size 640x480 with 1 Axes>"
      ],
      "image/png": "[encoded data removed]"
     },
     "metadata": {},
     "output_type": "display_data"
    }
   ],
   "execution_count": 33
  },
  {
   "metadata": {},
   "cell_type": "markdown",
   "source": "## MSE bar plot for all models"
  },
  {
   "cell_type": "code",
   "metadata": {
    "ExecuteTime": {
     "end_time": "2024-08-23T13:12:00.454935Z",
     "start_time": "2024-08-23T13:12:00.101297Z"
    }
   },
   "source": [
    "model_names = ['Mean baseline', 'MLP baseline', 'UCE', 'Geneformer', 'scGPT', 'scBERT', 'scFoundation']\n",
    "model_mses = [test_mse_mean, test_mse, test_mse_uce, test_mse_gf, test_mse_scgpt, test_mse_scbert, test_mse_scf]\n",
    "\n",
    "spectral_params = ['0.0', '0.1', '0.2', '0.3', '0.4', '0.5', '0.6', '0.7'] \n",
    "x_labels = spectral_params\n",
    "bars = []\n",
    "\n",
    "dists_from_cent = [-1.25, -0.75, -0.25, 0.25, 0.75, 1.25, 1.5]  \n",
    "plt.figure(figsize=(6, 3))\n",
    "\n",
    "assert len(dists_from_cent) == len(model_names)\n",
    "pivot = np.arange(len(x_labels)) # pivot points for bars/ticks\n",
    "\n",
    "# Use the custom dark blue colormap\n",
    "#cmap = load_cmap('Flourite')\n",
    "cmap = load_cmap('Rainbow')\n",
    "#cmap = load_cmap('RoseQuartz')\n",
    "#cmap = load_cmap('Sardonyx')\n",
    "bar_colors = [cmap(i/6) for i in range(7)]\n",
    "width = 0.5\n",
    "\n",
    "model_colors = {\n",
    "    'MLP baseline': bar_colors[4],\n",
    "    'Mean baseline': bar_colors[0],\n",
    "    'scBERT': bar_colors[1],\n",
    "    'UCE': bar_colors[2],\n",
    "    'Geneformer': bar_colors[3],\n",
    "    'scGPT': bar_colors[6],\n",
    "    'scFoundation': bar_colors[5]\n",
    "}\n",
    "\n",
    "width = 0.1\n",
    "for model, m_mse, dis_from_cent in zip(model_names, model_mses, dists_from_cent):\n",
    "    c = model_colors[model]\n",
    "    y = m_mse.mean()\n",
    "    bar = [p + (dis_from_cent * width * 2.5) for p in pivot]\n",
    "    bars.append(bar)\n",
    "    plt.barh(bar, y, width, alpha=1.0,\n",
    "    label=model,\n",
    "    color=c,\n",
    "    linewidth=0.3,  \n",
    "    ecolor='black'\n",
    "    )\n",
    "    for rep in m_mse.iterrows():\n",
    "        plt.scatter(rep[1], bar, color=c, edgecolors='black', linewidths=0.1, s=5)\n",
    "\n",
    "plt.yticks(np.arange(8), spectral_params) #rotation='vertical')\n",
    "plt.xlabel('MSE')\n",
    "plt.ylabel('Sparsification Probability')\n",
    "plt.legend(loc='lower right', fontsize=6)\n",
    "plt.xlim(0.05, 0.16)\n",
    "plt.tight_layout()\n",
    "plt.savefig('paper_figs/bar_all_sp_mse.pdf', dpi=300)\n",
    "plt.show()\n"
   ],
   "outputs": [
    {
     "name": "stdout",
     "output_type": "stream",
     "text": [
      "Mean baseline\n",
      "   test_mean_norman_0.0  test_mean_norman_0.1  test_mean_norman_0.2  \\\n",
      "0              0.057263              0.059230              0.058104   \n",
      "1              0.061470              0.061275              0.058172   \n",
      "2              0.058753              0.064803              0.063119   \n",
      "\n",
      "   test_mean_norman_0.3  test_mean_norman_0.4  test_mean_norman_0.5  \\\n",
      "0              0.071861              0.067978              0.063303   \n",
      "1              0.057770              0.056305              0.064631   \n",
      "2              0.065290              0.062279              0.071820   \n",
      "\n",
      "   test_mean_norman_0.6  test_mean_norman_0.7  \n",
      "0              0.059539              0.080102  \n",
      "1              0.083301              0.081777  \n",
      "2              0.079533              0.091005  \n",
      "MLP baseline\n",
      "   mlp_norman_0.0  mlp_norman_0.1  mlp_norman_0.2  mlp_norman_0.3  \\\n",
      "0        0.059446        0.064403        0.061524        0.066077   \n",
      "1        0.058890        0.064289        0.059027        0.058190   \n",
      "2        0.062296        0.060226        0.064702        0.072066   \n",
      "\n",
      "   mlp_norman_0.4  mlp_norman_0.5  mlp_norman_0.6  mlp_norman_0.7  \n",
      "0        0.069242        0.067214        0.062279        0.079693  \n",
      "1        0.061559        0.072287        0.077307        0.084048  \n",
      "2        0.061324        0.064015        0.083891        0.092052  \n",
      "UCE\n",
      "   mlp_norman_0.0  mlp_norman_0.1  mlp_norman_0.2  mlp_norman_0.3  \\\n",
      "0        0.061217        0.065806        0.065031        0.057171   \n",
      "1        0.058391        0.062430        0.061002        0.067764   \n",
      "2        0.058505        0.059493        0.057927        0.072028   \n",
      "\n",
      "   mlp_norman_0.4  mlp_norman_0.5  mlp_norman_0.6  mlp_norman_0.7  \n",
      "0        0.060042        0.070311        0.083474        0.082263  \n",
      "1        0.061470        0.063549        0.060306        0.080918  \n",
      "2        0.070098        0.062683        0.077333        0.091179  \n",
      "Geneformer\n",
      "   mlp_norman_0.0  mlp_norman_0.1  mlp_norman_0.2  mlp_norman_0.3  \\\n",
      "0        0.061251        0.065812        0.065025        0.072014   \n",
      "1        0.058504        0.059483        0.057918        0.067761   \n",
      "2        0.058390        0.062425        0.061009        0.057182   \n",
      "\n",
      "   mlp_norman_0.4  mlp_norman_0.5  mlp_norman_0.6  mlp_norman_0.7  \n",
      "0        0.061518        0.063606        0.060671        0.081285  \n",
      "1        0.060218        0.062604        0.083627        0.083072  \n",
      "2        0.070123        0.070279        0.077169        0.091378  \n",
      "scGPT\n",
      "   mlp_norman_0.0  mlp_norman_0.1  mlp_norman_0.2  mlp_norman_0.3  \\\n",
      "0        0.061429        0.059492        0.057923        0.067773   \n",
      "1        0.059957        0.065787        0.065013        0.071994   \n",
      "2        0.060969        0.062429        0.064927        0.057157   \n",
      "\n",
      "   mlp_norman_0.4  mlp_norman_0.5  mlp_norman_0.6  mlp_norman_0.7  \n",
      "0        0.070126        0.078722        0.204363        0.082474  \n",
      "1        0.061486        0.063591        0.060390        0.269525  \n",
      "2        0.060090        0.070317        0.083543        0.082396  \n",
      "scBERT\n",
      "   mlp_norman_0.0  mlp_norman_0.1  mlp_norman_0.2  mlp_norman_0.3  \\\n",
      "0        0.059212        0.065772        0.065026        0.071994   \n",
      "1        0.061219        0.064236        0.060996        0.067754   \n",
      "2        0.058531        0.059492        0.057925        0.057205   \n",
      "\n",
      "   mlp_norman_0.4  mlp_norman_0.5  mlp_norman_0.6  mlp_norman_0.7  \n",
      "0        0.060054        0.062684        0.083757        0.081632  \n",
      "1        0.070094        0.063560        0.060339        0.083609  \n",
      "2        0.061494        0.070262             NaN        0.092373  \n",
      "scFoundation\n",
      "   mlp_norman_0.0  mlp_norman_0.1  mlp_norman_0.2  mlp_norman_0.3  \\\n",
      "0        0.058493        0.059547        0.058397        0.072485   \n",
      "1        0.061387        0.065959        0.064997        0.057701   \n",
      "2        0.059308        0.063255        0.061768        0.067855   \n",
      "\n",
      "   mlp_norman_0.4  mlp_norman_0.5  mlp_norman_0.6  mlp_norman_0.7  \n",
      "0        0.066530        0.070256        0.084863        0.091604  \n",
      "1        0.070762        0.062598        0.060601        0.083555  \n",
      "2        0.063863        0.065386        0.077551        0.083247  \n"
     ]
    },
    {
     "data": {
      "text/plain": [
       "<Figure size 600x300 with 1 Axes>"
      ],
      "image/png": "[encoded data removed]"
     },
     "metadata": {},
     "output_type": "display_data"
    }
   ],
   "execution_count": 26
  },
  {
   "metadata": {},
   "cell_type": "markdown",
   "source": "## Tables with MSE results"
  },
  {
   "cell_type": "code",
   "metadata": {
    "ExecuteTime": {
     "end_time": "2024-08-23T13:32:38.868098Z",
     "start_time": "2024-08-23T13:32:38.833412Z"
    }
   },
   "source": [
    "all_mean = {}\n",
    "all_sd = {}\n",
    "for m_name, m_mses in zip(model_names, model_mses):\n",
    "    m_ave_mse = m_mses.mean(axis=0)\n",
    "    m_sd_mse = m_mses.std(axis=0)\n",
    "    new_idx = pd.Index([idx.split('_')[-1] for idx in m_ave_mse.index])\n",
    "    m_ave_mse.index = new_idx\n",
    "    m_sd_mse.index = new_idx\n",
    "    all_mean[m_name] = pd.DataFrame(m_ave_mse)\n",
    "    all_sd[m_name] = pd.DataFrame(m_sd_mse)\n",
    "\n",
    "all_mean_df = pd.concat(all_mean, axis=1)\n",
    "all_sd_df = pd.concat(all_sd, axis=1)\n",
    "all_mean_df.columns = model_names\n",
    "all_sd_df.columns = model_names"
   ],
   "outputs": [],
   "execution_count": 27
  },
  {
   "cell_type": "code",
   "metadata": {
    "ExecuteTime": {
     "end_time": "2024-08-23T13:45:22.564474Z",
     "start_time": "2024-08-23T13:45:22.536914Z"
    }
   },
   "source": [
    "all_mean_df"
   ],
   "outputs": [
    {
     "data": {
      "text/plain": [
       "     Mean baseline  MLP baseline       UCE  Geneformer     scGPT    scBERT  \\\n",
       "0.0       0.059162      0.060211  0.059371    0.059382  0.060785  0.059654   \n",
       "0.1       0.061770      0.062973  0.062576    0.062574  0.062569  0.063167   \n",
       "0.2       0.059798      0.061751  0.061320    0.061317  0.062621  0.061316   \n",
       "0.3       0.064974      0.065444  0.065654    0.065652  0.065641  0.065651   \n",
       "0.4       0.062187      0.064041  0.063870    0.063953  0.063901  0.063881   \n",
       "0.5       0.066585      0.067839  0.065514    0.065496  0.070877  0.065502   \n",
       "0.6       0.074125      0.074492  0.073704    0.073822  0.116098  0.072048   \n",
       "0.7       0.084295      0.085264  0.084787    0.085245  0.144799  0.085871   \n",
       "\n",
       "     scFoundation  \n",
       "0.0      0.059729  \n",
       "0.1      0.062921  \n",
       "0.2      0.061721  \n",
       "0.3      0.066014  \n",
       "0.4      0.067052  \n",
       "0.5      0.066080  \n",
       "0.6      0.074338  \n",
       "0.7      0.086135  "
      ],
      "text/html": [
       "<div>\n",
       "<style scoped>\n",
       "    .dataframe tbody tr th:only-of-type {\n",
       "        vertical-align: middle;\n",
       "    }\n",
       "\n",
       "    .dataframe tbody tr th {\n",
       "        vertical-align: top;\n",
       "    }\n",
       "\n",
       "    .dataframe thead th {\n",
       "        text-align: right;\n",
       "    }\n",
       "</style>\n",
       "<table border=\"1\" class=\"dataframe\">\n",
       "  <thead>\n",
       "    <tr style=\"text-align: right;\">\n",
       "      <th></th>\n",
       "      <th>Mean baseline</th>\n",
       "      <th>MLP baseline</th>\n",
       "      <th>UCE</th>\n",
       "      <th>Geneformer</th>\n",
       "      <th>scGPT</th>\n",
       "      <th>scBERT</th>\n",
       "      <th>scFoundation</th>\n",
       "    </tr>\n",
       "  </thead>\n",
       "  <tbody>\n",
       "    <tr>\n",
       "      <th>0.0</th>\n",
       "      <td>0.059162</td>\n",
       "      <td>0.060211</td>\n",
       "      <td>0.059371</td>\n",
       "      <td>0.059382</td>\n",
       "      <td>0.060785</td>\n",
       "      <td>0.059654</td>\n",
       "      <td>0.059729</td>\n",
       "    </tr>\n",
       "    <tr>\n",
       "      <th>0.1</th>\n",
       "      <td>0.061770</td>\n",
       "      <td>0.062973</td>\n",
       "      <td>0.062576</td>\n",
       "      <td>0.062574</td>\n",
       "      <td>0.062569</td>\n",
       "      <td>0.063167</td>\n",
       "      <td>0.062921</td>\n",
       "    </tr>\n",
       "    <tr>\n",
       "      <th>0.2</th>\n",
       "      <td>0.059798</td>\n",
       "      <td>0.061751</td>\n",
       "      <td>0.061320</td>\n",
       "      <td>0.061317</td>\n",
       "      <td>0.062621</td>\n",
       "      <td>0.061316</td>\n",
       "      <td>0.061721</td>\n",
       "    </tr>\n",
       "    <tr>\n",
       "      <th>0.3</th>\n",
       "      <td>0.064974</td>\n",
       "      <td>0.065444</td>\n",
       "      <td>0.065654</td>\n",
       "      <td>0.065652</td>\n",
       "      <td>0.065641</td>\n",
       "      <td>0.065651</td>\n",
       "      <td>0.066014</td>\n",
       "    </tr>\n",
       "    <tr>\n",
       "      <th>0.4</th>\n",
       "      <td>0.062187</td>\n",
       "      <td>0.064041</td>\n",
       "      <td>0.063870</td>\n",
       "      <td>0.063953</td>\n",
       "      <td>0.063901</td>\n",
       "      <td>0.063881</td>\n",
       "      <td>0.067052</td>\n",
       "    </tr>\n",
       "    <tr>\n",
       "      <th>0.5</th>\n",
       "      <td>0.066585</td>\n",
       "      <td>0.067839</td>\n",
       "      <td>0.065514</td>\n",
       "      <td>0.065496</td>\n",
       "      <td>0.070877</td>\n",
       "      <td>0.065502</td>\n",
       "      <td>0.066080</td>\n",
       "    </tr>\n",
       "    <tr>\n",
       "      <th>0.6</th>\n",
       "      <td>0.074125</td>\n",
       "      <td>0.074492</td>\n",
       "      <td>0.073704</td>\n",
       "      <td>0.073822</td>\n",
       "      <td>0.116098</td>\n",
       "      <td>0.072048</td>\n",
       "      <td>0.074338</td>\n",
       "    </tr>\n",
       "    <tr>\n",
       "      <th>0.7</th>\n",
       "      <td>0.084295</td>\n",
       "      <td>0.085264</td>\n",
       "      <td>0.084787</td>\n",
       "      <td>0.085245</td>\n",
       "      <td>0.144799</td>\n",
       "      <td>0.085871</td>\n",
       "      <td>0.086135</td>\n",
       "    </tr>\n",
       "  </tbody>\n",
       "</table>\n",
       "</div>"
      ]
     },
     "execution_count": 30,
     "metadata": {},
     "output_type": "execute_result"
    }
   ],
   "execution_count": 30
  },
  {
   "cell_type": "code",
   "metadata": {
    "ExecuteTime": {
     "end_time": "2024-08-23T13:45:18.718214Z",
     "start_time": "2024-08-23T13:45:18.707258Z"
    }
   },
   "source": [
    "all_sd_df"
   ],
   "outputs": [
    {
     "data": {
      "text/plain": [
       "     Mean baseline  MLP baseline       UCE  Geneformer     scGPT    scBERT  \\\n",
       "0.0       0.002134      0.001828  0.001600    0.001619  0.000753  0.001397   \n",
       "0.1       0.002819      0.002379  0.003159    0.003167  0.003150  0.003274   \n",
       "0.2       0.002876      0.002844  0.003563    0.003564  0.004069  0.003561   \n",
       "0.3       0.007051      0.006960  0.007650    0.007638  0.007645  0.007616   \n",
       "0.4       0.005837      0.004505  0.005441    0.005383  0.005437  0.005429   \n",
       "0.5       0.004582      0.004171  0.004177    0.004172  0.007581  0.004146   \n",
       "0.6       0.012771      0.011078  0.012003    0.011838  0.077311  0.016559   \n",
       "0.7       0.005871      0.006268  0.005576    0.005386  0.108016  0.005716   \n",
       "\n",
       "     scFoundation  \n",
       "0.0      0.001492  \n",
       "0.1      0.003219  \n",
       "0.2      0.003300  \n",
       "0.3      0.007562  \n",
       "0.4      0.003479  \n",
       "0.5      0.003876  \n",
       "0.6      0.012446  \n",
       "0.7      0.004738  "
      ],
      "text/html": [
       "<div>\n",
       "<style scoped>\n",
       "    .dataframe tbody tr th:only-of-type {\n",
       "        vertical-align: middle;\n",
       "    }\n",
       "\n",
       "    .dataframe tbody tr th {\n",
       "        vertical-align: top;\n",
       "    }\n",
       "\n",
       "    .dataframe thead th {\n",
       "        text-align: right;\n",
       "    }\n",
       "</style>\n",
       "<table border=\"1\" class=\"dataframe\">\n",
       "  <thead>\n",
       "    <tr style=\"text-align: right;\">\n",
       "      <th></th>\n",
       "      <th>Mean baseline</th>\n",
       "      <th>MLP baseline</th>\n",
       "      <th>UCE</th>\n",
       "      <th>Geneformer</th>\n",
       "      <th>scGPT</th>\n",
       "      <th>scBERT</th>\n",
       "      <th>scFoundation</th>\n",
       "    </tr>\n",
       "  </thead>\n",
       "  <tbody>\n",
       "    <tr>\n",
       "      <th>0.0</th>\n",
       "      <td>0.002134</td>\n",
       "      <td>0.001828</td>\n",
       "      <td>0.001600</td>\n",
       "      <td>0.001619</td>\n",
       "      <td>0.000753</td>\n",
       "      <td>0.001397</td>\n",
       "      <td>0.001492</td>\n",
       "    </tr>\n",
       "    <tr>\n",
       "      <th>0.1</th>\n",
       "      <td>0.002819</td>\n",
       "      <td>0.002379</td>\n",
       "      <td>0.003159</td>\n",
       "      <td>0.003167</td>\n",
       "      <td>0.003150</td>\n",
       "      <td>0.003274</td>\n",
       "      <td>0.003219</td>\n",
       "    </tr>\n",
       "    <tr>\n",
       "      <th>0.2</th>\n",
       "      <td>0.002876</td>\n",
       "      <td>0.002844</td>\n",
       "      <td>0.003563</td>\n",
       "      <td>0.003564</td>\n",
       "      <td>0.004069</td>\n",
       "      <td>0.003561</td>\n",
       "      <td>0.003300</td>\n",
       "    </tr>\n",
       "    <tr>\n",
       "      <th>0.3</th>\n",
       "      <td>0.007051</td>\n",
       "      <td>0.006960</td>\n",
       "      <td>0.007650</td>\n",
       "      <td>0.007638</td>\n",
       "      <td>0.007645</td>\n",
       "      <td>0.007616</td>\n",
       "      <td>0.007562</td>\n",
       "    </tr>\n",
       "    <tr>\n",
       "      <th>0.4</th>\n",
       "      <td>0.005837</td>\n",
       "      <td>0.004505</td>\n",
       "      <td>0.005441</td>\n",
       "      <td>0.005383</td>\n",
       "      <td>0.005437</td>\n",
       "      <td>0.005429</td>\n",
       "      <td>0.003479</td>\n",
       "    </tr>\n",
       "    <tr>\n",
       "      <th>0.5</th>\n",
       "      <td>0.004582</td>\n",
       "      <td>0.004171</td>\n",
       "      <td>0.004177</td>\n",
       "      <td>0.004172</td>\n",
       "      <td>0.007581</td>\n",
       "      <td>0.004146</td>\n",
       "      <td>0.003876</td>\n",
       "    </tr>\n",
       "    <tr>\n",
       "      <th>0.6</th>\n",
       "      <td>0.012771</td>\n",
       "      <td>0.011078</td>\n",
       "      <td>0.012003</td>\n",
       "      <td>0.011838</td>\n",
       "      <td>0.077311</td>\n",
       "      <td>0.016559</td>\n",
       "      <td>0.012446</td>\n",
       "    </tr>\n",
       "    <tr>\n",
       "      <th>0.7</th>\n",
       "      <td>0.005871</td>\n",
       "      <td>0.006268</td>\n",
       "      <td>0.005576</td>\n",
       "      <td>0.005386</td>\n",
       "      <td>0.108016</td>\n",
       "      <td>0.005716</td>\n",
       "      <td>0.004738</td>\n",
       "    </tr>\n",
       "  </tbody>\n",
       "</table>\n",
       "</div>"
      ]
     },
     "execution_count": 29,
     "metadata": {},
     "output_type": "execute_result"
    }
   ],
   "execution_count": 29
  }
 ],
 "metadata": {
  "kernelspec": {
   "display_name": "torch_env",
   "language": "python",
   "name": "python3"
  },
  "language_info": {
   "codemirror_mode": {
    "name": "ipython",
    "version": 3
   },
   "file_extension": ".py",
   "mimetype": "text/x-python",
   "name": "python",
   "nbconvert_exporter": "python",
   "pygments_lexer": "ipython3",
   "version": "3.10.14"
  }
 },
 "nbformat": 4,
 "nbformat_minor": 2
}
