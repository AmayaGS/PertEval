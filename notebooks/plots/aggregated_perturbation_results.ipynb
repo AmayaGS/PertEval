{
 "cells": [
  {
   "metadata": {
    "ExecuteTime": {
     "end_time": "2024-09-12T15:22:31.829482Z",
     "start_time": "2024-09-12T15:22:31.826536Z"
    }
   },
   "cell_type": "code",
   "source": "# Authors: N. Branson, M. Occhetta., A. Wenteler",
   "outputs": [],
   "execution_count": 98
  },
  {
   "cell_type": "code",
   "metadata": {
    "ExecuteTime": {
     "end_time": "2024-09-12T15:22:31.883859Z",
     "start_time": "2024-09-12T15:22:31.881473Z"
    }
   },
   "source": [
    "import numpy as np\n",
    "import pandas as pd\n",
    "from sklearn.metrics import auc\n",
    "import matplotlib.pyplot as plt\n",
    "from pypalettes import load_cmap"
   ],
   "outputs": [],
   "execution_count": 99
  },
  {
   "cell_type": "code",
   "metadata": {
    "ExecuteTime": {
     "end_time": "2024-09-12T15:22:31.950877Z",
     "start_time": "2024-09-12T15:22:31.886669Z"
    }
   },
   "source": [
    "# These results are produced by running `train.py` in conjunction with the corresponding scFM\n",
    "df_mlp = pd.read_csv('aggregated_results/mlp_baseline.csv')\n",
    "df_scgpt = pd.read_csv('aggregated_results/scgpt.csv')\n",
    "df_scbert = pd.read_csv('aggregated_results/scbert.csv')\n",
    "df_gf = pd.read_csv('aggregated_results/gf.csv')\n",
    "df_uce = pd.read_csv('aggregated_results/uce.csv')\n",
    "df_mean = pd.read_csv('aggregated_results/mean.csv')\n",
    "df_scf = pd.read_csv('aggregated_results/scfoundation.csv')"
   ],
   "outputs": [],
   "execution_count": 100
  },
  {
   "cell_type": "markdown",
   "metadata": {},
   "source": "## Plotting and data processing functions"
  },
  {
   "cell_type": "code",
   "metadata": {
    "ExecuteTime": {
     "end_time": "2024-09-12T15:22:35.646990Z",
     "start_time": "2024-09-12T15:22:35.633601Z"
    }
   },
   "source": [
    "spectral_params = ['0.0', '0.1', '0.2', '0.3', '0.4', '0.5', '0.6', '0.7'] #'0.8']\n",
    "def find_mets_by_spectral_params(model, metric_name, raw_data):\n",
    "    '''find tabular metrics grouped by the spectral params'''\n",
    "    met_by_sp = {}\n",
    "    for sp in spectral_params:\n",
    "        debug_check = f\"{model}_{sp}\"\n",
    "        if model in ['mlp_norman', 'test_mean_norman']:\n",
    "            sp_sub = raw_data[raw_data['Group'] == f'{model}_{sp}']\n",
    "        else:            \n",
    "            sp_sub = raw_data[raw_data['data.split'] == float(sp)]\n",
    "        # if sp_sub[metric_name].isna().all():\n",
    "        #     met_by_sp[f'{model}_{sp}'] = sp_sub['test/rmse'].values\n",
    "        # else:\n",
    "        met_by_sp[f'{model}_{sp}'] = sp_sub[metric_name].values\n",
    "    return pd.DataFrame(met_by_sp)\n",
    "\n",
    "def find_spectral_auc(metric_df):\n",
    "    x = np.array(spectral_params, dtype='float')\n",
    "    y = metric_df.mean() \n",
    "    yerr = metric_df.std() \n",
    "    mean_yerr = yerr.mean()\n",
    "    return auc(x, y), mean_yerr\n",
    "\n",
    "def plot_spectral_curve(metric_df, err='standard_error', zero_ylb=False, shading=True, errbar=True, c=\"#D1E7FF\", alpha=0.8,\n",
    "                        plot_shading_c_same=True):\n",
    "    x = np.array(spectral_params, dtype='float')\n",
    "    y = metric_df.mean()\n",
    "    \n",
    "    yerr = metric_df.std() \n",
    "    \n",
    "    if errbar: #safe to remove if we go with fill_between for errors\n",
    "        plt.errorbar(x, y, yerr=yerr, color='k', capsize = 3,elinewidth=1.5, linewidth=1.0)    \n",
    "    else:\n",
    "        if plot_shading_c_same:\n",
    "            plot_c = c\n",
    "        else:\n",
    "            plot_c = 'k'\n",
    "        plt.plot(x, y, color=plot_c, linestyle='dashed', marker='o', linewidth=0.5)\n",
    "        y_lower = y - yerr\n",
    "        y_upper = y + yerr\n",
    "        plt.fill_between(x, y_lower, y_upper, color=c, alpha=alpha, \n",
    "        #edgecolor='#aad3ff'\n",
    "        )\n",
    "    axes = plt.gca()\n",
    "    y_min, _ = axes.get_ylim()\n",
    "    #\n",
    "    if zero_ylb:\n",
    "        y_min = 0\n",
    "    if shading:\n",
    "        plt.fill_between(x=x, y1=y, y2=y_min, color= \"#D1E7FF\", alpha=1.0)\n",
    "    \n",
    "    plt.xlabel('Sparsification Probability')\n",
    "    plt.ylabel('MSE')\n",
    "\n",
    "\n",
    "def find_auspc_table(all_model_raw_dfs, model_names, probe_model_ds='mlp_norman', metric_name='test/mse'):\n",
    "    '''probe_model_ds named in Group col in df above \n",
    "    metric_name  name of col for metric of intrest\n",
    "    '''\n",
    "    table_auc = {}\n",
    "    table_yerr = {}\n",
    "    for m_name, dft in zip(model_names, all_model_raw_dfs):\n",
    "        if m_name != 'Mean baseline':\n",
    "            auc, yerr = find_spectral_auc(find_mets_by_spectral_params(probe_model_ds, metric_name, dft))\n",
    "        else:\n",
    "            auc, yerr = find_spectral_auc(find_mets_by_spectral_params(\"test_mean_norman\", metric_name, dft))\n",
    "            \n",
    "        table_auc[m_name] = auc\n",
    "        table_yerr[m_name] = yerr\n",
    "    return table_auc, table_yerr"
   ],
   "outputs": [],
   "execution_count": 107
  },
  {
   "metadata": {},
   "cell_type": "markdown",
   "source": "## AUSPC bar plot for all models"
  },
  {
   "cell_type": "code",
   "metadata": {
    "ExecuteTime": {
     "end_time": "2024-09-12T15:22:31.973829Z",
     "start_time": "2024-09-12T15:22:31.960679Z"
    }
   },
   "source": [
    "auc_table, yerr_table = find_auspc_table([df_mlp, df_scbert, df_scgpt, df_gf, df_uce, df_mean, df_scf], model_names=['MLP gene expression', 'scbert', 'scgpt', 'gf', 'uce', 'Mean baseline', 'scfoundation'])\n",
    "auc_table = pd.Series(auc_table).sort_values()"
   ],
   "outputs": [],
   "execution_count": 102
  },
  {
   "cell_type": "code",
   "metadata": {
    "ExecuteTime": {
     "end_time": "2024-09-12T15:22:31.979123Z",
     "start_time": "2024-09-12T15:22:31.976108Z"
    }
   },
   "source": [
    "auc_table"
   ],
   "outputs": [
    {
     "data": {
      "text/plain": [
       "Mean baseline          0.046117\n",
       "scbert                 0.046433\n",
       "uce                    0.046472\n",
       "gf                     0.046513\n",
       "MLP gene expression    0.046928\n",
       "scfoundation           0.047106\n",
       "scgpt                  0.054450\n",
       "dtype: float64"
      ]
     },
     "execution_count": 103,
     "metadata": {},
     "output_type": "execute_result"
    }
   ],
   "execution_count": 103
  },
  {
   "cell_type": "code",
   "metadata": {
    "ExecuteTime": {
     "end_time": "2024-09-12T15:22:32.245748Z",
     "start_time": "2024-09-12T15:22:31.979823Z"
    }
   },
   "source": [
    "plt.figure(figsize=(3, 3))\n",
    "table, yerr = find_auspc_table([df_mean, df_mlp, df_scbert, df_scgpt, df_gf, df_uce, df_scf], model_names=['Mean baseline', 'MLP baseline', 'scBERT', 'scGPT', 'Geneformer', 'UCE', 'scFoundation'])\n",
    "table = pd.Series(table).sort_values()\n",
    "\n",
    "yerr_values = [yerr[model] for model in table.index]\n",
    "\n",
    "#cmap = load_cmap('Flourite')\n",
    "cmap = load_cmap('Rainbow')\n",
    "#cmap = load_cmap('RoseQuartz')\n",
    "#cmap = load_cmap('Sardonyx')\n",
    "bar_colors = [cmap(i/6) for i in range(7)]\n",
    "    \n",
    "width = 0.5\n",
    "\n",
    "yerr_top_only = ([0] * len(yerr_values), yerr_values)\n",
    "\n",
    "# Add error bars to the bar plot\n",
    "bars = plt.bar(table.index, table, width, color=bar_colors, alpha=1.0, yerr=yerr_top_only, capsize=2, linewidth=1, edgecolor='black', \n",
    "               ecolor='black')\n",
    "\n",
    "plt.ylabel('AUSPC')\n",
    "plt.xticks(rotation=90)\n",
    "plt.ylim(0.0, 0.11)\n",
    "\n",
    "ax = plt.gca()\n",
    "ax.spines['left'].set_visible(False)\n",
    "ax.spines['top'].set_visible(False)\n",
    "\n",
    "plt.tight_layout()\n",
    "plt.savefig('paper_figs/auspc_bar_1.pdf', dpi=300)\n",
    "plt.show()"
   ],
   "outputs": [
    {
     "data": {
      "text/plain": [
       "<Figure size 300x300 with 1 Axes>"
      ],
      "image/png": "[encoded data removed]"
     },
     "metadata": {},
     "output_type": "display_data"
    }
   ],
   "execution_count": 104
  },
  {
   "metadata": {},
   "cell_type": "markdown",
   "source": "## MSE per split / AUSPC bar plot for all models"
  },
  {
   "metadata": {
    "ExecuteTime": {
     "end_time": "2024-09-12T15:36:06.931557Z",
     "start_time": "2024-09-12T15:22:41.441556Z"
    }
   },
   "cell_type": "code",
   "source": [
    "test_mse = find_mets_by_spectral_params('mlp_norman', 'test/mse', df_mlp)\n",
    "test_mse_uce = find_mets_by_spectral_params('uce', 'test/mse', df_uce)\n",
    "test_mse_gf = find_mets_by_spectral_params('gf', 'test/mse', df_gf)\n",
    "test_mse_scgpt = find_mets_by_spectral_params('scgpt', 'test/mse', df_scgpt)\n",
    "test_mse_scbert = find_mets_by_spectral_params('scbert', 'test/mse', df_scbert)\n",
    "test_mse_scf = find_mets_by_spectral_params('scfoundation', 'test/mse', df_scf)\n",
    "test_mse_mean = find_mets_by_spectral_params('test_mean_norman', 'test/mse', df_mean)"
   ],
   "outputs": [
    {
     "ename": "KeyError",
     "evalue": "'data.split'",
     "output_type": "error",
     "traceback": [
      "\u001B[0;31m---------------------------------------------------------------------------\u001B[0m",
      "\u001B[0;31mKeyError\u001B[0m                                  Traceback (most recent call last)",
      "File \u001B[0;32m~/Desktop/PhD/Research/QMUL/Research/scBench/venv/lib/python3.10/site-packages/pandas/core/indexes/base.py:3805\u001B[0m, in \u001B[0;36mIndex.get_loc\u001B[0;34m(self, key)\u001B[0m\n\u001B[1;32m   3804\u001B[0m \u001B[38;5;28;01mtry\u001B[39;00m:\n\u001B[0;32m-> 3805\u001B[0m     \u001B[38;5;28;01mreturn\u001B[39;00m \u001B[38;5;28;43mself\u001B[39;49m\u001B[38;5;241;43m.\u001B[39;49m\u001B[43m_engine\u001B[49m\u001B[38;5;241;43m.\u001B[39;49m\u001B[43mget_loc\u001B[49m\u001B[43m(\u001B[49m\u001B[43mcasted_key\u001B[49m\u001B[43m)\u001B[49m\n\u001B[1;32m   3806\u001B[0m \u001B[38;5;28;01mexcept\u001B[39;00m \u001B[38;5;167;01mKeyError\u001B[39;00m \u001B[38;5;28;01mas\u001B[39;00m err:\n",
      "File \u001B[0;32mindex.pyx:167\u001B[0m, in \u001B[0;36mpandas._libs.index.IndexEngine.get_loc\u001B[0;34m()\u001B[0m\n",
      "File \u001B[0;32mindex.pyx:196\u001B[0m, in \u001B[0;36mpandas._libs.index.IndexEngine.get_loc\u001B[0;34m()\u001B[0m\n",
      "File \u001B[0;32mpandas/_libs/hashtable_class_helper.pxi:7081\u001B[0m, in \u001B[0;36mpandas._libs.hashtable.PyObjectHashTable.get_item\u001B[0;34m()\u001B[0m\n",
      "File \u001B[0;32mpandas/_libs/hashtable_class_helper.pxi:7089\u001B[0m, in \u001B[0;36mpandas._libs.hashtable.PyObjectHashTable.get_item\u001B[0;34m()\u001B[0m\n",
      "\u001B[0;31mKeyError\u001B[0m: 'data.split'",
      "\nThe above exception was the direct cause of the following exception:\n",
      "\u001B[0;31mKeyError\u001B[0m                                  Traceback (most recent call last)",
      "Cell \u001B[0;32mIn[108], line 4\u001B[0m\n\u001B[1;32m      2\u001B[0m test_mse_uce \u001B[38;5;241m=\u001B[39m find_mets_by_spectral_params(\u001B[38;5;124m'\u001B[39m\u001B[38;5;124muce\u001B[39m\u001B[38;5;124m'\u001B[39m, \u001B[38;5;124m'\u001B[39m\u001B[38;5;124mtest/mse\u001B[39m\u001B[38;5;124m'\u001B[39m, df_uce)\n\u001B[1;32m      3\u001B[0m test_mse_gf \u001B[38;5;241m=\u001B[39m find_mets_by_spectral_params(\u001B[38;5;124m'\u001B[39m\u001B[38;5;124mgf\u001B[39m\u001B[38;5;124m'\u001B[39m, \u001B[38;5;124m'\u001B[39m\u001B[38;5;124mtest/mse\u001B[39m\u001B[38;5;124m'\u001B[39m, df_gf)\n\u001B[0;32m----> 4\u001B[0m test_mse_scgpt \u001B[38;5;241m=\u001B[39m \u001B[43mfind_mets_by_spectral_params\u001B[49m\u001B[43m(\u001B[49m\u001B[38;5;124;43m'\u001B[39;49m\u001B[38;5;124;43mscgpt\u001B[39;49m\u001B[38;5;124;43m'\u001B[39;49m\u001B[43m,\u001B[49m\u001B[43m \u001B[49m\u001B[38;5;124;43m'\u001B[39;49m\u001B[38;5;124;43mtest/mse\u001B[39;49m\u001B[38;5;124;43m'\u001B[39;49m\u001B[43m,\u001B[49m\u001B[43m \u001B[49m\u001B[43mdf_scgpt\u001B[49m\u001B[43m)\u001B[49m\n\u001B[1;32m      5\u001B[0m test_mse_scbert \u001B[38;5;241m=\u001B[39m find_mets_by_spectral_params(\u001B[38;5;124m'\u001B[39m\u001B[38;5;124mscbert\u001B[39m\u001B[38;5;124m'\u001B[39m, \u001B[38;5;124m'\u001B[39m\u001B[38;5;124mtest/mse\u001B[39m\u001B[38;5;124m'\u001B[39m, df_scbert)\n\u001B[1;32m      6\u001B[0m test_mse_scf \u001B[38;5;241m=\u001B[39m find_mets_by_spectral_params(\u001B[38;5;124m'\u001B[39m\u001B[38;5;124mscfoundation\u001B[39m\u001B[38;5;124m'\u001B[39m, \u001B[38;5;124m'\u001B[39m\u001B[38;5;124mtest/mse\u001B[39m\u001B[38;5;124m'\u001B[39m, df_scf)\n",
      "Cell \u001B[0;32mIn[107], line 10\u001B[0m, in \u001B[0;36mfind_mets_by_spectral_params\u001B[0;34m(model, metric_name, raw_data)\u001B[0m\n\u001B[1;32m      8\u001B[0m     sp_sub \u001B[38;5;241m=\u001B[39m raw_data[raw_data[\u001B[38;5;124m'\u001B[39m\u001B[38;5;124mGroup\u001B[39m\u001B[38;5;124m'\u001B[39m] \u001B[38;5;241m==\u001B[39m \u001B[38;5;124mf\u001B[39m\u001B[38;5;124m'\u001B[39m\u001B[38;5;132;01m{\u001B[39;00mmodel\u001B[38;5;132;01m}\u001B[39;00m\u001B[38;5;124m_\u001B[39m\u001B[38;5;132;01m{\u001B[39;00msp\u001B[38;5;132;01m}\u001B[39;00m\u001B[38;5;124m'\u001B[39m]\n\u001B[1;32m      9\u001B[0m \u001B[38;5;28;01melse\u001B[39;00m:            \n\u001B[0;32m---> 10\u001B[0m     sp_sub \u001B[38;5;241m=\u001B[39m raw_data[\u001B[43mraw_data\u001B[49m\u001B[43m[\u001B[49m\u001B[38;5;124;43m'\u001B[39;49m\u001B[38;5;124;43mdata.split\u001B[39;49m\u001B[38;5;124;43m'\u001B[39;49m\u001B[43m]\u001B[49m \u001B[38;5;241m==\u001B[39m \u001B[38;5;28mfloat\u001B[39m(sp)]\n\u001B[1;32m     11\u001B[0m \u001B[38;5;66;03m# if sp_sub[metric_name].isna().all():\u001B[39;00m\n\u001B[1;32m     12\u001B[0m \u001B[38;5;66;03m#     met_by_sp[f'{model}_{sp}'] = sp_sub['test/rmse'].values\u001B[39;00m\n\u001B[1;32m     13\u001B[0m \u001B[38;5;66;03m# else:\u001B[39;00m\n\u001B[1;32m     14\u001B[0m met_by_sp[\u001B[38;5;124mf\u001B[39m\u001B[38;5;124m'\u001B[39m\u001B[38;5;132;01m{\u001B[39;00mmodel\u001B[38;5;132;01m}\u001B[39;00m\u001B[38;5;124m_\u001B[39m\u001B[38;5;132;01m{\u001B[39;00msp\u001B[38;5;132;01m}\u001B[39;00m\u001B[38;5;124m'\u001B[39m] \u001B[38;5;241m=\u001B[39m sp_sub[metric_name]\u001B[38;5;241m.\u001B[39mvalues\n",
      "File \u001B[0;32m~/Desktop/PhD/Research/QMUL/Research/scBench/venv/lib/python3.10/site-packages/pandas/core/frame.py:4090\u001B[0m, in \u001B[0;36mDataFrame.__getitem__\u001B[0;34m(self, key)\u001B[0m\n\u001B[1;32m   4088\u001B[0m \u001B[38;5;28;01mif\u001B[39;00m \u001B[38;5;28mself\u001B[39m\u001B[38;5;241m.\u001B[39mcolumns\u001B[38;5;241m.\u001B[39mnlevels \u001B[38;5;241m>\u001B[39m \u001B[38;5;241m1\u001B[39m:\n\u001B[1;32m   4089\u001B[0m     \u001B[38;5;28;01mreturn\u001B[39;00m \u001B[38;5;28mself\u001B[39m\u001B[38;5;241m.\u001B[39m_getitem_multilevel(key)\n\u001B[0;32m-> 4090\u001B[0m indexer \u001B[38;5;241m=\u001B[39m \u001B[38;5;28;43mself\u001B[39;49m\u001B[38;5;241;43m.\u001B[39;49m\u001B[43mcolumns\u001B[49m\u001B[38;5;241;43m.\u001B[39;49m\u001B[43mget_loc\u001B[49m\u001B[43m(\u001B[49m\u001B[43mkey\u001B[49m\u001B[43m)\u001B[49m\n\u001B[1;32m   4091\u001B[0m \u001B[38;5;28;01mif\u001B[39;00m is_integer(indexer):\n\u001B[1;32m   4092\u001B[0m     indexer \u001B[38;5;241m=\u001B[39m [indexer]\n",
      "File \u001B[0;32m~/Desktop/PhD/Research/QMUL/Research/scBench/venv/lib/python3.10/site-packages/pandas/core/indexes/base.py:3812\u001B[0m, in \u001B[0;36mIndex.get_loc\u001B[0;34m(self, key)\u001B[0m\n\u001B[1;32m   3807\u001B[0m     \u001B[38;5;28;01mif\u001B[39;00m \u001B[38;5;28misinstance\u001B[39m(casted_key, \u001B[38;5;28mslice\u001B[39m) \u001B[38;5;129;01mor\u001B[39;00m (\n\u001B[1;32m   3808\u001B[0m         \u001B[38;5;28misinstance\u001B[39m(casted_key, abc\u001B[38;5;241m.\u001B[39mIterable)\n\u001B[1;32m   3809\u001B[0m         \u001B[38;5;129;01mand\u001B[39;00m \u001B[38;5;28many\u001B[39m(\u001B[38;5;28misinstance\u001B[39m(x, \u001B[38;5;28mslice\u001B[39m) \u001B[38;5;28;01mfor\u001B[39;00m x \u001B[38;5;129;01min\u001B[39;00m casted_key)\n\u001B[1;32m   3810\u001B[0m     ):\n\u001B[1;32m   3811\u001B[0m         \u001B[38;5;28;01mraise\u001B[39;00m InvalidIndexError(key)\n\u001B[0;32m-> 3812\u001B[0m     \u001B[38;5;28;01mraise\u001B[39;00m \u001B[38;5;167;01mKeyError\u001B[39;00m(key) \u001B[38;5;28;01mfrom\u001B[39;00m \u001B[38;5;21;01merr\u001B[39;00m\n\u001B[1;32m   3813\u001B[0m \u001B[38;5;28;01mexcept\u001B[39;00m \u001B[38;5;167;01mTypeError\u001B[39;00m:\n\u001B[1;32m   3814\u001B[0m     \u001B[38;5;66;03m# If we have a listlike key, _check_indexing_error will raise\u001B[39;00m\n\u001B[1;32m   3815\u001B[0m     \u001B[38;5;66;03m#  InvalidIndexError. Otherwise we fall through and re-raise\u001B[39;00m\n\u001B[1;32m   3816\u001B[0m     \u001B[38;5;66;03m#  the TypeError.\u001B[39;00m\n\u001B[1;32m   3817\u001B[0m     \u001B[38;5;28mself\u001B[39m\u001B[38;5;241m.\u001B[39m_check_indexing_error(key)\n",
      "\u001B[0;31mKeyError\u001B[0m: 'data.split'"
     ]
    }
   ],
   "execution_count": 108
  },
  {
   "cell_type": "code",
   "metadata": {},
   "source": [
    "plot_spectral_curve(test_mse, shading=True, errbar=True, plot_shading_c_same=False)\n",
    "plt.savefig('paper_figs/baseline_full_spec_curve.pdf', dpi=300)\n",
    "plt.show()"
   ],
   "outputs": [],
   "execution_count": null
  },
  {
   "metadata": {},
   "cell_type": "markdown",
   "source": "## MSE bar plot for all models"
  },
  {
   "cell_type": "code",
   "metadata": {},
   "source": [
    "model_names = ['Mean baseline', 'MLP baseline', 'UCE', 'Geneformer', 'scGPT', 'scBERT', 'scFoundation']\n",
    "model_mses = [test_mse_mean, test_mse, test_mse_uce, test_mse_gf, test_mse_scgpt, test_mse_scbert, test_mse_scf]\n",
    "\n",
    "spectral_params = ['0.0', '0.1', '0.2', '0.3', '0.4', '0.5', '0.6', '0.7'] \n",
    "x_labels = spectral_params\n",
    "bars = []\n",
    "\n",
    "dists_from_cent = [-1.25, -0.75, -0.25, 0.25, 0.75, 1.25, 1.5]  \n",
    "plt.figure(figsize=(6, 3))\n",
    "\n",
    "assert len(dists_from_cent) == len(model_names)\n",
    "pivot = np.arange(len(x_labels)) # pivot points for bars/ticks\n",
    "\n",
    "# Use the custom dark blue colormap\n",
    "#cmap = load_cmap('Flourite')\n",
    "cmap = load_cmap('Rainbow')\n",
    "#cmap = load_cmap('RoseQuartz')\n",
    "#cmap = load_cmap('Sardonyx')\n",
    "bar_colors = [cmap(i/6) for i in range(7)]\n",
    "width = 0.5\n",
    "\n",
    "model_colors = {\n",
    "    'MLP baseline': bar_colors[4],\n",
    "    'Mean baseline': bar_colors[0],\n",
    "    'scBERT': bar_colors[1],\n",
    "    'UCE': bar_colors[2],\n",
    "    'Geneformer': bar_colors[3],\n",
    "    'scGPT': bar_colors[6],\n",
    "    'scFoundation': bar_colors[5]\n",
    "}\n",
    "\n",
    "width = 0.1\n",
    "for model, m_mse, dis_from_cent in zip(model_names, model_mses, dists_from_cent):\n",
    "    c = model_colors[model]\n",
    "    y = m_mse.mean()\n",
    "    bar = [p + (dis_from_cent * width * 2.5) for p in pivot]\n",
    "    bars.append(bar)\n",
    "    plt.barh(bar, y, width, alpha=1.0,\n",
    "    label=model,\n",
    "    color=c,\n",
    "    linewidth=0.3,  \n",
    "    ecolor='black'\n",
    "    )\n",
    "    for rep in m_mse.iterrows():\n",
    "        plt.scatter(rep[1], bar, color=c, edgecolors='black', linewidths=0.1, s=5)\n",
    "\n",
    "plt.yticks(np.arange(8), spectral_params) #rotation='vertical')\n",
    "plt.xlabel('MSE')\n",
    "plt.ylabel('Sparsification Probability')\n",
    "plt.legend(loc='lower right', fontsize=6)\n",
    "plt.xlim(0.05, 0.16)\n",
    "\n",
    "plt.tight_layout()\n",
    "plt.savefig('paper_figs/bar_all_sp_mse.pdf', dpi=300)\n",
    "plt.show()\n"
   ],
   "outputs": [],
   "execution_count": null
  },
  {
   "metadata": {},
   "cell_type": "markdown",
   "source": "## Tables with MSE results"
  },
  {
   "cell_type": "code",
   "metadata": {},
   "source": [
    "all_mean = {}\n",
    "all_sd = {}\n",
    "for m_name, m_mses in zip(model_names, model_mses):\n",
    "    m_ave_mse = m_mses.mean(axis=0)\n",
    "    m_sd_mse = m_mses.std(axis=0)\n",
    "    new_idx = pd.Index([idx.split('_')[-1] for idx in m_ave_mse.index])\n",
    "    m_ave_mse.index = new_idx\n",
    "    m_sd_mse.index = new_idx\n",
    "    all_mean[m_name] = pd.DataFrame(m_ave_mse)\n",
    "    all_sd[m_name] = pd.DataFrame(m_sd_mse)\n",
    "\n",
    "all_mean_df = pd.concat(all_mean, axis=1)\n",
    "all_sd_df = pd.concat(all_sd, axis=1)\n",
    "all_mean_df.columns = model_names\n",
    "all_sd_df.columns = model_names"
   ],
   "outputs": [],
   "execution_count": null
  },
  {
   "cell_type": "code",
   "metadata": {},
   "source": [
    "all_mean_df"
   ],
   "outputs": [],
   "execution_count": null
  },
  {
   "cell_type": "code",
   "metadata": {},
   "source": [
    "all_sd_df"
   ],
   "outputs": [],
   "execution_count": null
  }
 ],
 "metadata": {
  "kernelspec": {
   "display_name": "torch_env",
   "language": "python",
   "name": "python3"
  },
  "language_info": {
   "codemirror_mode": {
    "name": "ipython",
    "version": 3
   },
   "file_extension": ".py",
   "mimetype": "text/x-python",
   "name": "python",
   "nbconvert_exporter": "python",
   "pygments_lexer": "ipython3",
   "version": "3.10.14"
  }
 },
 "nbformat": 4,
 "nbformat_minor": 2
}
