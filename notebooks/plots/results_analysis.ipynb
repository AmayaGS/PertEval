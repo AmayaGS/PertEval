{
 "cells": [
  {
   "metadata": {
    "ExecuteTime": {
     "end_time": "2024-07-16T10:17:41.021740Z",
     "start_time": "2024-07-16T10:17:37.864779Z"
    }
   },
   "cell_type": "code",
   "source": [
    "import wandb\n",
    "import numpy as np\n",
    "import pandas as pd\n",
    "from sklearn.metrics import auc\n",
    "import matplotlib.pyplot as plt\n",
    "from pypalettes import load_cmap"
   ],
   "outputs": [],
   "execution_count": 1
  },
  {
   "cell_type": "code",
   "metadata": {
    "ExecuteTime": {
     "end_time": "2024-07-16T10:17:41.024922Z",
     "start_time": "2024-07-16T10:17:41.022828Z"
    }
   },
   "source": [
    "# #can use api to get run ids but have just donwloaded the flat cvs file instead. \n",
    "# import pandas as pd \n",
    "# import wandb\n",
    "# api = wandb.Api()\n",
    "# \n",
    "# # Project is specified by <entity/project-name>\n",
    "# runs = api.runs(\"aaronwtr/perturbench\")\n",
    "# \n",
    "# summary_list, config_list, name_list = [], [], []\n",
    "# for run in runs: \n",
    "#     # .summary contains the output keys/values for metrics like accuracy.\n",
    "#     #  We call ._json_dict to omit large files \n",
    "#     summary_list.append(run.summary._json_dict)\n",
    "# \n",
    "#     # .config contains the hyperparameters.\n",
    "#     #  We remove special values that start with _.\n",
    "#     config_list.append(\n",
    "#         {k: v for k,v in run.config.items()\n",
    "#           if not k.startswith('_')})\n",
    "# \n",
    "#     # .name is the human-readable name of the run.\n",
    "#     name_list.append(run.name)\n",
    "# \n",
    "# runs_df = pd.DataFrame({\n",
    "#     \"summary\": summary_list,\n",
    "#     \"config\": config_list,\n",
    "#     \"name\": name_list\n",
    "#     })\n",
    "# \n",
    "# #runs_df.to_csv(\"project.csv\")"
   ],
   "outputs": [],
   "execution_count": 2
  },
  {
   "cell_type": "code",
   "metadata": {
    "ExecuteTime": {
     "end_time": "2024-07-16T10:17:41.038612Z",
     "start_time": "2024-07-16T10:17:41.025512Z"
    }
   },
   "source": [
    "df = pd.read_csv('wandb_baseline.csv')\n",
    "df_scgpt = pd.read_csv('scgpt.csv')\n",
    "df_scbert = pd.read_csv('scbert.csv')\n",
    "df_gf = pd.read_csv('gf.csv')\n",
    "df_uce = pd.read_csv('uce.csv')\n",
    "df_mean = pd.read_csv('mean.csv')"
   ],
   "outputs": [],
   "execution_count": 3
  },
  {
   "metadata": {
    "ExecuteTime": {
     "end_time": "2024-07-16T10:17:41.053757Z",
     "start_time": "2024-07-16T10:17:41.039614Z"
    }
   },
   "cell_type": "code",
   "source": "df_mean",
   "outputs": [
    {
     "data": {
      "text/plain": [
       "                        Name                   Created     State  Runtime  \\\n",
       "0         cerulean-water-254  2024-07-04T20:19:40.000Z  finished       31   \n",
       "1           woven-planet-255  2024-07-04T20:20:47.000Z  finished       31   \n",
       "2         scarlet-planet-253  2024-07-04T20:18:09.000Z  finished       31   \n",
       "3         bright-silence-251  2024-07-04T20:10:06.000Z  finished       29   \n",
       "4           robust-brook-252  2024-07-04T20:16:50.000Z  finished       29   \n",
       "5         fanciful-blaze-250  2024-07-04T20:03:52.000Z  finished       29   \n",
       "6              soft-wind-247  2024-07-04T19:59:49.000Z  finished       32   \n",
       "7        young-firebrand-248  2024-07-04T20:01:02.000Z  finished       32   \n",
       "8   misunderstood-galaxy-249  2024-07-04T20:02:18.000Z  finished       33   \n",
       "9         glamorous-pond-244  2024-07-04T19:54:59.000Z  finished       34   \n",
       "10            elated-dew-246  2024-07-04T19:58:27.000Z  finished       35   \n",
       "11         fanciful-wood-245  2024-07-04T19:57:09.000Z  finished       35   \n",
       "12         upbeat-donkey-242  2024-07-04T19:52:07.000Z  finished       37   \n",
       "13        northern-totem-243  2024-07-04T19:53:31.000Z  finished       39   \n",
       "14       blooming-shadow-241  2024-07-04T19:50:36.000Z  finished       39   \n",
       "15            golden-fog-238  2024-07-04T19:43:59.000Z  finished       43   \n",
       "16          ancient-frog-240  2024-07-04T19:48:52.000Z  finished       38   \n",
       "17              zany-bee-239  2024-07-04T19:45:31.000Z  finished       43   \n",
       "18          stellar-oath-256  2024-07-05T15:13:46.000Z  finished       49   \n",
       "19          prime-plasma-237  2024-07-04T19:42:06.000Z  finished       45   \n",
       "20           vivid-music-236  2024-07-04T19:35:20.000Z  finished       46   \n",
       "21     dashing-resonance-235  2024-07-04T19:31:06.000Z  finished       59   \n",
       "22   wandering-resonance-234  2024-07-04T19:25:22.000Z  finished       61   \n",
       "23         ethereal-haze-233  2024-07-04T19:22:32.000Z  finished       47   \n",
       "\n",
       "                    End Time                 Group  \\\n",
       "0   2024-07-04T20:20:11.000Z  test_mean_norman_0.7   \n",
       "1   2024-07-04T20:21:18.000Z  test_mean_norman_0.7   \n",
       "2   2024-07-04T20:18:40.000Z  test_mean_norman_0.7   \n",
       "3   2024-07-04T20:10:35.000Z  test_mean_norman_0.6   \n",
       "4   2024-07-04T20:17:19.000Z  test_mean_norman_0.6   \n",
       "5   2024-07-04T20:04:21.000Z  test_mean_norman_0.6   \n",
       "6   2024-07-04T20:00:21.000Z  test_mean_norman_0.5   \n",
       "7   2024-07-04T20:01:34.000Z  test_mean_norman_0.5   \n",
       "8   2024-07-04T20:02:51.000Z  test_mean_norman_0.5   \n",
       "9   2024-07-04T19:55:33.000Z  test_mean_norman_0.4   \n",
       "10  2024-07-04T19:59:02.000Z  test_mean_norman_0.4   \n",
       "11  2024-07-04T19:57:44.000Z  test_mean_norman_0.4   \n",
       "12  2024-07-04T19:52:44.000Z  test_mean_norman_0.3   \n",
       "13  2024-07-04T19:54:10.000Z  test_mean_norman_0.3   \n",
       "14  2024-07-04T19:51:15.000Z  test_mean_norman_0.3   \n",
       "15  2024-07-04T19:44:42.000Z  test_mean_norman_0.2   \n",
       "16  2024-07-04T19:49:30.000Z  test_mean_norman_0.2   \n",
       "17  2024-07-04T19:46:14.000Z  test_mean_norman_0.2   \n",
       "18  2024-07-05T15:14:35.000Z  test_mean_norman_0.1   \n",
       "19  2024-07-04T19:42:51.000Z  test_mean_norman_0.1   \n",
       "20  2024-07-04T19:36:06.000Z  test_mean_norman_0.1   \n",
       "21  2024-07-04T19:32:05.000Z  test_mean_norman_0.0   \n",
       "22  2024-07-04T19:26:23.000Z  test_mean_norman_0.0   \n",
       "23  2024-07-04T19:23:19.000Z  test_mean_norman_0.0   \n",
       "\n",
       "                                                 Tags  test/rmse  test/mse  \\\n",
       "0   eval, mean, norman, raw_expression, replicate_...        NaN  0.080102   \n",
       "1   eval, mean, norman, raw_expression, replicate_...        NaN  0.081777   \n",
       "2   eval, mean, norman, raw_expression, replicate_...        NaN  0.091005   \n",
       "3   eval, mean, norman, raw_expression, replicate_...        NaN  0.059539   \n",
       "4   eval, mean, norman, raw_expression, replicate_...        NaN  0.083301   \n",
       "5   eval, mean, norman, raw_expression, replicate_...        NaN  0.079533   \n",
       "6   eval, mean, norman, raw_expression, replicate_...        NaN  0.063303   \n",
       "7   eval, mean, norman, raw_expression, replicate_...        NaN  0.064631   \n",
       "8   eval, mean, norman, raw_expression, replicate_...        NaN  0.071820   \n",
       "9   eval, mean, norman, raw_expression, replicate_...        NaN  0.067978   \n",
       "10  eval, mean, norman, raw_expression, replicate_...        NaN  0.056305   \n",
       "11  eval, mean, norman, raw_expression, replicate_...        NaN  0.062279   \n",
       "12  eval, mean, norman, raw_expression, replicate_...        NaN  0.071861   \n",
       "13  eval, mean, norman, raw_expression, replicate_...        NaN  0.057770   \n",
       "14  eval, mean, norman, raw_expression, replicate_...        NaN  0.065290   \n",
       "15  eval, mean, norman, raw_expression, replicate_...        NaN  0.058104   \n",
       "16  eval, mean, norman, raw_expression, replicate_...        NaN  0.058172   \n",
       "17  eval, mean, norman, raw_expression, replicate_...        NaN  0.063119   \n",
       "18  eval, mean, norman, raw_expression, replicate_...        NaN  0.059230   \n",
       "19  eval, mean, norman, raw_expression, replicate_...        NaN  0.061275   \n",
       "20  eval, mean, norman, raw_expression, replicate_...        NaN  0.064803   \n",
       "21  eval, mean, norman, raw_expression, replicate_...        NaN  0.057263   \n",
       "22  eval, mean, norman, raw_expression, replicate_...        NaN  0.061470   \n",
       "23  eval, mean, norman, raw_expression, replicate_...        NaN  0.058753   \n",
       "\n",
       "    train/mse  ...  test/de_genes  model.optimizer.lr  model.net.hidden_dim  \\\n",
       "0         NaN  ...            NaN                 NaN                   NaN   \n",
       "1         NaN  ...            NaN                 NaN                   NaN   \n",
       "2         NaN  ...            NaN                 NaN                   NaN   \n",
       "3         NaN  ...            NaN                 NaN                   NaN   \n",
       "4         NaN  ...            NaN                 NaN                   NaN   \n",
       "5         NaN  ...            NaN                 NaN                   NaN   \n",
       "6         NaN  ...            NaN                 NaN                   NaN   \n",
       "7         NaN  ...            NaN                 NaN                   NaN   \n",
       "8         NaN  ...            NaN                 NaN                   NaN   \n",
       "9         NaN  ...            NaN                 NaN                   NaN   \n",
       "10        NaN  ...            NaN                 NaN                   NaN   \n",
       "11        NaN  ...            NaN                 NaN                   NaN   \n",
       "12        NaN  ...            NaN                 NaN                   NaN   \n",
       "13        NaN  ...            NaN                 NaN                   NaN   \n",
       "14        NaN  ...            NaN                 NaN                   NaN   \n",
       "15        NaN  ...            NaN                 NaN                   NaN   \n",
       "16        NaN  ...            NaN                 NaN                   NaN   \n",
       "17        NaN  ...            NaN                 NaN                   NaN   \n",
       "18        NaN  ...            NaN                 NaN                   NaN   \n",
       "19        NaN  ...            NaN                 NaN                   NaN   \n",
       "20        NaN  ...            NaN                 NaN                   NaN   \n",
       "21        NaN  ...            NaN                 NaN                   NaN   \n",
       "22        NaN  ...            NaN                 NaN                   NaN   \n",
       "23        NaN  ...            NaN                 NaN                   NaN   \n",
       "\n",
       "    trainer.devices  trainer.accelerator  trainer.max_epochs  \\\n",
       "0                 1                  cpu                  20   \n",
       "1                 1                  cpu                  20   \n",
       "2                 1                  cpu                  20   \n",
       "3                 1                  cpu                  20   \n",
       "4                 1                  cpu                  20   \n",
       "5                 1                  cpu                  20   \n",
       "6                 1                  cpu                  20   \n",
       "7                 1                  cpu                  20   \n",
       "8                 1                  cpu                  20   \n",
       "9                 1                  cpu                  20   \n",
       "10                1                  cpu                  20   \n",
       "11                1                  cpu                  20   \n",
       "12                1                  cpu                  20   \n",
       "13                1                  cpu                  20   \n",
       "14                1                  cpu                  20   \n",
       "15                1                  cpu                  20   \n",
       "16                1                  cpu                  20   \n",
       "17                1                  cpu                  20   \n",
       "18                1                  cpu                  20   \n",
       "19                1                  cpu                  20   \n",
       "20                1                  cpu                  20   \n",
       "21                1                  cpu                  20   \n",
       "22                1                  cpu                  20   \n",
       "23                1                  cpu                  20   \n",
       "\n",
       "    model.scheduler.patience callbacks.early_stopping.patience  train/rmse  \\\n",
       "0                        NaN                               NaN         NaN   \n",
       "1                        NaN                               NaN         NaN   \n",
       "2                        NaN                               NaN         NaN   \n",
       "3                        NaN                               NaN         NaN   \n",
       "4                        NaN                               NaN         NaN   \n",
       "5                        NaN                               NaN         NaN   \n",
       "6                        NaN                               NaN         NaN   \n",
       "7                        NaN                               NaN         NaN   \n",
       "8                        NaN                               NaN         NaN   \n",
       "9                        NaN                               NaN         NaN   \n",
       "10                       NaN                               NaN         NaN   \n",
       "11                       NaN                               NaN         NaN   \n",
       "12                       NaN                               NaN         NaN   \n",
       "13                       NaN                               NaN         NaN   \n",
       "14                       NaN                               NaN         NaN   \n",
       "15                       NaN                               NaN         NaN   \n",
       "16                       NaN                               NaN         NaN   \n",
       "17                       NaN                               NaN         NaN   \n",
       "18                       NaN                               NaN         NaN   \n",
       "19                       NaN                               NaN         NaN   \n",
       "20                       NaN                               NaN         NaN   \n",
       "21                       NaN                               NaN         NaN   \n",
       "22                       NaN                               NaN         NaN   \n",
       "23                       NaN                               NaN         NaN   \n",
       "\n",
       "    val/rmse  \n",
       "0        NaN  \n",
       "1        NaN  \n",
       "2        NaN  \n",
       "3        NaN  \n",
       "4        NaN  \n",
       "5        NaN  \n",
       "6        NaN  \n",
       "7        NaN  \n",
       "8        NaN  \n",
       "9        NaN  \n",
       "10       NaN  \n",
       "11       NaN  \n",
       "12       NaN  \n",
       "13       NaN  \n",
       "14       NaN  \n",
       "15       NaN  \n",
       "16       NaN  \n",
       "17       NaN  \n",
       "18       NaN  \n",
       "19       NaN  \n",
       "20       NaN  \n",
       "21       NaN  \n",
       "22       NaN  \n",
       "23       NaN  \n",
       "\n",
       "[24 rows x 23 columns]"
      ],
      "text/html": [
       "<div>\n",
       "<style scoped>\n",
       "    .dataframe tbody tr th:only-of-type {\n",
       "        vertical-align: middle;\n",
       "    }\n",
       "\n",
       "    .dataframe tbody tr th {\n",
       "        vertical-align: top;\n",
       "    }\n",
       "\n",
       "    .dataframe thead th {\n",
       "        text-align: right;\n",
       "    }\n",
       "</style>\n",
       "<table border=\"1\" class=\"dataframe\">\n",
       "  <thead>\n",
       "    <tr style=\"text-align: right;\">\n",
       "      <th></th>\n",
       "      <th>Name</th>\n",
       "      <th>Created</th>\n",
       "      <th>State</th>\n",
       "      <th>Runtime</th>\n",
       "      <th>End Time</th>\n",
       "      <th>Group</th>\n",
       "      <th>Tags</th>\n",
       "      <th>test/rmse</th>\n",
       "      <th>test/mse</th>\n",
       "      <th>train/mse</th>\n",
       "      <th>...</th>\n",
       "      <th>test/de_genes</th>\n",
       "      <th>model.optimizer.lr</th>\n",
       "      <th>model.net.hidden_dim</th>\n",
       "      <th>trainer.devices</th>\n",
       "      <th>trainer.accelerator</th>\n",
       "      <th>trainer.max_epochs</th>\n",
       "      <th>model.scheduler.patience</th>\n",
       "      <th>callbacks.early_stopping.patience</th>\n",
       "      <th>train/rmse</th>\n",
       "      <th>val/rmse</th>\n",
       "    </tr>\n",
       "  </thead>\n",
       "  <tbody>\n",
       "    <tr>\n",
       "      <th>0</th>\n",
       "      <td>cerulean-water-254</td>\n",
       "      <td>2024-07-04T20:19:40.000Z</td>\n",
       "      <td>finished</td>\n",
       "      <td>31</td>\n",
       "      <td>2024-07-04T20:20:11.000Z</td>\n",
       "      <td>test_mean_norman_0.7</td>\n",
       "      <td>eval, mean, norman, raw_expression, replicate_...</td>\n",
       "      <td>NaN</td>\n",
       "      <td>0.080102</td>\n",
       "      <td>NaN</td>\n",
       "      <td>...</td>\n",
       "      <td>NaN</td>\n",
       "      <td>NaN</td>\n",
       "      <td>NaN</td>\n",
       "      <td>1</td>\n",
       "      <td>cpu</td>\n",
       "      <td>20</td>\n",
       "      <td>NaN</td>\n",
       "      <td>NaN</td>\n",
       "      <td>NaN</td>\n",
       "      <td>NaN</td>\n",
       "    </tr>\n",
       "    <tr>\n",
       "      <th>1</th>\n",
       "      <td>woven-planet-255</td>\n",
       "      <td>2024-07-04T20:20:47.000Z</td>\n",
       "      <td>finished</td>\n",
       "      <td>31</td>\n",
       "      <td>2024-07-04T20:21:18.000Z</td>\n",
       "      <td>test_mean_norman_0.7</td>\n",
       "      <td>eval, mean, norman, raw_expression, replicate_...</td>\n",
       "      <td>NaN</td>\n",
       "      <td>0.081777</td>\n",
       "      <td>NaN</td>\n",
       "      <td>...</td>\n",
       "      <td>NaN</td>\n",
       "      <td>NaN</td>\n",
       "      <td>NaN</td>\n",
       "      <td>1</td>\n",
       "      <td>cpu</td>\n",
       "      <td>20</td>\n",
       "      <td>NaN</td>\n",
       "      <td>NaN</td>\n",
       "      <td>NaN</td>\n",
       "      <td>NaN</td>\n",
       "    </tr>\n",
       "    <tr>\n",
       "      <th>2</th>\n",
       "      <td>scarlet-planet-253</td>\n",
       "      <td>2024-07-04T20:18:09.000Z</td>\n",
       "      <td>finished</td>\n",
       "      <td>31</td>\n",
       "      <td>2024-07-04T20:18:40.000Z</td>\n",
       "      <td>test_mean_norman_0.7</td>\n",
       "      <td>eval, mean, norman, raw_expression, replicate_...</td>\n",
       "      <td>NaN</td>\n",
       "      <td>0.091005</td>\n",
       "      <td>NaN</td>\n",
       "      <td>...</td>\n",
       "      <td>NaN</td>\n",
       "      <td>NaN</td>\n",
       "      <td>NaN</td>\n",
       "      <td>1</td>\n",
       "      <td>cpu</td>\n",
       "      <td>20</td>\n",
       "      <td>NaN</td>\n",
       "      <td>NaN</td>\n",
       "      <td>NaN</td>\n",
       "      <td>NaN</td>\n",
       "    </tr>\n",
       "    <tr>\n",
       "      <th>3</th>\n",
       "      <td>bright-silence-251</td>\n",
       "      <td>2024-07-04T20:10:06.000Z</td>\n",
       "      <td>finished</td>\n",
       "      <td>29</td>\n",
       "      <td>2024-07-04T20:10:35.000Z</td>\n",
       "      <td>test_mean_norman_0.6</td>\n",
       "      <td>eval, mean, norman, raw_expression, replicate_...</td>\n",
       "      <td>NaN</td>\n",
       "      <td>0.059539</td>\n",
       "      <td>NaN</td>\n",
       "      <td>...</td>\n",
       "      <td>NaN</td>\n",
       "      <td>NaN</td>\n",
       "      <td>NaN</td>\n",
       "      <td>1</td>\n",
       "      <td>cpu</td>\n",
       "      <td>20</td>\n",
       "      <td>NaN</td>\n",
       "      <td>NaN</td>\n",
       "      <td>NaN</td>\n",
       "      <td>NaN</td>\n",
       "    </tr>\n",
       "    <tr>\n",
       "      <th>4</th>\n",
       "      <td>robust-brook-252</td>\n",
       "      <td>2024-07-04T20:16:50.000Z</td>\n",
       "      <td>finished</td>\n",
       "      <td>29</td>\n",
       "      <td>2024-07-04T20:17:19.000Z</td>\n",
       "      <td>test_mean_norman_0.6</td>\n",
       "      <td>eval, mean, norman, raw_expression, replicate_...</td>\n",
       "      <td>NaN</td>\n",
       "      <td>0.083301</td>\n",
       "      <td>NaN</td>\n",
       "      <td>...</td>\n",
       "      <td>NaN</td>\n",
       "      <td>NaN</td>\n",
       "      <td>NaN</td>\n",
       "      <td>1</td>\n",
       "      <td>cpu</td>\n",
       "      <td>20</td>\n",
       "      <td>NaN</td>\n",
       "      <td>NaN</td>\n",
       "      <td>NaN</td>\n",
       "      <td>NaN</td>\n",
       "    </tr>\n",
       "    <tr>\n",
       "      <th>5</th>\n",
       "      <td>fanciful-blaze-250</td>\n",
       "      <td>2024-07-04T20:03:52.000Z</td>\n",
       "      <td>finished</td>\n",
       "      <td>29</td>\n",
       "      <td>2024-07-04T20:04:21.000Z</td>\n",
       "      <td>test_mean_norman_0.6</td>\n",
       "      <td>eval, mean, norman, raw_expression, replicate_...</td>\n",
       "      <td>NaN</td>\n",
       "      <td>0.079533</td>\n",
       "      <td>NaN</td>\n",
       "      <td>...</td>\n",
       "      <td>NaN</td>\n",
       "      <td>NaN</td>\n",
       "      <td>NaN</td>\n",
       "      <td>1</td>\n",
       "      <td>cpu</td>\n",
       "      <td>20</td>\n",
       "      <td>NaN</td>\n",
       "      <td>NaN</td>\n",
       "      <td>NaN</td>\n",
       "      <td>NaN</td>\n",
       "    </tr>\n",
       "    <tr>\n",
       "      <th>6</th>\n",
       "      <td>soft-wind-247</td>\n",
       "      <td>2024-07-04T19:59:49.000Z</td>\n",
       "      <td>finished</td>\n",
       "      <td>32</td>\n",
       "      <td>2024-07-04T20:00:21.000Z</td>\n",
       "      <td>test_mean_norman_0.5</td>\n",
       "      <td>eval, mean, norman, raw_expression, replicate_...</td>\n",
       "      <td>NaN</td>\n",
       "      <td>0.063303</td>\n",
       "      <td>NaN</td>\n",
       "      <td>...</td>\n",
       "      <td>NaN</td>\n",
       "      <td>NaN</td>\n",
       "      <td>NaN</td>\n",
       "      <td>1</td>\n",
       "      <td>cpu</td>\n",
       "      <td>20</td>\n",
       "      <td>NaN</td>\n",
       "      <td>NaN</td>\n",
       "      <td>NaN</td>\n",
       "      <td>NaN</td>\n",
       "    </tr>\n",
       "    <tr>\n",
       "      <th>7</th>\n",
       "      <td>young-firebrand-248</td>\n",
       "      <td>2024-07-04T20:01:02.000Z</td>\n",
       "      <td>finished</td>\n",
       "      <td>32</td>\n",
       "      <td>2024-07-04T20:01:34.000Z</td>\n",
       "      <td>test_mean_norman_0.5</td>\n",
       "      <td>eval, mean, norman, raw_expression, replicate_...</td>\n",
       "      <td>NaN</td>\n",
       "      <td>0.064631</td>\n",
       "      <td>NaN</td>\n",
       "      <td>...</td>\n",
       "      <td>NaN</td>\n",
       "      <td>NaN</td>\n",
       "      <td>NaN</td>\n",
       "      <td>1</td>\n",
       "      <td>cpu</td>\n",
       "      <td>20</td>\n",
       "      <td>NaN</td>\n",
       "      <td>NaN</td>\n",
       "      <td>NaN</td>\n",
       "      <td>NaN</td>\n",
       "    </tr>\n",
       "    <tr>\n",
       "      <th>8</th>\n",
       "      <td>misunderstood-galaxy-249</td>\n",
       "      <td>2024-07-04T20:02:18.000Z</td>\n",
       "      <td>finished</td>\n",
       "      <td>33</td>\n",
       "      <td>2024-07-04T20:02:51.000Z</td>\n",
       "      <td>test_mean_norman_0.5</td>\n",
       "      <td>eval, mean, norman, raw_expression, replicate_...</td>\n",
       "      <td>NaN</td>\n",
       "      <td>0.071820</td>\n",
       "      <td>NaN</td>\n",
       "      <td>...</td>\n",
       "      <td>NaN</td>\n",
       "      <td>NaN</td>\n",
       "      <td>NaN</td>\n",
       "      <td>1</td>\n",
       "      <td>cpu</td>\n",
       "      <td>20</td>\n",
       "      <td>NaN</td>\n",
       "      <td>NaN</td>\n",
       "      <td>NaN</td>\n",
       "      <td>NaN</td>\n",
       "    </tr>\n",
       "    <tr>\n",
       "      <th>9</th>\n",
       "      <td>glamorous-pond-244</td>\n",
       "      <td>2024-07-04T19:54:59.000Z</td>\n",
       "      <td>finished</td>\n",
       "      <td>34</td>\n",
       "      <td>2024-07-04T19:55:33.000Z</td>\n",
       "      <td>test_mean_norman_0.4</td>\n",
       "      <td>eval, mean, norman, raw_expression, replicate_...</td>\n",
       "      <td>NaN</td>\n",
       "      <td>0.067978</td>\n",
       "      <td>NaN</td>\n",
       "      <td>...</td>\n",
       "      <td>NaN</td>\n",
       "      <td>NaN</td>\n",
       "      <td>NaN</td>\n",
       "      <td>1</td>\n",
       "      <td>cpu</td>\n",
       "      <td>20</td>\n",
       "      <td>NaN</td>\n",
       "      <td>NaN</td>\n",
       "      <td>NaN</td>\n",
       "      <td>NaN</td>\n",
       "    </tr>\n",
       "    <tr>\n",
       "      <th>10</th>\n",
       "      <td>elated-dew-246</td>\n",
       "      <td>2024-07-04T19:58:27.000Z</td>\n",
       "      <td>finished</td>\n",
       "      <td>35</td>\n",
       "      <td>2024-07-04T19:59:02.000Z</td>\n",
       "      <td>test_mean_norman_0.4</td>\n",
       "      <td>eval, mean, norman, raw_expression, replicate_...</td>\n",
       "      <td>NaN</td>\n",
       "      <td>0.056305</td>\n",
       "      <td>NaN</td>\n",
       "      <td>...</td>\n",
       "      <td>NaN</td>\n",
       "      <td>NaN</td>\n",
       "      <td>NaN</td>\n",
       "      <td>1</td>\n",
       "      <td>cpu</td>\n",
       "      <td>20</td>\n",
       "      <td>NaN</td>\n",
       "      <td>NaN</td>\n",
       "      <td>NaN</td>\n",
       "      <td>NaN</td>\n",
       "    </tr>\n",
       "    <tr>\n",
       "      <th>11</th>\n",
       "      <td>fanciful-wood-245</td>\n",
       "      <td>2024-07-04T19:57:09.000Z</td>\n",
       "      <td>finished</td>\n",
       "      <td>35</td>\n",
       "      <td>2024-07-04T19:57:44.000Z</td>\n",
       "      <td>test_mean_norman_0.4</td>\n",
       "      <td>eval, mean, norman, raw_expression, replicate_...</td>\n",
       "      <td>NaN</td>\n",
       "      <td>0.062279</td>\n",
       "      <td>NaN</td>\n",
       "      <td>...</td>\n",
       "      <td>NaN</td>\n",
       "      <td>NaN</td>\n",
       "      <td>NaN</td>\n",
       "      <td>1</td>\n",
       "      <td>cpu</td>\n",
       "      <td>20</td>\n",
       "      <td>NaN</td>\n",
       "      <td>NaN</td>\n",
       "      <td>NaN</td>\n",
       "      <td>NaN</td>\n",
       "    </tr>\n",
       "    <tr>\n",
       "      <th>12</th>\n",
       "      <td>upbeat-donkey-242</td>\n",
       "      <td>2024-07-04T19:52:07.000Z</td>\n",
       "      <td>finished</td>\n",
       "      <td>37</td>\n",
       "      <td>2024-07-04T19:52:44.000Z</td>\n",
       "      <td>test_mean_norman_0.3</td>\n",
       "      <td>eval, mean, norman, raw_expression, replicate_...</td>\n",
       "      <td>NaN</td>\n",
       "      <td>0.071861</td>\n",
       "      <td>NaN</td>\n",
       "      <td>...</td>\n",
       "      <td>NaN</td>\n",
       "      <td>NaN</td>\n",
       "      <td>NaN</td>\n",
       "      <td>1</td>\n",
       "      <td>cpu</td>\n",
       "      <td>20</td>\n",
       "      <td>NaN</td>\n",
       "      <td>NaN</td>\n",
       "      <td>NaN</td>\n",
       "      <td>NaN</td>\n",
       "    </tr>\n",
       "    <tr>\n",
       "      <th>13</th>\n",
       "      <td>northern-totem-243</td>\n",
       "      <td>2024-07-04T19:53:31.000Z</td>\n",
       "      <td>finished</td>\n",
       "      <td>39</td>\n",
       "      <td>2024-07-04T19:54:10.000Z</td>\n",
       "      <td>test_mean_norman_0.3</td>\n",
       "      <td>eval, mean, norman, raw_expression, replicate_...</td>\n",
       "      <td>NaN</td>\n",
       "      <td>0.057770</td>\n",
       "      <td>NaN</td>\n",
       "      <td>...</td>\n",
       "      <td>NaN</td>\n",
       "      <td>NaN</td>\n",
       "      <td>NaN</td>\n",
       "      <td>1</td>\n",
       "      <td>cpu</td>\n",
       "      <td>20</td>\n",
       "      <td>NaN</td>\n",
       "      <td>NaN</td>\n",
       "      <td>NaN</td>\n",
       "      <td>NaN</td>\n",
       "    </tr>\n",
       "    <tr>\n",
       "      <th>14</th>\n",
       "      <td>blooming-shadow-241</td>\n",
       "      <td>2024-07-04T19:50:36.000Z</td>\n",
       "      <td>finished</td>\n",
       "      <td>39</td>\n",
       "      <td>2024-07-04T19:51:15.000Z</td>\n",
       "      <td>test_mean_norman_0.3</td>\n",
       "      <td>eval, mean, norman, raw_expression, replicate_...</td>\n",
       "      <td>NaN</td>\n",
       "      <td>0.065290</td>\n",
       "      <td>NaN</td>\n",
       "      <td>...</td>\n",
       "      <td>NaN</td>\n",
       "      <td>NaN</td>\n",
       "      <td>NaN</td>\n",
       "      <td>1</td>\n",
       "      <td>cpu</td>\n",
       "      <td>20</td>\n",
       "      <td>NaN</td>\n",
       "      <td>NaN</td>\n",
       "      <td>NaN</td>\n",
       "      <td>NaN</td>\n",
       "    </tr>\n",
       "    <tr>\n",
       "      <th>15</th>\n",
       "      <td>golden-fog-238</td>\n",
       "      <td>2024-07-04T19:43:59.000Z</td>\n",
       "      <td>finished</td>\n",
       "      <td>43</td>\n",
       "      <td>2024-07-04T19:44:42.000Z</td>\n",
       "      <td>test_mean_norman_0.2</td>\n",
       "      <td>eval, mean, norman, raw_expression, replicate_...</td>\n",
       "      <td>NaN</td>\n",
       "      <td>0.058104</td>\n",
       "      <td>NaN</td>\n",
       "      <td>...</td>\n",
       "      <td>NaN</td>\n",
       "      <td>NaN</td>\n",
       "      <td>NaN</td>\n",
       "      <td>1</td>\n",
       "      <td>cpu</td>\n",
       "      <td>20</td>\n",
       "      <td>NaN</td>\n",
       "      <td>NaN</td>\n",
       "      <td>NaN</td>\n",
       "      <td>NaN</td>\n",
       "    </tr>\n",
       "    <tr>\n",
       "      <th>16</th>\n",
       "      <td>ancient-frog-240</td>\n",
       "      <td>2024-07-04T19:48:52.000Z</td>\n",
       "      <td>finished</td>\n",
       "      <td>38</td>\n",
       "      <td>2024-07-04T19:49:30.000Z</td>\n",
       "      <td>test_mean_norman_0.2</td>\n",
       "      <td>eval, mean, norman, raw_expression, replicate_...</td>\n",
       "      <td>NaN</td>\n",
       "      <td>0.058172</td>\n",
       "      <td>NaN</td>\n",
       "      <td>...</td>\n",
       "      <td>NaN</td>\n",
       "      <td>NaN</td>\n",
       "      <td>NaN</td>\n",
       "      <td>1</td>\n",
       "      <td>cpu</td>\n",
       "      <td>20</td>\n",
       "      <td>NaN</td>\n",
       "      <td>NaN</td>\n",
       "      <td>NaN</td>\n",
       "      <td>NaN</td>\n",
       "    </tr>\n",
       "    <tr>\n",
       "      <th>17</th>\n",
       "      <td>zany-bee-239</td>\n",
       "      <td>2024-07-04T19:45:31.000Z</td>\n",
       "      <td>finished</td>\n",
       "      <td>43</td>\n",
       "      <td>2024-07-04T19:46:14.000Z</td>\n",
       "      <td>test_mean_norman_0.2</td>\n",
       "      <td>eval, mean, norman, raw_expression, replicate_...</td>\n",
       "      <td>NaN</td>\n",
       "      <td>0.063119</td>\n",
       "      <td>NaN</td>\n",
       "      <td>...</td>\n",
       "      <td>NaN</td>\n",
       "      <td>NaN</td>\n",
       "      <td>NaN</td>\n",
       "      <td>1</td>\n",
       "      <td>cpu</td>\n",
       "      <td>20</td>\n",
       "      <td>NaN</td>\n",
       "      <td>NaN</td>\n",
       "      <td>NaN</td>\n",
       "      <td>NaN</td>\n",
       "    </tr>\n",
       "    <tr>\n",
       "      <th>18</th>\n",
       "      <td>stellar-oath-256</td>\n",
       "      <td>2024-07-05T15:13:46.000Z</td>\n",
       "      <td>finished</td>\n",
       "      <td>49</td>\n",
       "      <td>2024-07-05T15:14:35.000Z</td>\n",
       "      <td>test_mean_norman_0.1</td>\n",
       "      <td>eval, mean, norman, raw_expression, replicate_...</td>\n",
       "      <td>NaN</td>\n",
       "      <td>0.059230</td>\n",
       "      <td>NaN</td>\n",
       "      <td>...</td>\n",
       "      <td>NaN</td>\n",
       "      <td>NaN</td>\n",
       "      <td>NaN</td>\n",
       "      <td>1</td>\n",
       "      <td>cpu</td>\n",
       "      <td>20</td>\n",
       "      <td>NaN</td>\n",
       "      <td>NaN</td>\n",
       "      <td>NaN</td>\n",
       "      <td>NaN</td>\n",
       "    </tr>\n",
       "    <tr>\n",
       "      <th>19</th>\n",
       "      <td>prime-plasma-237</td>\n",
       "      <td>2024-07-04T19:42:06.000Z</td>\n",
       "      <td>finished</td>\n",
       "      <td>45</td>\n",
       "      <td>2024-07-04T19:42:51.000Z</td>\n",
       "      <td>test_mean_norman_0.1</td>\n",
       "      <td>eval, mean, norman, raw_expression, replicate_...</td>\n",
       "      <td>NaN</td>\n",
       "      <td>0.061275</td>\n",
       "      <td>NaN</td>\n",
       "      <td>...</td>\n",
       "      <td>NaN</td>\n",
       "      <td>NaN</td>\n",
       "      <td>NaN</td>\n",
       "      <td>1</td>\n",
       "      <td>cpu</td>\n",
       "      <td>20</td>\n",
       "      <td>NaN</td>\n",
       "      <td>NaN</td>\n",
       "      <td>NaN</td>\n",
       "      <td>NaN</td>\n",
       "    </tr>\n",
       "    <tr>\n",
       "      <th>20</th>\n",
       "      <td>vivid-music-236</td>\n",
       "      <td>2024-07-04T19:35:20.000Z</td>\n",
       "      <td>finished</td>\n",
       "      <td>46</td>\n",
       "      <td>2024-07-04T19:36:06.000Z</td>\n",
       "      <td>test_mean_norman_0.1</td>\n",
       "      <td>eval, mean, norman, raw_expression, replicate_...</td>\n",
       "      <td>NaN</td>\n",
       "      <td>0.064803</td>\n",
       "      <td>NaN</td>\n",
       "      <td>...</td>\n",
       "      <td>NaN</td>\n",
       "      <td>NaN</td>\n",
       "      <td>NaN</td>\n",
       "      <td>1</td>\n",
       "      <td>cpu</td>\n",
       "      <td>20</td>\n",
       "      <td>NaN</td>\n",
       "      <td>NaN</td>\n",
       "      <td>NaN</td>\n",
       "      <td>NaN</td>\n",
       "    </tr>\n",
       "    <tr>\n",
       "      <th>21</th>\n",
       "      <td>dashing-resonance-235</td>\n",
       "      <td>2024-07-04T19:31:06.000Z</td>\n",
       "      <td>finished</td>\n",
       "      <td>59</td>\n",
       "      <td>2024-07-04T19:32:05.000Z</td>\n",
       "      <td>test_mean_norman_0.0</td>\n",
       "      <td>eval, mean, norman, raw_expression, replicate_...</td>\n",
       "      <td>NaN</td>\n",
       "      <td>0.057263</td>\n",
       "      <td>NaN</td>\n",
       "      <td>...</td>\n",
       "      <td>NaN</td>\n",
       "      <td>NaN</td>\n",
       "      <td>NaN</td>\n",
       "      <td>1</td>\n",
       "      <td>cpu</td>\n",
       "      <td>20</td>\n",
       "      <td>NaN</td>\n",
       "      <td>NaN</td>\n",
       "      <td>NaN</td>\n",
       "      <td>NaN</td>\n",
       "    </tr>\n",
       "    <tr>\n",
       "      <th>22</th>\n",
       "      <td>wandering-resonance-234</td>\n",
       "      <td>2024-07-04T19:25:22.000Z</td>\n",
       "      <td>finished</td>\n",
       "      <td>61</td>\n",
       "      <td>2024-07-04T19:26:23.000Z</td>\n",
       "      <td>test_mean_norman_0.0</td>\n",
       "      <td>eval, mean, norman, raw_expression, replicate_...</td>\n",
       "      <td>NaN</td>\n",
       "      <td>0.061470</td>\n",
       "      <td>NaN</td>\n",
       "      <td>...</td>\n",
       "      <td>NaN</td>\n",
       "      <td>NaN</td>\n",
       "      <td>NaN</td>\n",
       "      <td>1</td>\n",
       "      <td>cpu</td>\n",
       "      <td>20</td>\n",
       "      <td>NaN</td>\n",
       "      <td>NaN</td>\n",
       "      <td>NaN</td>\n",
       "      <td>NaN</td>\n",
       "    </tr>\n",
       "    <tr>\n",
       "      <th>23</th>\n",
       "      <td>ethereal-haze-233</td>\n",
       "      <td>2024-07-04T19:22:32.000Z</td>\n",
       "      <td>finished</td>\n",
       "      <td>47</td>\n",
       "      <td>2024-07-04T19:23:19.000Z</td>\n",
       "      <td>test_mean_norman_0.0</td>\n",
       "      <td>eval, mean, norman, raw_expression, replicate_...</td>\n",
       "      <td>NaN</td>\n",
       "      <td>0.058753</td>\n",
       "      <td>NaN</td>\n",
       "      <td>...</td>\n",
       "      <td>NaN</td>\n",
       "      <td>NaN</td>\n",
       "      <td>NaN</td>\n",
       "      <td>1</td>\n",
       "      <td>cpu</td>\n",
       "      <td>20</td>\n",
       "      <td>NaN</td>\n",
       "      <td>NaN</td>\n",
       "      <td>NaN</td>\n",
       "      <td>NaN</td>\n",
       "    </tr>\n",
       "  </tbody>\n",
       "</table>\n",
       "<p>24 rows × 23 columns</p>\n",
       "</div>"
      ]
     },
     "execution_count": 4,
     "metadata": {},
     "output_type": "execute_result"
    }
   ],
   "execution_count": 4
  },
  {
   "cell_type": "code",
   "metadata": {
    "ExecuteTime": {
     "end_time": "2024-07-16T10:17:41.063090Z",
     "start_time": "2024-07-16T10:17:41.055198Z"
    }
   },
   "source": "df_uce.head()",
   "outputs": [
    {
     "data": {
      "text/plain": [
       "                   Name                                           Tags  \\\n",
       "0        comfy-bush-157  hpo, mlp, norman, replicate_1, split_0.0, uce   \n",
       "1  blooming-firefly-156  hpo, mlp, norman, replicate_2, split_0.0, uce   \n",
       "2    vibrant-durian-154  hpo, mlp, norman, replicate_0, split_0.0, uce   \n",
       "3          dark-sun-174  hpo, mlp, norman, replicate_1, split_0.1, uce   \n",
       "4     decent-monkey-173  hpo, mlp, norman, replicate_2, split_0.1, uce   \n",
       "\n",
       "         ID     State Notes  User           Group  Job Type  \\\n",
       "0  77jprb1j  finished     -   NaN  mlp_norman_0.0       NaN   \n",
       "1  3hse70sy  finished     -   NaN  mlp_norman_0.0       NaN   \n",
       "2  huh2rcsg  finished     -   NaN  mlp_norman_0.0       NaN   \n",
       "3  gdf259uk  finished     -   NaN  mlp_norman_0.1       NaN   \n",
       "4  42l9mg7t  finished     -   NaN  mlp_norman_0.1       NaN   \n",
       "\n",
       "                    Created                  End Time  ...  \\\n",
       "0  2024-06-06T06:18:13.000Z  2024-06-06T06:31:39.000Z  ...   \n",
       "1  2024-06-06T06:18:12.000Z  2024-06-06T06:31:32.000Z  ...   \n",
       "2  2024-06-06T06:17:32.000Z  2024-06-06T06:23:02.000Z  ...   \n",
       "3  2024-06-06T06:32:08.000Z  2024-06-06T06:44:39.000Z  ...   \n",
       "4  2024-06-06T06:32:05.000Z  2024-06-06T06:44:31.000Z  ...   \n",
       "\n",
       "   trainer.accelerator  trainer.check_val_every_n_epoch  \\\n",
       "0                  gpu                                1   \n",
       "1                  gpu                                1   \n",
       "2                  gpu                                1   \n",
       "3                  gpu                                1   \n",
       "4                  gpu                                1   \n",
       "\n",
       "  trainer.default_root_dir  trainer.deterministic  trainer.devices  \\\n",
       "0      ${paths.output_dir}                  False                1   \n",
       "1      ${paths.output_dir}                  False                1   \n",
       "2      ${paths.output_dir}                  False                1   \n",
       "3      ${paths.output_dir}                  False                1   \n",
       "4      ${paths.output_dir}                  False                1   \n",
       "\n",
       "   trainer.max_epochs  trainer.min_epochs trainer.num_sanity_val_steps  \\\n",
       "0                 100                   1                            0   \n",
       "1                 100                   1                            0   \n",
       "2                 100                   1                            0   \n",
       "3                 100                   1                            0   \n",
       "4                 100                   1                            0   \n",
       "\n",
       "    lr-Adam  trainer/global_step  \n",
       "0  0.000005                14877  \n",
       "1  0.000005                15064  \n",
       "2  0.000005                15120  \n",
       "3  0.000005                12690  \n",
       "4  0.000005                12615  \n",
       "\n",
       "[5 rows x 96 columns]"
      ],
      "text/html": [
       "<div>\n",
       "<style scoped>\n",
       "    .dataframe tbody tr th:only-of-type {\n",
       "        vertical-align: middle;\n",
       "    }\n",
       "\n",
       "    .dataframe tbody tr th {\n",
       "        vertical-align: top;\n",
       "    }\n",
       "\n",
       "    .dataframe thead th {\n",
       "        text-align: right;\n",
       "    }\n",
       "</style>\n",
       "<table border=\"1\" class=\"dataframe\">\n",
       "  <thead>\n",
       "    <tr style=\"text-align: right;\">\n",
       "      <th></th>\n",
       "      <th>Name</th>\n",
       "      <th>Tags</th>\n",
       "      <th>ID</th>\n",
       "      <th>State</th>\n",
       "      <th>Notes</th>\n",
       "      <th>User</th>\n",
       "      <th>Group</th>\n",
       "      <th>Job Type</th>\n",
       "      <th>Created</th>\n",
       "      <th>End Time</th>\n",
       "      <th>...</th>\n",
       "      <th>trainer.accelerator</th>\n",
       "      <th>trainer.check_val_every_n_epoch</th>\n",
       "      <th>trainer.default_root_dir</th>\n",
       "      <th>trainer.deterministic</th>\n",
       "      <th>trainer.devices</th>\n",
       "      <th>trainer.max_epochs</th>\n",
       "      <th>trainer.min_epochs</th>\n",
       "      <th>trainer.num_sanity_val_steps</th>\n",
       "      <th>lr-Adam</th>\n",
       "      <th>trainer/global_step</th>\n",
       "    </tr>\n",
       "  </thead>\n",
       "  <tbody>\n",
       "    <tr>\n",
       "      <th>0</th>\n",
       "      <td>comfy-bush-157</td>\n",
       "      <td>hpo, mlp, norman, replicate_1, split_0.0, uce</td>\n",
       "      <td>77jprb1j</td>\n",
       "      <td>finished</td>\n",
       "      <td>-</td>\n",
       "      <td>NaN</td>\n",
       "      <td>mlp_norman_0.0</td>\n",
       "      <td>NaN</td>\n",
       "      <td>2024-06-06T06:18:13.000Z</td>\n",
       "      <td>2024-06-06T06:31:39.000Z</td>\n",
       "      <td>...</td>\n",
       "      <td>gpu</td>\n",
       "      <td>1</td>\n",
       "      <td>${paths.output_dir}</td>\n",
       "      <td>False</td>\n",
       "      <td>1</td>\n",
       "      <td>100</td>\n",
       "      <td>1</td>\n",
       "      <td>0</td>\n",
       "      <td>0.000005</td>\n",
       "      <td>14877</td>\n",
       "    </tr>\n",
       "    <tr>\n",
       "      <th>1</th>\n",
       "      <td>blooming-firefly-156</td>\n",
       "      <td>hpo, mlp, norman, replicate_2, split_0.0, uce</td>\n",
       "      <td>3hse70sy</td>\n",
       "      <td>finished</td>\n",
       "      <td>-</td>\n",
       "      <td>NaN</td>\n",
       "      <td>mlp_norman_0.0</td>\n",
       "      <td>NaN</td>\n",
       "      <td>2024-06-06T06:18:12.000Z</td>\n",
       "      <td>2024-06-06T06:31:32.000Z</td>\n",
       "      <td>...</td>\n",
       "      <td>gpu</td>\n",
       "      <td>1</td>\n",
       "      <td>${paths.output_dir}</td>\n",
       "      <td>False</td>\n",
       "      <td>1</td>\n",
       "      <td>100</td>\n",
       "      <td>1</td>\n",
       "      <td>0</td>\n",
       "      <td>0.000005</td>\n",
       "      <td>15064</td>\n",
       "    </tr>\n",
       "    <tr>\n",
       "      <th>2</th>\n",
       "      <td>vibrant-durian-154</td>\n",
       "      <td>hpo, mlp, norman, replicate_0, split_0.0, uce</td>\n",
       "      <td>huh2rcsg</td>\n",
       "      <td>finished</td>\n",
       "      <td>-</td>\n",
       "      <td>NaN</td>\n",
       "      <td>mlp_norman_0.0</td>\n",
       "      <td>NaN</td>\n",
       "      <td>2024-06-06T06:17:32.000Z</td>\n",
       "      <td>2024-06-06T06:23:02.000Z</td>\n",
       "      <td>...</td>\n",
       "      <td>gpu</td>\n",
       "      <td>1</td>\n",
       "      <td>${paths.output_dir}</td>\n",
       "      <td>False</td>\n",
       "      <td>1</td>\n",
       "      <td>100</td>\n",
       "      <td>1</td>\n",
       "      <td>0</td>\n",
       "      <td>0.000005</td>\n",
       "      <td>15120</td>\n",
       "    </tr>\n",
       "    <tr>\n",
       "      <th>3</th>\n",
       "      <td>dark-sun-174</td>\n",
       "      <td>hpo, mlp, norman, replicate_1, split_0.1, uce</td>\n",
       "      <td>gdf259uk</td>\n",
       "      <td>finished</td>\n",
       "      <td>-</td>\n",
       "      <td>NaN</td>\n",
       "      <td>mlp_norman_0.1</td>\n",
       "      <td>NaN</td>\n",
       "      <td>2024-06-06T06:32:08.000Z</td>\n",
       "      <td>2024-06-06T06:44:39.000Z</td>\n",
       "      <td>...</td>\n",
       "      <td>gpu</td>\n",
       "      <td>1</td>\n",
       "      <td>${paths.output_dir}</td>\n",
       "      <td>False</td>\n",
       "      <td>1</td>\n",
       "      <td>100</td>\n",
       "      <td>1</td>\n",
       "      <td>0</td>\n",
       "      <td>0.000005</td>\n",
       "      <td>12690</td>\n",
       "    </tr>\n",
       "    <tr>\n",
       "      <th>4</th>\n",
       "      <td>decent-monkey-173</td>\n",
       "      <td>hpo, mlp, norman, replicate_2, split_0.1, uce</td>\n",
       "      <td>42l9mg7t</td>\n",
       "      <td>finished</td>\n",
       "      <td>-</td>\n",
       "      <td>NaN</td>\n",
       "      <td>mlp_norman_0.1</td>\n",
       "      <td>NaN</td>\n",
       "      <td>2024-06-06T06:32:05.000Z</td>\n",
       "      <td>2024-06-06T06:44:31.000Z</td>\n",
       "      <td>...</td>\n",
       "      <td>gpu</td>\n",
       "      <td>1</td>\n",
       "      <td>${paths.output_dir}</td>\n",
       "      <td>False</td>\n",
       "      <td>1</td>\n",
       "      <td>100</td>\n",
       "      <td>1</td>\n",
       "      <td>0</td>\n",
       "      <td>0.000005</td>\n",
       "      <td>12615</td>\n",
       "    </tr>\n",
       "  </tbody>\n",
       "</table>\n",
       "<p>5 rows × 96 columns</p>\n",
       "</div>"
      ]
     },
     "execution_count": 5,
     "metadata": {},
     "output_type": "execute_result"
    }
   ],
   "execution_count": 5
  },
  {
   "metadata": {
    "ExecuteTime": {
     "end_time": "2024-07-16T10:17:41.068855Z",
     "start_time": "2024-07-16T10:17:41.064021Z"
    }
   },
   "cell_type": "code",
   "source": "df_scgpt.head()",
   "outputs": [
    {
     "data": {
      "text/plain": [
       "                      Name                                               Tags  \\\n",
       "0           rose-sunset-38  IKZF3_de, eval, mlp, norman, replicate_1, scgp...   \n",
       "1       polar-waterfall-35  SLC4A1_de, eval, mlp, norman, replicate_2, scg...   \n",
       "2         charmed-fire-154           hpo, mlp, norman, replicate_0, split_0.7   \n",
       "3  visionary-spaceship-153           hpo, mlp, norman, replicate_1, split_0.7   \n",
       "4          olive-salad-152           hpo, mlp, norman, replicate_0, split_0.6   \n",
       "\n",
       "                 Group                   Created  Runtime  test/mse  \\\n",
       "0  test_mlp_norman_0.7  2024-06-06T06:14:03.000Z       30       NaN   \n",
       "1  test_mlp_norman_0.0  2024-06-06T06:02:33.000Z       33       NaN   \n",
       "2       mlp_norman_0.7  2024-06-06T05:44:32.000Z       74  0.082474   \n",
       "3       mlp_norman_0.7  2024-06-06T05:33:21.000Z       56  0.269525   \n",
       "4       mlp_norman_0.6  2024-06-06T05:32:09.000Z       59  0.204363   \n",
       "\n",
       "   test_baseline/mse  test_de/mse  train/mse   val/mse  model.optimizer.lr  \\\n",
       "0           4.769367     4.788578        NaN       NaN            0.001000   \n",
       "1           0.232880     0.236304        NaN       NaN            0.001000   \n",
       "2                NaN          NaN   0.063037  0.063802            0.000005   \n",
       "3                NaN          NaN   0.258051  0.256108            0.000005   \n",
       "4                NaN          NaN   0.198647  0.198320            0.000005   \n",
       "\n",
       "   data.replicate  \n",
       "0               1  \n",
       "1               2  \n",
       "2               2  \n",
       "3               1  \n",
       "4               0  "
      ],
      "text/html": [
       "<div>\n",
       "<style scoped>\n",
       "    .dataframe tbody tr th:only-of-type {\n",
       "        vertical-align: middle;\n",
       "    }\n",
       "\n",
       "    .dataframe tbody tr th {\n",
       "        vertical-align: top;\n",
       "    }\n",
       "\n",
       "    .dataframe thead th {\n",
       "        text-align: right;\n",
       "    }\n",
       "</style>\n",
       "<table border=\"1\" class=\"dataframe\">\n",
       "  <thead>\n",
       "    <tr style=\"text-align: right;\">\n",
       "      <th></th>\n",
       "      <th>Name</th>\n",
       "      <th>Tags</th>\n",
       "      <th>Group</th>\n",
       "      <th>Created</th>\n",
       "      <th>Runtime</th>\n",
       "      <th>test/mse</th>\n",
       "      <th>test_baseline/mse</th>\n",
       "      <th>test_de/mse</th>\n",
       "      <th>train/mse</th>\n",
       "      <th>val/mse</th>\n",
       "      <th>model.optimizer.lr</th>\n",
       "      <th>data.replicate</th>\n",
       "    </tr>\n",
       "  </thead>\n",
       "  <tbody>\n",
       "    <tr>\n",
       "      <th>0</th>\n",
       "      <td>rose-sunset-38</td>\n",
       "      <td>IKZF3_de, eval, mlp, norman, replicate_1, scgp...</td>\n",
       "      <td>test_mlp_norman_0.7</td>\n",
       "      <td>2024-06-06T06:14:03.000Z</td>\n",
       "      <td>30</td>\n",
       "      <td>NaN</td>\n",
       "      <td>4.769367</td>\n",
       "      <td>4.788578</td>\n",
       "      <td>NaN</td>\n",
       "      <td>NaN</td>\n",
       "      <td>0.001000</td>\n",
       "      <td>1</td>\n",
       "    </tr>\n",
       "    <tr>\n",
       "      <th>1</th>\n",
       "      <td>polar-waterfall-35</td>\n",
       "      <td>SLC4A1_de, eval, mlp, norman, replicate_2, scg...</td>\n",
       "      <td>test_mlp_norman_0.0</td>\n",
       "      <td>2024-06-06T06:02:33.000Z</td>\n",
       "      <td>33</td>\n",
       "      <td>NaN</td>\n",
       "      <td>0.232880</td>\n",
       "      <td>0.236304</td>\n",
       "      <td>NaN</td>\n",
       "      <td>NaN</td>\n",
       "      <td>0.001000</td>\n",
       "      <td>2</td>\n",
       "    </tr>\n",
       "    <tr>\n",
       "      <th>2</th>\n",
       "      <td>charmed-fire-154</td>\n",
       "      <td>hpo, mlp, norman, replicate_0, split_0.7</td>\n",
       "      <td>mlp_norman_0.7</td>\n",
       "      <td>2024-06-06T05:44:32.000Z</td>\n",
       "      <td>74</td>\n",
       "      <td>0.082474</td>\n",
       "      <td>NaN</td>\n",
       "      <td>NaN</td>\n",
       "      <td>0.063037</td>\n",
       "      <td>0.063802</td>\n",
       "      <td>0.000005</td>\n",
       "      <td>2</td>\n",
       "    </tr>\n",
       "    <tr>\n",
       "      <th>3</th>\n",
       "      <td>visionary-spaceship-153</td>\n",
       "      <td>hpo, mlp, norman, replicate_1, split_0.7</td>\n",
       "      <td>mlp_norman_0.7</td>\n",
       "      <td>2024-06-06T05:33:21.000Z</td>\n",
       "      <td>56</td>\n",
       "      <td>0.269525</td>\n",
       "      <td>NaN</td>\n",
       "      <td>NaN</td>\n",
       "      <td>0.258051</td>\n",
       "      <td>0.256108</td>\n",
       "      <td>0.000005</td>\n",
       "      <td>1</td>\n",
       "    </tr>\n",
       "    <tr>\n",
       "      <th>4</th>\n",
       "      <td>olive-salad-152</td>\n",
       "      <td>hpo, mlp, norman, replicate_0, split_0.6</td>\n",
       "      <td>mlp_norman_0.6</td>\n",
       "      <td>2024-06-06T05:32:09.000Z</td>\n",
       "      <td>59</td>\n",
       "      <td>0.204363</td>\n",
       "      <td>NaN</td>\n",
       "      <td>NaN</td>\n",
       "      <td>0.198647</td>\n",
       "      <td>0.198320</td>\n",
       "      <td>0.000005</td>\n",
       "      <td>0</td>\n",
       "    </tr>\n",
       "  </tbody>\n",
       "</table>\n",
       "</div>"
      ]
     },
     "execution_count": 6,
     "metadata": {},
     "output_type": "execute_result"
    }
   ],
   "execution_count": 6
  },
  {
   "cell_type": "markdown",
   "metadata": {},
   "source": [
    "plt.style.use(\"seaborn\")"
   ]
  },
  {
   "cell_type": "markdown",
   "metadata": {},
   "source": [
    "## MSE plots for spectral params"
   ]
  },
  {
   "cell_type": "code",
   "metadata": {
    "ExecuteTime": {
     "end_time": "2024-07-16T10:17:42.846564Z",
     "start_time": "2024-07-16T10:17:42.837873Z"
    }
   },
   "source": [
    "spectral_params = ['0.0', '0.1', '0.2', '0.3', '0.4', '0.5', '0.6', '0.7'] #'0.8']\n",
    "def find_mets_by_spectral_params(model, metric_name, raw_data):\n",
    "    '''find tabular metrics grouped by the spectral params'''\n",
    "    met_by_sp = {}\n",
    "    for sp in spectral_params:\n",
    "        debug_check = f\"{model}_{sp}\"\n",
    "        sp_sub = raw_data[raw_data['Group'] == f'{model}_{sp}']\n",
    "        # if sp_sub[metric_name].isna().all():\n",
    "        #     met_by_sp[f'{model}_{sp}'] = sp_sub['test/rmse'].values\n",
    "        # else:\n",
    "        met_by_sp[f'{model}_{sp}'] = sp_sub[metric_name].values\n",
    "    return pd.DataFrame(met_by_sp)\n",
    "\n",
    "def find_spectral_auc(metric_df):\n",
    "    x = np.array(spectral_params, dtype='float')\n",
    "    y = metric_df.mean() \n",
    "    yerr = metric_df.std() / (len(metric_df) ** 0.5 ) #Standard error for err bar\n",
    "    mean_yerr = yerr.mean()\n",
    "    return auc(x, y), mean_yerr\n",
    "\n",
    "def plot_spectral_curve(metric_df, err='standard_error', zero_ylb=False, shading=True, errbar=True, c=\"#D1E7FF\", alpha=0.8,\n",
    "                        plot_shading_c_same=True):\n",
    "    x = np.array(spectral_params, dtype='float')\n",
    "    y = metric_df.mean()\n",
    "    if err == 'standard_error':\n",
    "        yerr = metric_df.std() / (len(metric_df) ** 0.5 ) #Standard error for err bar \n",
    "    \n",
    "    if errbar: #safe to remove if we go with fill_between for errors\n",
    "        plt.errorbar(x, y, yerr=yerr, color='k', capsize = 3,elinewidth=1.5, linewidth=1.0)    \n",
    "    else:\n",
    "        if plot_shading_c_same:\n",
    "            plot_c = c\n",
    "        else:\n",
    "            plot_c = 'k'\n",
    "        plt.plot(x, y, color=plot_c, linestyle='dashed', marker='o', linewidth=0.5)\n",
    "        y_lower = y - yerr\n",
    "        y_upper = y + yerr\n",
    "        plt.fill_between(x, y_lower, y_upper, color=c, alpha=alpha, \n",
    "        #edgecolor='#aad3ff'\n",
    "        )\n",
    "    axes = plt.gca()\n",
    "    y_min, _ = axes.get_ylim()\n",
    "    #\n",
    "    if zero_ylb:\n",
    "        y_min = 0\n",
    "    if shading:\n",
    "        plt.fill_between(x=x, y1=y, y2=y_min, color= \"#D1E7FF\", alpha=1.0)\n",
    "    \n",
    "    plt.xlabel('Sparsification Probability')\n",
    "    plt.ylabel('MSE')\n",
    "\n",
    "\n",
    "def find_auspc_table(all_model_raw_dfs, model_names, probe_model_ds='mlp_norman', metric_name='test/mse'):\n",
    "    '''probe_model_ds named in Group col in df above \n",
    "    metric_name  name of col for metric of intrest\n",
    "    '''\n",
    "    table_auc = {}\n",
    "    table_yerr = {}\n",
    "    for m_name, dft in zip(model_names, all_model_raw_dfs):\n",
    "        if m_name != 'Mean baseline':\n",
    "            auc, yerr = find_spectral_auc(find_mets_by_spectral_params(probe_model_ds, metric_name, dft))\n",
    "        else:\n",
    "            auc, yerr = find_spectral_auc(find_mets_by_spectral_params(\"test_mean_norman\", metric_name, dft))\n",
    "            \n",
    "        table_auc[m_name] = auc\n",
    "        table_yerr[m_name] = yerr\n",
    "    return table_auc, table_yerr"
   ],
   "outputs": [],
   "execution_count": 7
  },
  {
   "cell_type": "code",
   "metadata": {
    "ExecuteTime": {
     "end_time": "2024-07-16T10:20:56.489719Z",
     "start_time": "2024-07-16T10:20:56.466152Z"
    }
   },
   "source": [
    "probe_model_ds = 'mlp_norman' #as named in Group col in df above\n",
    "metric_name  = 'test/mse' #name of col for metric of intrest\n",
    "test_mse = find_mets_by_spectral_params(probe_model_ds, metric_name, df)\n",
    "test_mse_scgpt = find_mets_by_spectral_params(probe_model_ds, metric_name, df_scgpt)\n",
    "test_mse_scbert = find_mets_by_spectral_params(probe_model_ds, metric_name, df_scbert)\n",
    "test_mse_gf = find_mets_by_spectral_params(probe_model_ds, metric_name, df_gf)\n",
    "test_mse_uce = find_mets_by_spectral_params(probe_model_ds, metric_name, df_uce)\n",
    "test_mse_mean = find_mets_by_spectral_params(\"test_mean_norman\", metric_name, df_mean)\n",
    "\n",
    "find_spectral_auc(test_mse), find_spectral_auc(test_mse_scbert), find_spectral_auc(test_mse_scgpt), find_spectral_auc(test_mse_gf), find_spectral_auc(test_mse_uce), find_spectral_auc(test_mse_mean)"
   ],
   "outputs": [
    {
     "data": {
      "text/plain": [
       "((0.04582182324180996, 0.002822225544212864),\n",
       " (0.046432694233953915, 0.0034422529623271154),\n",
       " (0.054449938237667056, 0.015441335782538222),\n",
       " (0.04651279722650843, 0.003086406005235603),\n",
       " (0.04647184285968472, 0.0031153169450602613),\n",
       " (0.04611667400846875, 0.003171203390603614))"
      ]
     },
     "execution_count": 27,
     "metadata": {},
     "output_type": "execute_result"
    }
   ],
   "execution_count": 27
  },
  {
   "metadata": {
    "ExecuteTime": {
     "end_time": "2024-07-16T10:17:44.913868Z",
     "start_time": "2024-07-16T10:17:44.909582Z"
    }
   },
   "cell_type": "code",
   "source": "probe_model_ds",
   "outputs": [
    {
     "data": {
      "text/plain": [
       "'mlp_norman'"
      ]
     },
     "execution_count": 9,
     "metadata": {},
     "output_type": "execute_result"
    }
   ],
   "execution_count": 9
  },
  {
   "metadata": {
    "ExecuteTime": {
     "end_time": "2024-07-16T10:20:43.689892Z",
     "start_time": "2024-07-16T10:20:43.683606Z"
    }
   },
   "cell_type": "code",
   "source": [
    "test_mse_mean = find_mets_by_spectral_params(probe_model_ds, metric_name, df_mean)\n",
    "find_spectral_auc(test_mse_mean)"
   ],
   "outputs": [
    {
     "data": {
      "text/plain": [
       "(nan, nan)"
      ]
     },
     "execution_count": 26,
     "metadata": {},
     "output_type": "execute_result"
    }
   ],
   "execution_count": 26
  },
  {
   "cell_type": "code",
   "metadata": {
    "ExecuteTime": {
     "end_time": "2024-07-16T10:17:50.369024Z",
     "start_time": "2024-07-16T10:17:50.354902Z"
    }
   },
   "source": [
    "auc_table, yerr_table = find_auspc_table([df, df_scbert, df_scgpt, df_gf, df_uce, df_mean], model_names=['MLP gene expression', 'scbert', 'scgpt', 'gf', 'uce', 'Mean baseline'])\n",
    "auc_table = pd.Series(auc_table).sort_values()"
   ],
   "outputs": [],
   "execution_count": 11
  },
  {
   "cell_type": "code",
   "metadata": {
    "ExecuteTime": {
     "end_time": "2024-07-16T10:17:50.805744Z",
     "start_time": "2024-07-16T10:17:50.802080Z"
    }
   },
   "source": "auc_table",
   "outputs": [
    {
     "data": {
      "text/plain": [
       "MLP gene expression    0.045822\n",
       "Mean baseline          0.046117\n",
       "scbert                 0.046433\n",
       "uce                    0.046472\n",
       "gf                     0.046513\n",
       "scgpt                  0.054450\n",
       "dtype: float64"
      ]
     },
     "execution_count": 12,
     "metadata": {},
     "output_type": "execute_result"
    }
   ],
   "execution_count": 12
  },
  {
   "cell_type": "markdown",
   "metadata": {},
   "source": [
    "### Box plot for aucpr"
   ]
  },
  {
   "metadata": {
    "ExecuteTime": {
     "end_time": "2024-07-16T10:17:52.301179Z",
     "start_time": "2024-07-16T10:17:51.986220Z"
    }
   },
   "cell_type": "code",
   "source": "table",
   "outputs": [
    {
     "ename": "NameError",
     "evalue": "name 'table' is not defined",
     "output_type": "error",
     "traceback": [
      "\u001B[0;31m---------------------------------------------------------------------------\u001B[0m",
      "\u001B[0;31mNameError\u001B[0m                                 Traceback (most recent call last)",
      "Cell \u001B[0;32mIn[13], line 1\u001B[0m\n\u001B[0;32m----> 1\u001B[0m \u001B[43mtable\u001B[49m\n",
      "\u001B[0;31mNameError\u001B[0m: name 'table' is not defined"
     ]
    }
   ],
   "execution_count": 13
  },
  {
   "cell_type": "code",
   "metadata": {
    "ExecuteTime": {
     "end_time": "2024-07-16T10:17:54.388581Z",
     "start_time": "2024-07-16T10:17:54.142801Z"
    }
   },
   "source": [
    "plt.figure(figsize=(3, 3))\n",
    "table, yerr = find_auspc_table([df_mean, df, df_scbert, df_scgpt, df_gf, df_uce, df_scgpt], model_names=['Mean baseline', 'MLP baseline', 'scBERT', 'scGPT', 'Geneformer', 'UCE'])\n",
    "table = pd.Series(table).sort_values()\n",
    "\n",
    "# Extract yerr values in the same order as the sorted table\n",
    "yerr_values = [yerr[model] for model in table.index]\n",
    "\n",
    "# Use the custom dark blue colormap\n",
    "cmap = load_cmap('Classic_10')\n",
    "bar_colors = [cmap(i/5) for i in range(6)]\n",
    "width = 0.5\n",
    "\n",
    "yerr_top_only = ([0] * len(yerr_values), yerr_values)\n",
    "print(yerr_top_only)\n",
    "\n",
    "# Add error bars to the bar plot\n",
    "bars = plt.bar(table.index, table, width, color=bar_colors, alpha=1.0, yerr=yerr_top_only, capsize=2, linewidth=1, edgecolor='black', ecolor='black')\n",
    "\n",
    "plt.ylabel('AUSPC')\n",
    "plt.xticks(rotation=90)\n",
    "plt.ylim(0.0, 0.08)\n",
    "plt.tight_layout()\n",
    "plt.savefig('paper_figs/auspc_bar_1.pdf', dpi=300)\n",
    "plt.show()"
   ],
   "outputs": [
    {
     "name": "stdout",
     "output_type": "stream",
     "text": [
      "([0, 0, 0, 0, 0, 0], [0.002822225544212864, 0.003171203390603614, 0.0034422529623271154, 0.0031153169450602613, 0.003086406005235603, 0.015441335782538222])\n"
     ]
    },
    {
     "data": {
      "text/plain": [
       "<Figure size 300x300 with 1 Axes>"
      ],
      "image/png": "[encoded data removed]"
     },
     "metadata": {},
     "output_type": "display_data"
    }
   ],
   "execution_count": 14
  },
  {
   "cell_type": "code",
   "metadata": {
    "ExecuteTime": {
     "end_time": "2024-07-16T10:17:57.006168Z",
     "start_time": "2024-07-16T10:17:56.985734Z"
    }
   },
   "source": [
    "((test_mse - test_mse_scgpt) > 0).sum().sum() #scgpt only beats baseline for 2 splits"
   ],
   "outputs": [
    {
     "data": {
      "text/plain": [
       "9"
      ]
     },
     "execution_count": 15,
     "metadata": {},
     "output_type": "execute_result"
    }
   ],
   "execution_count": 15
  },
  {
   "cell_type": "code",
   "metadata": {
    "ExecuteTime": {
     "end_time": "2024-07-16T10:17:57.633133Z",
     "start_time": "2024-07-16T10:17:57.629996Z"
    }
   },
   "source": [
    "((test_mse - test_mse_gf) > 0).sum().sum()  #gf beats baseline for 6 splits,"
   ],
   "outputs": [
    {
     "data": {
      "text/plain": [
       "11"
      ]
     },
     "execution_count": 16,
     "metadata": {},
     "output_type": "execute_result"
    }
   ],
   "execution_count": 16
  },
  {
   "cell_type": "code",
   "metadata": {
    "ExecuteTime": {
     "end_time": "2024-07-16T10:17:58.008249Z",
     "start_time": "2024-07-16T10:17:58.003265Z"
    }
   },
   "source": [
    "find_spectral_auc(test_mse_gf[test_mse_gf < 0.1]), find_spectral_auc(test_mse_scgpt[test_mse_scgpt < 0.1])"
   ],
   "outputs": [
    {
     "data": {
      "text/plain": [
       "((0.04651279722650843, 0.003086406005235603),\n",
       " (0.046918558143079256, 0.0032520311826646268))"
      ]
     },
     "execution_count": 17,
     "metadata": {},
     "output_type": "execute_result"
    }
   ],
   "execution_count": 17
  },
  {
   "cell_type": "markdown",
   "metadata": {},
   "source": [
    "#### auc table and plots"
   ]
  },
  {
   "cell_type": "code",
   "metadata": {
    "ExecuteTime": {
     "end_time": "2024-07-16T10:17:59.521684Z",
     "start_time": "2024-07-16T10:17:59.393517Z"
    }
   },
   "source": [
    "#current plot that we think well use\n",
    "plt.style.use('default')\n",
    "plot_spectral_curve(test_mse, shading=True, errbar=True, plot_shading_c_same=False)\n",
    "plt.savefig('paper_figs/baseline_full_spec_curve.pdf', dpi=300)\n",
    "plt.show()"
   ],
   "outputs": [
    {
     "data": {
      "text/plain": [
       "<Figure size 640x480 with 1 Axes>"
      ],
      "image/png": "[encoded data removed]"
     },
     "metadata": {},
     "output_type": "display_data"
    }
   ],
   "execution_count": 18
  },
  {
   "cell_type": "code",
   "metadata": {
    "ExecuteTime": {
     "end_time": "2024-07-16T10:18:00.614734Z",
     "start_time": "2024-07-16T10:18:00.530356Z"
    }
   },
   "source": [
    "plot_spectral_curve(test_mse_mean, shading=True, errbar=True, plot_shading_c_same=False)\n",
    "plt.savefig('paper_figs/mean_full_spec_curve.pdf', dpi=300)"
   ],
   "outputs": [
    {
     "data": {
      "text/plain": [
       "<Figure size 640x480 with 1 Axes>"
      ],
      "image/png": "[encoded data removed]"
     },
     "metadata": {},
     "output_type": "display_data"
    }
   ],
   "execution_count": 19
  },
  {
   "cell_type": "code",
   "metadata": {
    "ExecuteTime": {
     "end_time": "2024-07-16T10:18:01.493227Z",
     "start_time": "2024-07-16T10:18:01.405291Z"
    }
   },
   "source": [
    "n_models = 3\n",
    "cmap = plt.cm.get_cmap('tab20b', n_models) \n",
    "bar_colors = [cmap(i) for i in range(n_models)]\n",
    "alpha = 1\n",
    "plot_spectral_curve(test_mse, shading=False, errbar=False, c=bar_colors[0], alpha=alpha* 0.1)\n",
    "plot_spectral_curve(test_mse_scgpt, shading=False, errbar=False, c=bar_colors[1], alpha=alpha * 0.1)\n",
    "#plot_spectral_curve(test_mse_scgpt, shading=False, errbar=False, c=bar_colors[1], alpha=alpha * 0.1)\n",
    "plot_spectral_curve(test_mse_gf, shading=False, errbar=False, c=bar_colors[2], alpha=alpha * 0.1)\n",
    "#plt.yscale('log',  base=2)"
   ],
   "outputs": [
    {
     "name": "stderr",
     "output_type": "stream",
     "text": [
      "/var/folders/km/jgnm5nbx7tg_j37y7_0657q00000gn/T/ipykernel_96720/3025055262.py:2: MatplotlibDeprecationWarning: The get_cmap function was deprecated in Matplotlib 3.7 and will be removed two minor releases later. Use ``matplotlib.colormaps[name]`` or ``matplotlib.colormaps.get_cmap(obj)`` instead.\n",
      "  cmap = plt.cm.get_cmap('tab20b', n_models)\n"
     ]
    },
    {
     "data": {
      "text/plain": [
       "<Figure size 640x480 with 1 Axes>"
      ],
      "image/png": "[encoded data removed]"
     },
     "metadata": {},
     "output_type": "display_data"
    }
   ],
   "execution_count": 20
  },
  {
   "cell_type": "markdown",
   "metadata": {},
   "source": [
    "### Above but with bar plots instead of scatter plots"
   ]
  },
  {
   "cell_type": "code",
   "metadata": {
    "ExecuteTime": {
     "end_time": "2024-07-16T10:18:03.076643Z",
     "start_time": "2024-07-16T10:18:03.073825Z"
    }
   },
   "source": [
    "model_names=['Baseline', 'UCE', 'Geneformer', 'scGPT', 'scBERT']\n",
    "model_mses = [test_mse, test_mse_uce, test_mse_gf, test_mse_scgpt, test_mse_scbert]"
   ],
   "outputs": [],
   "execution_count": 21
  },
  {
   "cell_type": "code",
   "metadata": {
    "ExecuteTime": {
     "end_time": "2024-07-16T10:18:03.853671Z",
     "start_time": "2024-07-16T10:18:03.850338Z"
    }
   },
   "source": [
    "np.arange(-len(model_names)/2 + 1, len(model_names)/2 - 0.5, 0.5) "
   ],
   "outputs": [
    {
     "data": {
      "text/plain": [
       "array([-1.5, -1. , -0.5,  0. ,  0.5,  1. ,  1.5])"
      ]
     },
     "execution_count": 22,
     "metadata": {},
     "output_type": "execute_result"
    }
   ],
   "execution_count": 22
  },
  {
   "cell_type": "code",
   "metadata": {
    "ExecuteTime": {
     "end_time": "2024-07-16T10:18:04.366121Z",
     "start_time": "2024-07-16T10:18:04.338326Z"
    }
   },
   "source": [
    "len(model_names), len(dists_from_cent)"
   ],
   "outputs": [
    {
     "ename": "NameError",
     "evalue": "name 'dists_from_cent' is not defined",
     "output_type": "error",
     "traceback": [
      "\u001B[0;31m---------------------------------------------------------------------------\u001B[0m",
      "\u001B[0;31mNameError\u001B[0m                                 Traceback (most recent call last)",
      "Cell \u001B[0;32mIn[23], line 1\u001B[0m\n\u001B[0;32m----> 1\u001B[0m \u001B[38;5;28mlen\u001B[39m(model_names), \u001B[38;5;28mlen\u001B[39m(\u001B[43mdists_from_cent\u001B[49m)\n",
      "\u001B[0;31mNameError\u001B[0m: name 'dists_from_cent' is not defined"
     ]
    }
   ],
   "execution_count": 23
  },
  {
   "cell_type": "code",
   "metadata": {
    "ExecuteTime": {
     "end_time": "2024-07-16T10:18:05.080750Z",
     "start_time": "2024-07-16T10:18:05.078099Z"
    }
   },
   "source": [],
   "outputs": [],
   "execution_count": 23
  },
  {
   "cell_type": "code",
   "metadata": {
    "ExecuteTime": {
     "end_time": "2024-07-16T10:21:11.277912Z",
     "start_time": "2024-07-16T10:21:11.016326Z"
    }
   },
   "source": [
    "model_names = ['Mean baseline', 'MLP baseline', 'UCE', 'Geneformer', 'scGPT', 'scBERT']\n",
    "model_mses = [test_mse_mean, test_mse, test_mse_uce, test_mse_gf, test_mse_scgpt, test_mse_scbert]\n",
    "\n",
    "\n",
    "spectral_params = ['0.0', '0.1', '0.2', '0.3', '0.4', '0.5', '0.6', '0.7'] \n",
    "x_labels = spectral_params\n",
    "bars = []\n",
    "#dists_from_cent = np.arange(-len(model_names)/2 + 1, len(model_names)/2 - 0.5, 0.5) #needs to be equal to the number of modles with equal spacing\n",
    "dists_from_cent = [-1.25, -0.75, -0.25, 0.25, 0.75, 1.25]  #for 4 modles needs to be manulaly set for a n modles amount\n",
    "plt.figure(figsize=(6, 3))\n",
    "#dists_from_cent = [-0.5, 0, 0.5]\n",
    "#e.g. [-1.5, -0.5, 0,  0.5, 1.5] for modles\n",
    "assert len(dists_from_cent) == len(model_names)\n",
    "pivot = np.arange(len(x_labels)) # pivot points for bars/ticks\n",
    "\n",
    "# viridis = plt.cm.get_cmap('viridis', 256)\n",
    "# newcolors = viridis(np.linspace(0.2, 0.8, 256))\n",
    "# dark_blue = LinearSegmentedColormap.from_list('dark_blue', newcolors)\n",
    "\n",
    "# Use the custom dark blue colormap\n",
    "cmap = load_cmap('Classic_10')\n",
    "bar_colors = [cmap(i/5) for i in range(6)]\n",
    "width = 0.5\n",
    "\n",
    "model_colors = {\n",
    "    'MLP baseline': bar_colors[0],\n",
    "    'Mean baseline': bar_colors[1],\n",
    "    'scBERT': bar_colors[2],\n",
    "    'UCE': bar_colors[3],\n",
    "    'Geneformer': bar_colors[4],\n",
    "    'scGPT': bar_colors[5]\n",
    "}\n",
    "\n",
    "width = 0.1\n",
    "for model, m_mse, dis_from_cent in zip(model_names, model_mses, dists_from_cent):\n",
    "    print(model)\n",
    "    print(m_mse)\n",
    "    c = model_colors[model]\n",
    "    y = m_mse.mean()\n",
    "    bar = [p + (dis_from_cent * width * 2.5) for p in pivot]\n",
    "    bars.append(bar)\n",
    "    plt.barh(bar, y, width, alpha=1.0,\n",
    "    label=model,\n",
    "    color=c,\n",
    "    linewidth=0.3, \n",
    "    edgecolor='black', \n",
    "    ecolor='black'\n",
    "    #yerr=m_mse.std()\n",
    "    )\n",
    "    for rep in m_mse.iterrows():\n",
    "        plt.scatter(rep[1], bar, color=c, edgecolors='black', linewidths=0.1, s=5)\n",
    "\n",
    "plt.yticks(np.arange(8), spectral_params) #rotation='vertical')\n",
    "plt.xlabel('MSE')\n",
    "plt.ylabel('Sparsification Probability')\n",
    "plt.legend(loc='lower right', fontsize=6)\n",
    "#plt.xlim(0.05, 0.17)\n",
    "plt.xlim(0.05, 0.16)\n",
    "#plt.show()\n",
    "#plt.yscale('log',  base=2)\n",
    "#plt.bar(baseline_ba)\n",
    "plt.tight_layout()\n",
    "plt.savefig('paper_figs/bar_all_sp_mse.pdf', dpi=300)\n",
    "plt.show()\n"
   ],
   "outputs": [
    {
     "name": "stdout",
     "output_type": "stream",
     "text": [
      "Mean baseline\n",
      "   test_mean_norman_0.0  test_mean_norman_0.1  test_mean_norman_0.2  \\\n",
      "0              0.057263              0.059230              0.058104   \n",
      "1              0.061470              0.061275              0.058172   \n",
      "2              0.058753              0.064803              0.063119   \n",
      "\n",
      "   test_mean_norman_0.3  test_mean_norman_0.4  test_mean_norman_0.5  \\\n",
      "0              0.071861              0.067978              0.063303   \n",
      "1              0.057770              0.056305              0.064631   \n",
      "2              0.065290              0.062279              0.071820   \n",
      "\n",
      "   test_mean_norman_0.6  test_mean_norman_0.7  \n",
      "0              0.059539              0.080102  \n",
      "1              0.083301              0.081777  \n",
      "2              0.079533              0.091005  \n",
      "MLP baseline\n",
      "   mlp_norman_0.0  mlp_norman_0.1  mlp_norman_0.2  mlp_norman_0.3  \\\n",
      "0        0.058050        0.062443        0.058599        0.058564   \n",
      "1        0.061361        0.063751        0.063129        0.071585   \n",
      "2        0.059055        0.059312        0.059340        0.063496   \n",
      "\n",
      "   mlp_norman_0.4  mlp_norman_0.5  mlp_norman_0.6  mlp_norman_0.7  \n",
      "0        0.057788        0.072450             NaN        0.079012  \n",
      "1        0.062256        0.066525        0.061875        0.091801  \n",
      "2        0.066094        0.063661        0.077482        0.083972  \n",
      "UCE\n",
      "   mlp_norman_0.0  mlp_norman_0.1  mlp_norman_0.2  mlp_norman_0.3  \\\n",
      "0        0.061217        0.065806        0.065031        0.057171   \n",
      "1        0.058391        0.062430        0.061002        0.067764   \n",
      "2        0.058505        0.059493        0.057927        0.072028   \n",
      "\n",
      "   mlp_norman_0.4  mlp_norman_0.5  mlp_norman_0.6  mlp_norman_0.7  \n",
      "0        0.060042        0.070311        0.083474        0.082263  \n",
      "1        0.061470        0.063549        0.060306        0.080918  \n",
      "2        0.070098        0.062683        0.077333        0.091179  \n",
      "Geneformer\n",
      "   mlp_norman_0.0  mlp_norman_0.1  mlp_norman_0.2  mlp_norman_0.3  \\\n",
      "0        0.061251        0.065812        0.065025        0.072014   \n",
      "1        0.058504        0.059483        0.057918        0.067761   \n",
      "2        0.058390        0.062425        0.061009        0.057182   \n",
      "\n",
      "   mlp_norman_0.4  mlp_norman_0.5  mlp_norman_0.6  mlp_norman_0.7  \n",
      "0        0.061518        0.063606        0.060671        0.081285  \n",
      "1        0.060218        0.062604        0.083627        0.083072  \n",
      "2        0.070123        0.070279        0.077169        0.091378  \n",
      "scGPT\n",
      "   mlp_norman_0.0  mlp_norman_0.1  mlp_norman_0.2  mlp_norman_0.3  \\\n",
      "0        0.061429        0.059492        0.057923        0.067773   \n",
      "1        0.059957        0.065787        0.065013        0.071994   \n",
      "2        0.060969        0.062429        0.064927        0.057157   \n",
      "\n",
      "   mlp_norman_0.4  mlp_norman_0.5  mlp_norman_0.6  mlp_norman_0.7  \n",
      "0        0.070126        0.078722        0.204363        0.082474  \n",
      "1        0.061486        0.063591        0.060390        0.269525  \n",
      "2        0.060090        0.070317        0.083543        0.082396  \n",
      "scBERT\n",
      "   mlp_norman_0.0  mlp_norman_0.1  mlp_norman_0.2  mlp_norman_0.3  \\\n",
      "0        0.059212        0.065772        0.065026        0.071994   \n",
      "1        0.061219        0.064236        0.060996        0.067754   \n",
      "2        0.058531        0.059492        0.057925        0.057205   \n",
      "\n",
      "   mlp_norman_0.4  mlp_norman_0.5  mlp_norman_0.6  mlp_norman_0.7  \n",
      "0        0.060054        0.062684        0.083757        0.081632  \n",
      "1        0.070094        0.063560        0.060339        0.083609  \n",
      "2        0.061494        0.070262             NaN        0.092373  \n"
     ]
    },
    {
     "data": {
      "text/plain": [
       "<Figure size 600x300 with 1 Axes>"
      ],
      "image/png": "[encoded data removed]"
     },
     "metadata": {},
     "output_type": "display_data"
    }
   ],
   "execution_count": 28
  },
  {
   "cell_type": "markdown",
   "metadata": {},
   "source": [
    "### Tables for all spesctral params"
   ]
  },
  {
   "cell_type": "code",
   "metadata": {
    "ExecuteTime": {
     "end_time": "2024-06-13T14:20:45.688701Z",
     "start_time": "2024-06-13T14:20:45.683308Z"
    }
   },
   "source": [
    "all_mean = {}\n",
    "all_sd = {}\n",
    "for m_name, m_mses in zip(model_names, model_mses):\n",
    "    m_ave_mse = m_mses.mean(axis=0)\n",
    "    m_sd_mse = m_mses.std(axis=0)\n",
    "    new_idx = pd.Index([idx.split('_')[-1] for idx in m_ave_mse.index])\n",
    "    m_ave_mse.index = new_idx\n",
    "    m_sd_mse.index = new_idx\n",
    "    all_mean[m_name] = pd.DataFrame(m_ave_mse)\n",
    "    all_sd[m_name] = pd.DataFrame(m_sd_mse)\n",
    "\n",
    "all_mean_df = pd.concat(all_mean, axis=1)\n",
    "all_sd_df = pd.concat(all_sd, axis=1)\n",
    "all_mean_df.columns = model_names\n",
    "all_sd_df.columns = model_names"
   ],
   "outputs": [],
   "execution_count": 20
  },
  {
   "cell_type": "code",
   "metadata": {
    "ExecuteTime": {
     "end_time": "2024-06-13T14:20:45.857738Z",
     "start_time": "2024-06-13T14:20:45.852393Z"
    }
   },
   "source": [
    "all_mean_df"
   ],
   "outputs": [
    {
     "data": {
      "text/plain": [
       "     Baseline       UCE  Geneformer     scGPT    scBERT\n",
       "0.0  0.059489  0.059371    0.059382  0.060785  0.059654\n",
       "0.1  0.061836  0.062576    0.062574  0.062569  0.063167\n",
       "0.2  0.060356  0.061320    0.061317  0.062621  0.061316\n",
       "0.3  0.064548  0.065654    0.065652  0.065641  0.065651\n",
       "0.4  0.062046  0.063870    0.063953  0.063901  0.063881\n",
       "0.5  0.067545  0.065514    0.065496  0.070877  0.065502\n",
       "0.6  0.069679  0.073704    0.073822  0.116098  0.072048\n",
       "0.7  0.084928  0.084787    0.085245  0.144799  0.085871"
      ],
      "text/html": [
       "<div>\n",
       "<style scoped>\n",
       "    .dataframe tbody tr th:only-of-type {\n",
       "        vertical-align: middle;\n",
       "    }\n",
       "\n",
       "    .dataframe tbody tr th {\n",
       "        vertical-align: top;\n",
       "    }\n",
       "\n",
       "    .dataframe thead th {\n",
       "        text-align: right;\n",
       "    }\n",
       "</style>\n",
       "<table border=\"1\" class=\"dataframe\">\n",
       "  <thead>\n",
       "    <tr style=\"text-align: right;\">\n",
       "      <th></th>\n",
       "      <th>Baseline</th>\n",
       "      <th>UCE</th>\n",
       "      <th>Geneformer</th>\n",
       "      <th>scGPT</th>\n",
       "      <th>scBERT</th>\n",
       "    </tr>\n",
       "  </thead>\n",
       "  <tbody>\n",
       "    <tr>\n",
       "      <th>0.0</th>\n",
       "      <td>0.059489</td>\n",
       "      <td>0.059371</td>\n",
       "      <td>0.059382</td>\n",
       "      <td>0.060785</td>\n",
       "      <td>0.059654</td>\n",
       "    </tr>\n",
       "    <tr>\n",
       "      <th>0.1</th>\n",
       "      <td>0.061836</td>\n",
       "      <td>0.062576</td>\n",
       "      <td>0.062574</td>\n",
       "      <td>0.062569</td>\n",
       "      <td>0.063167</td>\n",
       "    </tr>\n",
       "    <tr>\n",
       "      <th>0.2</th>\n",
       "      <td>0.060356</td>\n",
       "      <td>0.061320</td>\n",
       "      <td>0.061317</td>\n",
       "      <td>0.062621</td>\n",
       "      <td>0.061316</td>\n",
       "    </tr>\n",
       "    <tr>\n",
       "      <th>0.3</th>\n",
       "      <td>0.064548</td>\n",
       "      <td>0.065654</td>\n",
       "      <td>0.065652</td>\n",
       "      <td>0.065641</td>\n",
       "      <td>0.065651</td>\n",
       "    </tr>\n",
       "    <tr>\n",
       "      <th>0.4</th>\n",
       "      <td>0.062046</td>\n",
       "      <td>0.063870</td>\n",
       "      <td>0.063953</td>\n",
       "      <td>0.063901</td>\n",
       "      <td>0.063881</td>\n",
       "    </tr>\n",
       "    <tr>\n",
       "      <th>0.5</th>\n",
       "      <td>0.067545</td>\n",
       "      <td>0.065514</td>\n",
       "      <td>0.065496</td>\n",
       "      <td>0.070877</td>\n",
       "      <td>0.065502</td>\n",
       "    </tr>\n",
       "    <tr>\n",
       "      <th>0.6</th>\n",
       "      <td>0.069679</td>\n",
       "      <td>0.073704</td>\n",
       "      <td>0.073822</td>\n",
       "      <td>0.116098</td>\n",
       "      <td>0.072048</td>\n",
       "    </tr>\n",
       "    <tr>\n",
       "      <th>0.7</th>\n",
       "      <td>0.084928</td>\n",
       "      <td>0.084787</td>\n",
       "      <td>0.085245</td>\n",
       "      <td>0.144799</td>\n",
       "      <td>0.085871</td>\n",
       "    </tr>\n",
       "  </tbody>\n",
       "</table>\n",
       "</div>"
      ]
     },
     "execution_count": 21,
     "metadata": {},
     "output_type": "execute_result"
    }
   ],
   "execution_count": 21
  },
  {
   "cell_type": "code",
   "metadata": {
    "ExecuteTime": {
     "end_time": "2024-06-13T14:20:46.023011Z",
     "start_time": "2024-06-13T14:20:46.019058Z"
    }
   },
   "source": [
    "all_sd_df"
   ],
   "outputs": [
    {
     "data": {
      "text/plain": [
       "     Baseline       UCE  Geneformer     scGPT    scBERT\n",
       "0.0  0.001697  0.001600    0.001619  0.000753  0.001397\n",
       "0.1  0.002281  0.003159    0.003167  0.003150  0.003274\n",
       "0.2  0.002430  0.003563    0.003564  0.004069  0.003561\n",
       "0.3  0.006574  0.007650    0.007638  0.007645  0.007616\n",
       "0.4  0.004157  0.005441    0.005383  0.005437  0.005429\n",
       "0.5  0.004482  0.004177    0.004172  0.007581  0.004146\n",
       "0.6  0.011036  0.012003    0.011838  0.077311  0.016559\n",
       "0.7  0.006448  0.005576    0.005386  0.108016  0.005716"
      ],
      "text/html": [
       "<div>\n",
       "<style scoped>\n",
       "    .dataframe tbody tr th:only-of-type {\n",
       "        vertical-align: middle;\n",
       "    }\n",
       "\n",
       "    .dataframe tbody tr th {\n",
       "        vertical-align: top;\n",
       "    }\n",
       "\n",
       "    .dataframe thead th {\n",
       "        text-align: right;\n",
       "    }\n",
       "</style>\n",
       "<table border=\"1\" class=\"dataframe\">\n",
       "  <thead>\n",
       "    <tr style=\"text-align: right;\">\n",
       "      <th></th>\n",
       "      <th>Baseline</th>\n",
       "      <th>UCE</th>\n",
       "      <th>Geneformer</th>\n",
       "      <th>scGPT</th>\n",
       "      <th>scBERT</th>\n",
       "    </tr>\n",
       "  </thead>\n",
       "  <tbody>\n",
       "    <tr>\n",
       "      <th>0.0</th>\n",
       "      <td>0.001697</td>\n",
       "      <td>0.001600</td>\n",
       "      <td>0.001619</td>\n",
       "      <td>0.000753</td>\n",
       "      <td>0.001397</td>\n",
       "    </tr>\n",
       "    <tr>\n",
       "      <th>0.1</th>\n",
       "      <td>0.002281</td>\n",
       "      <td>0.003159</td>\n",
       "      <td>0.003167</td>\n",
       "      <td>0.003150</td>\n",
       "      <td>0.003274</td>\n",
       "    </tr>\n",
       "    <tr>\n",
       "      <th>0.2</th>\n",
       "      <td>0.002430</td>\n",
       "      <td>0.003563</td>\n",
       "      <td>0.003564</td>\n",
       "      <td>0.004069</td>\n",
       "      <td>0.003561</td>\n",
       "    </tr>\n",
       "    <tr>\n",
       "      <th>0.3</th>\n",
       "      <td>0.006574</td>\n",
       "      <td>0.007650</td>\n",
       "      <td>0.007638</td>\n",
       "      <td>0.007645</td>\n",
       "      <td>0.007616</td>\n",
       "    </tr>\n",
       "    <tr>\n",
       "      <th>0.4</th>\n",
       "      <td>0.004157</td>\n",
       "      <td>0.005441</td>\n",
       "      <td>0.005383</td>\n",
       "      <td>0.005437</td>\n",
       "      <td>0.005429</td>\n",
       "    </tr>\n",
       "    <tr>\n",
       "      <th>0.5</th>\n",
       "      <td>0.004482</td>\n",
       "      <td>0.004177</td>\n",
       "      <td>0.004172</td>\n",
       "      <td>0.007581</td>\n",
       "      <td>0.004146</td>\n",
       "    </tr>\n",
       "    <tr>\n",
       "      <th>0.6</th>\n",
       "      <td>0.011036</td>\n",
       "      <td>0.012003</td>\n",
       "      <td>0.011838</td>\n",
       "      <td>0.077311</td>\n",
       "      <td>0.016559</td>\n",
       "    </tr>\n",
       "    <tr>\n",
       "      <th>0.7</th>\n",
       "      <td>0.006448</td>\n",
       "      <td>0.005576</td>\n",
       "      <td>0.005386</td>\n",
       "      <td>0.108016</td>\n",
       "      <td>0.005716</td>\n",
       "    </tr>\n",
       "  </tbody>\n",
       "</table>\n",
       "</div>"
      ]
     },
     "execution_count": 22,
     "metadata": {},
     "output_type": "execute_result"
    }
   ],
   "execution_count": 22
  },
  {
   "cell_type": "markdown",
   "metadata": {},
   "source": [
    "## Plots and table for differentally expressed genes "
   ]
  },
  {
   "cell_type": "code",
   "metadata": {
    "ExecuteTime": {
     "end_time": "2024-06-13T14:21:16.472876Z",
     "start_time": "2024-06-13T14:21:16.468087Z"
    }
   },
   "source": [
    "#diff expressed gene results have _de in there tags find idx of de gene\n",
    "def find_diff_expres_subset(raw_results_df):\n",
    "    diff_expres_idx = []\n",
    "    diff_expres_genes = []\n",
    "    for i, t in enumerate(raw_results_df['Tags']):\n",
    "        print(t)\n",
    "        if '_de' in t.split(',')[0]:\n",
    "            diff_expres_idx.append(i)\n",
    "            diff_expres_genes.append(t.split('_')[0])\n",
    "\n",
    "    de_df = raw_results_df.iloc[diff_expres_idx].copy(deep=True)\n",
    "    de_df['diff_express_gene'] = diff_expres_genes\n",
    "    #drop missing (old perts we considered)\n",
    "    de_df = de_df[~de_df['test_baseline/mse'].isna()]\n",
    "\n",
    "    return diff_expres_idx, diff_expres_genes, de_df\n",
    "\n",
    "def find_de_mets_by_gene(diff_express_df, sp, model, metrics=['test_baseline/mse', 'test_de/mse']):\n",
    "    '''find tabular metrics grouped by de gene for a given (sp) spectral param'''\n",
    "    results = {}\n",
    "    sp_subset = diff_express_df[diff_express_df['Group'] == f'test_{model}_{sp}']\n",
    "    for g in sp_subset['diff_express_gene']:\n",
    "        de_df_subset = sp_subset[sp_subset['diff_express_gene'] == g]\n",
    "        results[g] = de_df_subset[metrics]\n",
    "    return results\n",
    "\n",
    "def create_de_table(de_results_dict, models_name_mapping):\n",
    "    #tabular results \n",
    "    print(de_results_dict)\n",
    "    de_tab = pd.concat(de_results_dict)\n",
    "    if isinstance(de_tab, pd.Series):\n",
    "        de_tab = pd.DataFrame(de_tab)\n",
    "    #fmt table\n",
    "    cols = [models_name_mapping[l] for l in de_tab.columns]\n",
    "    de_tab.columns = cols\n",
    "    new_idx = [idx[0] for idx in de_tab.index]\n",
    "    de_tab.index = new_idx\n",
    "    de_tab = de_tab.T.sort_values(by=new_idx[0])\n",
    "    return de_tab"
   ],
   "outputs": [],
   "execution_count": 57
  },
  {
   "cell_type": "code",
   "metadata": {
    "ExecuteTime": {
     "end_time": "2024-06-13T14:21:17.746726Z",
     "start_time": "2024-06-13T14:21:17.740209Z"
    }
   },
   "source": [
    "#subset raw results to just differenctal expression results \n",
    "diff_expres_idx, diff_expres_genes, de_df = find_diff_expres_subset(df_scgpt)\n",
    "\n",
    "de_df\n",
    "#*_, de_df_r2 = find_diff_expres_subset(df2)"
   ],
   "outputs": [
    {
     "name": "stdout",
     "output_type": "stream",
     "text": [
      "IKZF3_de, eval, mlp, norman, replicate_1, scgpt, split_0.7\n",
      "SLC4A1_de, eval, mlp, norman, replicate_2, scgpt, split_0.0\n",
      "hpo, mlp, norman, replicate_0, split_0.7\n",
      "hpo, mlp, norman, replicate_1, split_0.7\n",
      "hpo, mlp, norman, replicate_0, split_0.6\n",
      "hpo, mlp, norman, replicate_1, split_0.6\n",
      "hpo, mlp, norman, replicate_2, split_0.7\n",
      "hpo, mlp, norman, replicate_0, split_0.5\n",
      "hpo, mlp, norman, replicate_1, split_0.5\n",
      "hpo, mlp, norman, replicate_2, split_0.6\n",
      "hpo, mlp, norman, replicate_0, split_0.4\n",
      "hpo, mlp, norman, replicate_1, split_0.4\n",
      "hpo, mlp, norman, replicate_2, split_0.5\n",
      "hpo, mlp, norman, replicate_0, split_0.3\n",
      "hpo, mlp, norman, replicate_2, split_0.4\n",
      "hpo, mlp, norman, replicate_1, split_0.3\n",
      "hpo, mlp, norman, replicate_2, split_0.3\n",
      "hpo, mlp, norman, replicate_0, split_0.2\n",
      "hpo, mlp, norman, replicate_1, split_0.2\n",
      "hpo, mlp, norman, replicate_0, split_0.1\n",
      "hpo, mlp, norman, replicate_1, split_0.1\n",
      "hpo, mlp, norman, replicate_2, split_0.1\n",
      "hpo, mlp, norman, replicate_0, split_0.2\n",
      "hpo, mlp, norman, replicate_2, split_0.0\n",
      "hpo, mlp, norman, replicate_2, split_0.0\n",
      "hpo, mlp, norman, replicate_0, split_0.0\n"
     ]
    },
    {
     "data": {
      "text/plain": [
       "                 Name                                               Tags  \\\n",
       "0      rose-sunset-38  IKZF3_de, eval, mlp, norman, replicate_1, scgp...   \n",
       "1  polar-waterfall-35  SLC4A1_de, eval, mlp, norman, replicate_2, scg...   \n",
       "\n",
       "                 Group                   Created  Runtime  test/mse  \\\n",
       "0  test_mlp_norman_0.7  2024-06-06T06:14:03.000Z       30       NaN   \n",
       "1  test_mlp_norman_0.0  2024-06-06T06:02:33.000Z       33       NaN   \n",
       "\n",
       "   test_baseline/mse  test_de/mse  train/mse  val/mse  model.optimizer.lr  \\\n",
       "0           4.769367     4.788578        NaN      NaN               0.001   \n",
       "1           0.232880     0.236304        NaN      NaN               0.001   \n",
       "\n",
       "   data.replicate diff_express_gene  \n",
       "0               1             IKZF3  \n",
       "1               2            SLC4A1  "
      ],
      "text/html": [
       "<div>\n",
       "<style scoped>\n",
       "    .dataframe tbody tr th:only-of-type {\n",
       "        vertical-align: middle;\n",
       "    }\n",
       "\n",
       "    .dataframe tbody tr th {\n",
       "        vertical-align: top;\n",
       "    }\n",
       "\n",
       "    .dataframe thead th {\n",
       "        text-align: right;\n",
       "    }\n",
       "</style>\n",
       "<table border=\"1\" class=\"dataframe\">\n",
       "  <thead>\n",
       "    <tr style=\"text-align: right;\">\n",
       "      <th></th>\n",
       "      <th>Name</th>\n",
       "      <th>Tags</th>\n",
       "      <th>Group</th>\n",
       "      <th>Created</th>\n",
       "      <th>Runtime</th>\n",
       "      <th>test/mse</th>\n",
       "      <th>test_baseline/mse</th>\n",
       "      <th>test_de/mse</th>\n",
       "      <th>train/mse</th>\n",
       "      <th>val/mse</th>\n",
       "      <th>model.optimizer.lr</th>\n",
       "      <th>data.replicate</th>\n",
       "      <th>diff_express_gene</th>\n",
       "    </tr>\n",
       "  </thead>\n",
       "  <tbody>\n",
       "    <tr>\n",
       "      <th>0</th>\n",
       "      <td>rose-sunset-38</td>\n",
       "      <td>IKZF3_de, eval, mlp, norman, replicate_1, scgp...</td>\n",
       "      <td>test_mlp_norman_0.7</td>\n",
       "      <td>2024-06-06T06:14:03.000Z</td>\n",
       "      <td>30</td>\n",
       "      <td>NaN</td>\n",
       "      <td>4.769367</td>\n",
       "      <td>4.788578</td>\n",
       "      <td>NaN</td>\n",
       "      <td>NaN</td>\n",
       "      <td>0.001</td>\n",
       "      <td>1</td>\n",
       "      <td>IKZF3</td>\n",
       "    </tr>\n",
       "    <tr>\n",
       "      <th>1</th>\n",
       "      <td>polar-waterfall-35</td>\n",
       "      <td>SLC4A1_de, eval, mlp, norman, replicate_2, scg...</td>\n",
       "      <td>test_mlp_norman_0.0</td>\n",
       "      <td>2024-06-06T06:02:33.000Z</td>\n",
       "      <td>33</td>\n",
       "      <td>NaN</td>\n",
       "      <td>0.232880</td>\n",
       "      <td>0.236304</td>\n",
       "      <td>NaN</td>\n",
       "      <td>NaN</td>\n",
       "      <td>0.001</td>\n",
       "      <td>2</td>\n",
       "      <td>SLC4A1</td>\n",
       "    </tr>\n",
       "  </tbody>\n",
       "</table>\n",
       "</div>"
      ]
     },
     "execution_count": 58,
     "metadata": {},
     "output_type": "execute_result"
    }
   ],
   "execution_count": 58
  },
  {
   "cell_type": "markdown",
   "metadata": {},
   "source": [
    "### table of de results"
   ]
  },
  {
   "cell_type": "code",
   "metadata": {
    "ExecuteTime": {
     "end_time": "2024-06-13T14:21:22.818074Z",
     "start_time": "2024-06-13T14:21:22.810341Z"
    }
   },
   "source": [
    "#sp and probe_model_ds should be the same for all de_sp dfs created\n",
    "sp = 0.0\n",
    "probe_model_ds = 'mlp_norman'\n",
    "\n",
    "#name will change depending on fm model used \n",
    "models_name_mapping = {'test_baseline/mse': 'Mean gene expression', 'test_de/mse' : 'scGPT'} \n",
    "\n",
    "de_sp0 = find_de_mets_by_gene(de_df, sp, probe_model_ds)\n",
    "de_sp0_tab = create_de_table(de_sp0, models_name_mapping)"
   ],
   "outputs": [
    {
     "name": "stdout",
     "output_type": "stream",
     "text": [
      "{'SLC4A1':    test_baseline/mse  test_de/mse\n",
      "1            0.23288     0.236304}\n"
     ]
    }
   ],
   "execution_count": 59
  },
  {
   "cell_type": "code",
   "metadata": {
    "ExecuteTime": {
     "end_time": "2024-06-13T14:20:47.062270Z",
     "start_time": "2024-06-13T14:20:47.050501Z"
    }
   },
   "source": [
    "pd.concat((de_sp0_tab, de_sp0_r2_tab))"
   ],
   "outputs": [
    {
     "ename": "NameError",
     "evalue": "name 'de_sp0_r2_tab' is not defined",
     "output_type": "error",
     "traceback": [
      "\u001B[0;31m---------------------------------------------------------------------------\u001B[0m",
      "\u001B[0;31mNameError\u001B[0m                                 Traceback (most recent call last)",
      "Cell \u001B[0;32mIn[26], line 1\u001B[0m\n\u001B[0;32m----> 1\u001B[0m pd\u001B[38;5;241m.\u001B[39mconcat((de_sp0_tab, \u001B[43mde_sp0_r2_tab\u001B[49m))\n",
      "\u001B[0;31mNameError\u001B[0m: name 'de_sp0_r2_tab' is not defined"
     ]
    }
   ],
   "execution_count": 26
  },
  {
   "cell_type": "code",
   "metadata": {
    "ExecuteTime": {
     "end_time": "2024-06-13T14:21:25.030120Z",
     "start_time": "2024-06-13T14:21:25.023960Z"
    }
   },
   "source": [
    "sp = 0.7\n",
    "probe_model_ds = 'mlp_norman'\n",
    "models_name_mapping = {'test_baseline/mse': 'Mean gene expression', 'test_de/mse' : 'scGPT'}\n",
    "de_sp7 = find_de_mets_by_gene(de_df, sp, probe_model_ds)\n",
    "de_sp7_tab = create_de_table(de_sp7, models_name_mapping)\n",
    "#de_sp0_r2_tab = create_de_table(de_sp0_r2, models_name_mapping)\n",
    "de_sp7_tab"
   ],
   "outputs": [
    {
     "name": "stdout",
     "output_type": "stream",
     "text": [
      "{'IKZF3':    test_baseline/mse  test_de/mse\n",
      "0           4.769367     4.788578}\n"
     ]
    },
    {
     "data": {
      "text/plain": [
       "                         IKZF3\n",
       "Mean gene expression  4.769367\n",
       "scGPT                 4.788578"
      ],
      "text/html": [
       "<div>\n",
       "<style scoped>\n",
       "    .dataframe tbody tr th:only-of-type {\n",
       "        vertical-align: middle;\n",
       "    }\n",
       "\n",
       "    .dataframe tbody tr th {\n",
       "        vertical-align: top;\n",
       "    }\n",
       "\n",
       "    .dataframe thead th {\n",
       "        text-align: right;\n",
       "    }\n",
       "</style>\n",
       "<table border=\"1\" class=\"dataframe\">\n",
       "  <thead>\n",
       "    <tr style=\"text-align: right;\">\n",
       "      <th></th>\n",
       "      <th>IKZF3</th>\n",
       "    </tr>\n",
       "  </thead>\n",
       "  <tbody>\n",
       "    <tr>\n",
       "      <th>Mean gene expression</th>\n",
       "      <td>4.769367</td>\n",
       "    </tr>\n",
       "    <tr>\n",
       "      <th>scGPT</th>\n",
       "      <td>4.788578</td>\n",
       "    </tr>\n",
       "  </tbody>\n",
       "</table>\n",
       "</div>"
      ]
     },
     "execution_count": 60,
     "metadata": {},
     "output_type": "execute_result"
    }
   ],
   "execution_count": 60
  },
  {
   "cell_type": "markdown",
   "metadata": {},
   "source": [
    "### box plots of de results"
   ]
  },
  {
   "cell_type": "code",
   "metadata": {
    "ExecuteTime": {
     "end_time": "2024-06-13T14:21:29.953808Z",
     "start_time": "2024-06-13T14:21:29.947904Z"
    }
   },
   "source": [
    "def de_boxplot(de_results_dict, pert, models_name_mapping):\n",
    "    y = de_results_dict[pert]\n",
    "    assert len(y) == 1 #no reps \n",
    "    y = y.iloc[0].sort_values(ascending=True)\n",
    "    \n",
    "    # Filter the DataFrame to only include the 'MLP probe' data\n",
    "    y_mlp_probe = y.loc[['test_de/mse']]\n",
    "    \n",
    "    # Extract the 'Mean gene expression' value\n",
    "    mean_gene_expression = y.loc['test_baseline/mse']\n",
    "    \n",
    "    bar_labels = [models_name_mapping[l] for l in y_mlp_probe.index]\n",
    "    \n",
    "    if 'Baseline' in model_colors.keys():\n",
    "        color_value = model_colors['Baseline']\n",
    "        del model_colors['Baseline']\n",
    "        model_colors['MLP gene expression'] = color_value\n",
    "\n",
    "    bar_colors = [model_colors[l] for l in bar_labels]\n",
    "    \n",
    "    # Plot the 'MLP probe' data as a bar\n",
    "    plt.bar(bar_labels, y_mlp_probe, label=bar_labels, color=bar_colors, alpha=1, width=0.5)\n",
    "    \n",
    "    plt.xlim(-0.5, 0.5)\n",
    "    plt.ylim(0.0, 0.30)\n",
    "    plt.xticks([])\n",
    "    \n",
    "    # Plot the 'Mean gene expression' value as a dashed horizontal line\n",
    "    plt.axhline(mean_gene_expression, color=\"black\", linestyle='--', label=models_name_mapping['test_baseline/mse'])\n",
    "    \n",
    "    plt.xlabel(f'{pert}')\n",
    "    plt.ylabel('MSE')\n",
    "    plt.legend()\n",
    "    plt.savefig('paper_figs/de_boxplot_sp0_scgpt.pdf', dpi=300)\n",
    "    plt.show()"
   ],
   "outputs": [],
   "execution_count": 61
  },
  {
   "cell_type": "code",
   "metadata": {
    "ExecuteTime": {
     "end_time": "2024-06-13T14:21:30.307068Z",
     "start_time": "2024-06-13T14:21:30.304165Z"
    }
   },
   "source": [
    "models_name_mapping"
   ],
   "outputs": [
    {
     "data": {
      "text/plain": [
       "{'test_baseline/mse': 'Mean gene expression', 'test_de/mse': 'scGPT'}"
      ]
     },
     "execution_count": 62,
     "metadata": {},
     "output_type": "execute_result"
    }
   ],
   "execution_count": 62
  },
  {
   "cell_type": "code",
   "metadata": {
    "ExecuteTime": {
     "end_time": "2024-06-13T14:20:47.875173Z",
     "start_time": "2024-06-13T14:20:47.871946Z"
    }
   },
   "source": "de_sp0",
   "outputs": [
    {
     "data": {
      "text/plain": [
       "{'SLC4A1':    test_baseline/mse  test_de/mse\n",
       " 1            0.23288     0.236304}"
      ]
     },
     "execution_count": 30,
     "metadata": {},
     "output_type": "execute_result"
    }
   ],
   "execution_count": 30
  },
  {
   "metadata": {
    "ExecuteTime": {
     "end_time": "2024-06-13T14:20:48.027859Z",
     "start_time": "2024-06-13T14:20:48.026178Z"
    }
   },
   "cell_type": "code",
   "source": [
    "# perts = SLC4A1; sp0.0\n",
    "# IKZF3; sp0.7"
   ],
   "outputs": [],
   "execution_count": 31
  },
  {
   "cell_type": "code",
   "metadata": {
    "ExecuteTime": {
     "end_time": "2024-06-13T14:22:25.318080Z",
     "start_time": "2024-06-13T14:22:25.230558Z"
    }
   },
   "source": [
    "#just using SLC4A1 pert for sp of zero\n",
    "# TODO: Display all in one plot by subtracting performance of mean gene expression from the performance of the model\n",
    "pert = 'SLC4A1'\n",
    "models_name_mapping = {'test_baseline/mse': 'Mean gene expression', 'test_de/mse' : 'scGPT'} \n",
    "de_boxplot(de_sp0, pert, models_name_mapping)\n",
    "# plt.show()"
   ],
   "outputs": [
    {
     "data": {
      "text/plain": [
       "<Figure size 640x480 with 1 Axes>"
      ],
      "image/png": "[encoded data removed]"
     },
     "metadata": {},
     "output_type": "display_data"
    }
   ],
   "execution_count": 65
  },
  {
   "metadata": {
    "ExecuteTime": {
     "end_time": "2024-06-13T14:20:48.358593Z",
     "start_time": "2024-06-13T14:20:48.354338Z"
    }
   },
   "cell_type": "code",
   "source": "all_de_df = pd.read_csv('all_de_results.csv')",
   "outputs": [],
   "execution_count": 33
  },
  {
   "metadata": {
    "ExecuteTime": {
     "end_time": "2024-06-13T14:20:48.536455Z",
     "start_time": "2024-06-13T14:20:48.529103Z"
    }
   },
   "cell_type": "code",
   "source": "all_de_df.head()",
   "outputs": [
    {
     "data": {
      "text/plain": [
       "               Name     State Notes  User  \\\n",
       "0  dazzling-night-3  finished     -   NaN   \n",
       "1    ruby-glitter-2  finished     -   NaN   \n",
       "2    fresh-shadow-4  finished     -   NaN   \n",
       "3     polar-frost-2  finished     -   NaN   \n",
       "4  cosmic-meadow-27  finished     -   NaN   \n",
       "\n",
       "                                                Tags  \\\n",
       "0  SLC4A1_de, eval, mlp, norman, replicate_2, spl...   \n",
       "1  IKZF3_de, eval, mlp, norman, replicate_1, spli...   \n",
       "2  IKZF3_de, eval, geneformer, mlp, norman, repli...   \n",
       "3  SLC4A1_de, eval, geneformer, mlp, norman, repl...   \n",
       "4  IKZF3_de, eval, mlp, norman, replicate_0, scbe...   \n",
       "\n",
       "                    Created  Runtime  Sweep  \\\n",
       "0  2024-06-06T14:37:10.000Z       33    NaN   \n",
       "1  2024-06-06T14:33:58.000Z       31    NaN   \n",
       "2  2024-06-06T14:10:10.000Z       31    NaN   \n",
       "3  2024-06-06T14:01:40.000Z       34    NaN   \n",
       "4  2024-06-06T06:33:56.000Z       30    NaN   \n",
       "\n",
       "           callbacks.early_stopping._target_  \\\n",
       "0  lightning.pytorch.callbacks.EarlyStopping   \n",
       "1  lightning.pytorch.callbacks.EarlyStopping   \n",
       "2  lightning.pytorch.callbacks.EarlyStopping   \n",
       "3  lightning.pytorch.callbacks.EarlyStopping   \n",
       "4  lightning.pytorch.callbacks.EarlyStopping   \n",
       "\n",
       "  callbacks.early_stopping.check_finite  ... trainer.deterministic  \\\n",
       "0                                  True  ...                 False   \n",
       "1                                  True  ...                 False   \n",
       "2                                  True  ...                 False   \n",
       "3                                  True  ...                 False   \n",
       "4                                  True  ...                 False   \n",
       "\n",
       "   trainer.devices trainer.max_epochs trainer.min_epochs  \\\n",
       "0                1                 20                  1   \n",
       "1                1                 20                  1   \n",
       "2                1                 20                  1   \n",
       "3                1                 20                  1   \n",
       "4                1                 20                  1   \n",
       "\n",
       "   trainer.num_sanity_val_steps epoch test/de_genes test_baseline/mse  \\\n",
       "0                             0     0            20          0.438661   \n",
       "1                             0     0            20          0.093333   \n",
       "2                             0     0            20          0.265499   \n",
       "3                             0     0            20          0.343757   \n",
       "4                             0     0            20          0.051365   \n",
       "\n",
       "   test_de/mse trainer/global_step  \n",
       "0     0.473454                   0  \n",
       "1     0.103557                   0  \n",
       "2     0.328213                   0  \n",
       "3     0.342390                   0  \n",
       "4     0.341296                   0  \n",
       "\n",
       "[5 rows x 78 columns]"
      ],
      "text/html": [
       "<div>\n",
       "<style scoped>\n",
       "    .dataframe tbody tr th:only-of-type {\n",
       "        vertical-align: middle;\n",
       "    }\n",
       "\n",
       "    .dataframe tbody tr th {\n",
       "        vertical-align: top;\n",
       "    }\n",
       "\n",
       "    .dataframe thead th {\n",
       "        text-align: right;\n",
       "    }\n",
       "</style>\n",
       "<table border=\"1\" class=\"dataframe\">\n",
       "  <thead>\n",
       "    <tr style=\"text-align: right;\">\n",
       "      <th></th>\n",
       "      <th>Name</th>\n",
       "      <th>State</th>\n",
       "      <th>Notes</th>\n",
       "      <th>User</th>\n",
       "      <th>Tags</th>\n",
       "      <th>Created</th>\n",
       "      <th>Runtime</th>\n",
       "      <th>Sweep</th>\n",
       "      <th>callbacks.early_stopping._target_</th>\n",
       "      <th>callbacks.early_stopping.check_finite</th>\n",
       "      <th>...</th>\n",
       "      <th>trainer.deterministic</th>\n",
       "      <th>trainer.devices</th>\n",
       "      <th>trainer.max_epochs</th>\n",
       "      <th>trainer.min_epochs</th>\n",
       "      <th>trainer.num_sanity_val_steps</th>\n",
       "      <th>epoch</th>\n",
       "      <th>test/de_genes</th>\n",
       "      <th>test_baseline/mse</th>\n",
       "      <th>test_de/mse</th>\n",
       "      <th>trainer/global_step</th>\n",
       "    </tr>\n",
       "  </thead>\n",
       "  <tbody>\n",
       "    <tr>\n",
       "      <th>0</th>\n",
       "      <td>dazzling-night-3</td>\n",
       "      <td>finished</td>\n",
       "      <td>-</td>\n",
       "      <td>NaN</td>\n",
       "      <td>SLC4A1_de, eval, mlp, norman, replicate_2, spl...</td>\n",
       "      <td>2024-06-06T14:37:10.000Z</td>\n",
       "      <td>33</td>\n",
       "      <td>NaN</td>\n",
       "      <td>lightning.pytorch.callbacks.EarlyStopping</td>\n",
       "      <td>True</td>\n",
       "      <td>...</td>\n",
       "      <td>False</td>\n",
       "      <td>1</td>\n",
       "      <td>20</td>\n",
       "      <td>1</td>\n",
       "      <td>0</td>\n",
       "      <td>0</td>\n",
       "      <td>20</td>\n",
       "      <td>0.438661</td>\n",
       "      <td>0.473454</td>\n",
       "      <td>0</td>\n",
       "    </tr>\n",
       "    <tr>\n",
       "      <th>1</th>\n",
       "      <td>ruby-glitter-2</td>\n",
       "      <td>finished</td>\n",
       "      <td>-</td>\n",
       "      <td>NaN</td>\n",
       "      <td>IKZF3_de, eval, mlp, norman, replicate_1, spli...</td>\n",
       "      <td>2024-06-06T14:33:58.000Z</td>\n",
       "      <td>31</td>\n",
       "      <td>NaN</td>\n",
       "      <td>lightning.pytorch.callbacks.EarlyStopping</td>\n",
       "      <td>True</td>\n",
       "      <td>...</td>\n",
       "      <td>False</td>\n",
       "      <td>1</td>\n",
       "      <td>20</td>\n",
       "      <td>1</td>\n",
       "      <td>0</td>\n",
       "      <td>0</td>\n",
       "      <td>20</td>\n",
       "      <td>0.093333</td>\n",
       "      <td>0.103557</td>\n",
       "      <td>0</td>\n",
       "    </tr>\n",
       "    <tr>\n",
       "      <th>2</th>\n",
       "      <td>fresh-shadow-4</td>\n",
       "      <td>finished</td>\n",
       "      <td>-</td>\n",
       "      <td>NaN</td>\n",
       "      <td>IKZF3_de, eval, geneformer, mlp, norman, repli...</td>\n",
       "      <td>2024-06-06T14:10:10.000Z</td>\n",
       "      <td>31</td>\n",
       "      <td>NaN</td>\n",
       "      <td>lightning.pytorch.callbacks.EarlyStopping</td>\n",
       "      <td>True</td>\n",
       "      <td>...</td>\n",
       "      <td>False</td>\n",
       "      <td>1</td>\n",
       "      <td>20</td>\n",
       "      <td>1</td>\n",
       "      <td>0</td>\n",
       "      <td>0</td>\n",
       "      <td>20</td>\n",
       "      <td>0.265499</td>\n",
       "      <td>0.328213</td>\n",
       "      <td>0</td>\n",
       "    </tr>\n",
       "    <tr>\n",
       "      <th>3</th>\n",
       "      <td>polar-frost-2</td>\n",
       "      <td>finished</td>\n",
       "      <td>-</td>\n",
       "      <td>NaN</td>\n",
       "      <td>SLC4A1_de, eval, geneformer, mlp, norman, repl...</td>\n",
       "      <td>2024-06-06T14:01:40.000Z</td>\n",
       "      <td>34</td>\n",
       "      <td>NaN</td>\n",
       "      <td>lightning.pytorch.callbacks.EarlyStopping</td>\n",
       "      <td>True</td>\n",
       "      <td>...</td>\n",
       "      <td>False</td>\n",
       "      <td>1</td>\n",
       "      <td>20</td>\n",
       "      <td>1</td>\n",
       "      <td>0</td>\n",
       "      <td>0</td>\n",
       "      <td>20</td>\n",
       "      <td>0.343757</td>\n",
       "      <td>0.342390</td>\n",
       "      <td>0</td>\n",
       "    </tr>\n",
       "    <tr>\n",
       "      <th>4</th>\n",
       "      <td>cosmic-meadow-27</td>\n",
       "      <td>finished</td>\n",
       "      <td>-</td>\n",
       "      <td>NaN</td>\n",
       "      <td>IKZF3_de, eval, mlp, norman, replicate_0, scbe...</td>\n",
       "      <td>2024-06-06T06:33:56.000Z</td>\n",
       "      <td>30</td>\n",
       "      <td>NaN</td>\n",
       "      <td>lightning.pytorch.callbacks.EarlyStopping</td>\n",
       "      <td>True</td>\n",
       "      <td>...</td>\n",
       "      <td>False</td>\n",
       "      <td>1</td>\n",
       "      <td>20</td>\n",
       "      <td>1</td>\n",
       "      <td>0</td>\n",
       "      <td>0</td>\n",
       "      <td>20</td>\n",
       "      <td>0.051365</td>\n",
       "      <td>0.341296</td>\n",
       "      <td>0</td>\n",
       "    </tr>\n",
       "  </tbody>\n",
       "</table>\n",
       "<p>5 rows × 78 columns</p>\n",
       "</div>"
      ]
     },
     "execution_count": 34,
     "metadata": {},
     "output_type": "execute_result"
    }
   ],
   "execution_count": 34
  },
  {
   "metadata": {
    "ExecuteTime": {
     "end_time": "2024-06-13T14:20:48.686166Z",
     "start_time": "2024-06-13T14:20:48.681461Z"
    }
   },
   "cell_type": "code",
   "source": [
    "# get all the rows from all_de_df that have SLC4A1_de in the Tags \n",
    "slc4a1_de = all_de_df[all_de_df['Tags'].str.contains('SLC4A1_de')]"
   ],
   "outputs": [],
   "execution_count": 35
  },
  {
   "metadata": {
    "ExecuteTime": {
     "end_time": "2024-06-13T14:22:31.695287Z",
     "start_time": "2024-06-13T14:22:31.686362Z"
    }
   },
   "cell_type": "code",
   "source": "slc4a1_de",
   "outputs": [
    {
     "data": {
      "text/plain": [
       "                 Name     State Notes  User  \\\n",
       "0    dazzling-night-3  finished     -   NaN   \n",
       "3       polar-frost-2  finished     -   NaN   \n",
       "5       firm-blaze-26  finished     -   NaN   \n",
       "7  polar-waterfall-35  finished     -   NaN   \n",
       "9    youthful-hill-37  finished     -   NaN   \n",
       "\n",
       "                                                Tags  \\\n",
       "0  SLC4A1_de, eval, mlp, norman, replicate_2, spl...   \n",
       "3  SLC4A1_de, eval, geneformer, mlp, norman, repl...   \n",
       "5  SLC4A1_de, eval, mlp, norman, replicate_0, scb...   \n",
       "7  SLC4A1_de, eval, mlp, norman, replicate_2, scg...   \n",
       "9  SLC4A1_de, eval, mlp, norman, replicate_0, spl...   \n",
       "\n",
       "                    Created  Runtime  Sweep  \\\n",
       "0  2024-06-06T14:37:10.000Z       33    NaN   \n",
       "3  2024-06-06T14:01:40.000Z       34    NaN   \n",
       "5  2024-06-06T06:28:16.000Z       36    NaN   \n",
       "7  2024-06-06T06:02:33.000Z       33    NaN   \n",
       "9  2024-06-05T02:28:56.000Z       43    NaN   \n",
       "\n",
       "           callbacks.early_stopping._target_  \\\n",
       "0  lightning.pytorch.callbacks.EarlyStopping   \n",
       "3  lightning.pytorch.callbacks.EarlyStopping   \n",
       "5  lightning.pytorch.callbacks.EarlyStopping   \n",
       "7  lightning.pytorch.callbacks.EarlyStopping   \n",
       "9                                        NaN   \n",
       "\n",
       "  callbacks.early_stopping.check_finite  ... trainer.deterministic  \\\n",
       "0                                  True  ...                 False   \n",
       "3                                  True  ...                 False   \n",
       "5                                  True  ...                 False   \n",
       "7                                  True  ...                 False   \n",
       "9                                   NaN  ...                 False   \n",
       "\n",
       "   trainer.devices trainer.max_epochs trainer.min_epochs  \\\n",
       "0                1                 20                  1   \n",
       "3                1                 20                  1   \n",
       "5                1                 20                  1   \n",
       "7                1                 20                  1   \n",
       "9                1                 20                  1   \n",
       "\n",
       "   trainer.num_sanity_val_steps epoch test/de_genes test_baseline/mse  \\\n",
       "0                             0     0            20          0.438661   \n",
       "3                             0     0            20          0.343757   \n",
       "5                             0     0            20          0.249124   \n",
       "7                             0     0            20          0.232880   \n",
       "9                             0     0            20          0.383467   \n",
       "\n",
       "   test_de/mse trainer/global_step  \n",
       "0     0.473454                   0  \n",
       "3     0.342390                   0  \n",
       "5     0.490381                   0  \n",
       "7     0.236304                   0  \n",
       "9     0.370128                   0  \n",
       "\n",
       "[5 rows x 78 columns]"
      ],
      "text/html": [
       "<div>\n",
       "<style scoped>\n",
       "    .dataframe tbody tr th:only-of-type {\n",
       "        vertical-align: middle;\n",
       "    }\n",
       "\n",
       "    .dataframe tbody tr th {\n",
       "        vertical-align: top;\n",
       "    }\n",
       "\n",
       "    .dataframe thead th {\n",
       "        text-align: right;\n",
       "    }\n",
       "</style>\n",
       "<table border=\"1\" class=\"dataframe\">\n",
       "  <thead>\n",
       "    <tr style=\"text-align: right;\">\n",
       "      <th></th>\n",
       "      <th>Name</th>\n",
       "      <th>State</th>\n",
       "      <th>Notes</th>\n",
       "      <th>User</th>\n",
       "      <th>Tags</th>\n",
       "      <th>Created</th>\n",
       "      <th>Runtime</th>\n",
       "      <th>Sweep</th>\n",
       "      <th>callbacks.early_stopping._target_</th>\n",
       "      <th>callbacks.early_stopping.check_finite</th>\n",
       "      <th>...</th>\n",
       "      <th>trainer.deterministic</th>\n",
       "      <th>trainer.devices</th>\n",
       "      <th>trainer.max_epochs</th>\n",
       "      <th>trainer.min_epochs</th>\n",
       "      <th>trainer.num_sanity_val_steps</th>\n",
       "      <th>epoch</th>\n",
       "      <th>test/de_genes</th>\n",
       "      <th>test_baseline/mse</th>\n",
       "      <th>test_de/mse</th>\n",
       "      <th>trainer/global_step</th>\n",
       "    </tr>\n",
       "  </thead>\n",
       "  <tbody>\n",
       "    <tr>\n",
       "      <th>0</th>\n",
       "      <td>dazzling-night-3</td>\n",
       "      <td>finished</td>\n",
       "      <td>-</td>\n",
       "      <td>NaN</td>\n",
       "      <td>SLC4A1_de, eval, mlp, norman, replicate_2, spl...</td>\n",
       "      <td>2024-06-06T14:37:10.000Z</td>\n",
       "      <td>33</td>\n",
       "      <td>NaN</td>\n",
       "      <td>lightning.pytorch.callbacks.EarlyStopping</td>\n",
       "      <td>True</td>\n",
       "      <td>...</td>\n",
       "      <td>False</td>\n",
       "      <td>1</td>\n",
       "      <td>20</td>\n",
       "      <td>1</td>\n",
       "      <td>0</td>\n",
       "      <td>0</td>\n",
       "      <td>20</td>\n",
       "      <td>0.438661</td>\n",
       "      <td>0.473454</td>\n",
       "      <td>0</td>\n",
       "    </tr>\n",
       "    <tr>\n",
       "      <th>3</th>\n",
       "      <td>polar-frost-2</td>\n",
       "      <td>finished</td>\n",
       "      <td>-</td>\n",
       "      <td>NaN</td>\n",
       "      <td>SLC4A1_de, eval, geneformer, mlp, norman, repl...</td>\n",
       "      <td>2024-06-06T14:01:40.000Z</td>\n",
       "      <td>34</td>\n",
       "      <td>NaN</td>\n",
       "      <td>lightning.pytorch.callbacks.EarlyStopping</td>\n",
       "      <td>True</td>\n",
       "      <td>...</td>\n",
       "      <td>False</td>\n",
       "      <td>1</td>\n",
       "      <td>20</td>\n",
       "      <td>1</td>\n",
       "      <td>0</td>\n",
       "      <td>0</td>\n",
       "      <td>20</td>\n",
       "      <td>0.343757</td>\n",
       "      <td>0.342390</td>\n",
       "      <td>0</td>\n",
       "    </tr>\n",
       "    <tr>\n",
       "      <th>5</th>\n",
       "      <td>firm-blaze-26</td>\n",
       "      <td>finished</td>\n",
       "      <td>-</td>\n",
       "      <td>NaN</td>\n",
       "      <td>SLC4A1_de, eval, mlp, norman, replicate_0, scb...</td>\n",
       "      <td>2024-06-06T06:28:16.000Z</td>\n",
       "      <td>36</td>\n",
       "      <td>NaN</td>\n",
       "      <td>lightning.pytorch.callbacks.EarlyStopping</td>\n",
       "      <td>True</td>\n",
       "      <td>...</td>\n",
       "      <td>False</td>\n",
       "      <td>1</td>\n",
       "      <td>20</td>\n",
       "      <td>1</td>\n",
       "      <td>0</td>\n",
       "      <td>0</td>\n",
       "      <td>20</td>\n",
       "      <td>0.249124</td>\n",
       "      <td>0.490381</td>\n",
       "      <td>0</td>\n",
       "    </tr>\n",
       "    <tr>\n",
       "      <th>7</th>\n",
       "      <td>polar-waterfall-35</td>\n",
       "      <td>finished</td>\n",
       "      <td>-</td>\n",
       "      <td>NaN</td>\n",
       "      <td>SLC4A1_de, eval, mlp, norman, replicate_2, scg...</td>\n",
       "      <td>2024-06-06T06:02:33.000Z</td>\n",
       "      <td>33</td>\n",
       "      <td>NaN</td>\n",
       "      <td>lightning.pytorch.callbacks.EarlyStopping</td>\n",
       "      <td>True</td>\n",
       "      <td>...</td>\n",
       "      <td>False</td>\n",
       "      <td>1</td>\n",
       "      <td>20</td>\n",
       "      <td>1</td>\n",
       "      <td>0</td>\n",
       "      <td>0</td>\n",
       "      <td>20</td>\n",
       "      <td>0.232880</td>\n",
       "      <td>0.236304</td>\n",
       "      <td>0</td>\n",
       "    </tr>\n",
       "    <tr>\n",
       "      <th>9</th>\n",
       "      <td>youthful-hill-37</td>\n",
       "      <td>finished</td>\n",
       "      <td>-</td>\n",
       "      <td>NaN</td>\n",
       "      <td>SLC4A1_de, eval, mlp, norman, replicate_0, spl...</td>\n",
       "      <td>2024-06-05T02:28:56.000Z</td>\n",
       "      <td>43</td>\n",
       "      <td>NaN</td>\n",
       "      <td>NaN</td>\n",
       "      <td>NaN</td>\n",
       "      <td>...</td>\n",
       "      <td>False</td>\n",
       "      <td>1</td>\n",
       "      <td>20</td>\n",
       "      <td>1</td>\n",
       "      <td>0</td>\n",
       "      <td>0</td>\n",
       "      <td>20</td>\n",
       "      <td>0.383467</td>\n",
       "      <td>0.370128</td>\n",
       "      <td>0</td>\n",
       "    </tr>\n",
       "  </tbody>\n",
       "</table>\n",
       "<p>5 rows × 78 columns</p>\n",
       "</div>"
      ]
     },
     "execution_count": 66,
     "metadata": {},
     "output_type": "execute_result"
    }
   ],
   "execution_count": 66
  },
  {
   "metadata": {
    "ExecuteTime": {
     "end_time": "2024-06-13T14:22:32.733932Z",
     "start_time": "2024-06-13T14:22:32.730179Z"
    }
   },
   "cell_type": "code",
   "source": "ikzf3_de = all_de_df[all_de_df['Tags'].str.contains('IKZF3_de')]",
   "outputs": [],
   "execution_count": 67
  },
  {
   "metadata": {
    "ExecuteTime": {
     "end_time": "2024-06-13T14:22:43.597201Z",
     "start_time": "2024-06-13T14:22:43.594886Z"
    }
   },
   "cell_type": "code",
   "source": [
    "net_de_mses_dict_slc4a1 = {}\n",
    "net_de_mses_dict_ikzf3 = {}"
   ],
   "outputs": [],
   "execution_count": 68
  },
  {
   "metadata": {
    "ExecuteTime": {
     "end_time": "2024-06-13T14:23:23.134141Z",
     "start_time": "2024-06-13T14:23:23.085938Z"
    }
   },
   "cell_type": "code",
   "source": [
    "# loop through the rows of the slc4a1 dataframe\n",
    "# todo: display plot in decreasing order and make inset in overleaf\n",
    "bar_labels = []\n",
    "bar_colors = []\n",
    "net_de_mses = []\n",
    "\n",
    "scale_plot_1 = {}\n",
    "models_name_mapping = {\n",
    "    'scgpt': 'scGPT',\n",
    "    'scbert': 'scBERT',\n",
    "    'geneformer': 'Geneformer',\n",
    "    'uce': 'UCE',\n",
    "    'raw_expression': 'MLP gene expression'\n",
    "}\n",
    "for i, row in slc4a1_de.iterrows():\n",
    "    model = row['data.fm']\n",
    "    print(model)\n",
    "    baseline = row['test_baseline/mse'] \n",
    "    de_mse = row['test_de/mse'] \n",
    "    net_de_mse = de_mse - baseline\n",
    "    \n",
    "    # if net_de_mse > 0.05:\n",
    "    #      continue\n",
    "    \n",
    "    net_de_mses.append(de_mse - baseline)\n",
    "    \n",
    "    net_de_mses_dict_slc4a1[model] = de_mse - baseline\n",
    "    \n",
    "    if model != 'raw_expression':\n",
    "        scale_plot_1[model] = de_mse - baseline\n",
    "    \n",
    "    bar_labels.append(models_name_mapping[model])\n",
    "    \n",
    "    if 'Baseline' in model_colors.keys():\n",
    "        color_value = model_colors['Baseline']\n",
    "        del model_colors['Baseline']\n",
    "        model_colors['MLP gene expression'] = color_value\n",
    "\n",
    "    bar_colors.append(model_colors[models_name_mapping[model]])\n",
    "\n",
    "# Combine net_de_mses, bar_labels, and bar_colors into a single list of tuples\n",
    "data = list(zip(net_de_mses, bar_labels, bar_colors))\n",
    "\n",
    "# Sort this list in descending order based on the net_de_mses values\n",
    "data.sort(key=lambda x: x[0], reverse=True)\n",
    "\n",
    "# Split the sorted list back into net_de_mses, bar_labels, and bar_colors\n",
    "net_de_mses, bar_labels, bar_colors = zip(*data)\n",
    "\n",
    "# print(net_de_mses)\n",
    "# plt.gca().yaxis.tick_right()\n",
    "# plt.gca().yaxis.set_label_position(\"right\")\n",
    "x = np.arange(len(net_de_mses))\n",
    "plt.bar(x, net_de_mses, label=bar_labels, color=bar_colors, alpha=1)\n",
    "plt.xticks([])  # Set the x-ticks to be the bar labels\n",
    "plt.xlim(-0.5, len(bar_labels) - 0.5)  # Adjust the x-limits to match the number of bars\n",
    "\n",
    "plt.ylim(-0.02, 0.30)\n",
    "#plt.title('SLC4A1')\n",
    "plt.ylabel('Mean gene expression adjusted MSE')\n",
    "# plt.legend()\n",
    "# plt.savefig('paper_figs/de_boxplot_sp0_0.pdf', dpi=300)\n",
    "plt.show()"
   ],
   "outputs": [
    {
     "name": "stdout",
     "output_type": "stream",
     "text": [
      "uce\n",
      "geneformer\n",
      "scbert\n",
      "scgpt\n",
      "raw_expression\n"
     ]
    },
    {
     "data": {
      "text/plain": [
       "<Figure size 640x480 with 1 Axes>"
      ],
      "image/png": "[encoded data removed]"
     },
     "metadata": {},
     "output_type": "display_data"
    }
   ],
   "execution_count": 77
  },
  {
   "metadata": {
    "ExecuteTime": {
     "end_time": "2024-06-13T14:22:46.876873Z",
     "start_time": "2024-06-13T14:22:46.874684Z"
    }
   },
   "cell_type": "code",
   "source": [
    "pretrain_size = {\n",
    "    'scbert': 5*(10**6),\n",
    "    'geneformer': 30*(10**6),\n",
    "    'scgpt': 33*(10**6),\n",
    "    'uce': 36*(10**6)\n",
    "}"
   ],
   "outputs": [],
   "execution_count": 70
  },
  {
   "metadata": {
    "ExecuteTime": {
     "end_time": "2024-06-13T14:22:47.277759Z",
     "start_time": "2024-06-13T14:22:47.274753Z"
    }
   },
   "cell_type": "code",
   "source": [
    "pre_train_sizes = np.array(list(pretrain_size.values()))\n",
    "# take the average of the final three elements of the array \n",
    "mean_size_30M = np.mean(pre_train_sizes[-3:])\n",
    "pre_train_sizes = np.append(pre_train_sizes[0], mean_size_30M)\n",
    "pre_train_sizes "
   ],
   "outputs": [
    {
     "data": {
      "text/plain": [
       "array([ 5000000., 33000000.])"
      ]
     },
     "execution_count": 71,
     "metadata": {},
     "output_type": "execute_result"
    }
   ],
   "execution_count": 71
  },
  {
   "metadata": {
    "ExecuteTime": {
     "end_time": "2024-06-13T14:20:50.514059Z",
     "start_time": "2024-06-13T14:20:50.498557Z"
    }
   },
   "cell_type": "code",
   "source": [
    "scale_plott = {k: scale_plot_1[k] for k in pretrain_size.keys()}\n",
    "scale_plottt = np.array(list(scale_plott.values()))\n",
    "scale_plot_mean = np.mean(scale_plottt[-3:])\n",
    "mse_scores_2 = np.append(scale_plottt[0], scale_plot_mean)\n",
    "mse_scores_2"
   ],
   "outputs": [
    {
     "ename": "KeyError",
     "evalue": "'scbert'",
     "output_type": "error",
     "traceback": [
      "\u001B[0;31m---------------------------------------------------------------------------\u001B[0m",
      "\u001B[0;31mKeyError\u001B[0m                                  Traceback (most recent call last)",
      "Cell \u001B[0;32mIn[42], line 1\u001B[0m\n\u001B[0;32m----> 1\u001B[0m scale_plott \u001B[38;5;241m=\u001B[39m {k: scale_plot_1[k] \u001B[38;5;28;01mfor\u001B[39;00m k \u001B[38;5;129;01min\u001B[39;00m pretrain_size\u001B[38;5;241m.\u001B[39mkeys()}\n\u001B[1;32m      2\u001B[0m scale_plottt \u001B[38;5;241m=\u001B[39m np\u001B[38;5;241m.\u001B[39marray(\u001B[38;5;28mlist\u001B[39m(scale_plott\u001B[38;5;241m.\u001B[39mvalues()))\n\u001B[1;32m      3\u001B[0m scale_plot_mean \u001B[38;5;241m=\u001B[39m np\u001B[38;5;241m.\u001B[39mmean(scale_plottt[\u001B[38;5;241m-\u001B[39m\u001B[38;5;241m3\u001B[39m:])\n",
      "Cell \u001B[0;32mIn[42], line 1\u001B[0m, in \u001B[0;36m<dictcomp>\u001B[0;34m(.0)\u001B[0m\n\u001B[0;32m----> 1\u001B[0m scale_plott \u001B[38;5;241m=\u001B[39m {k: \u001B[43mscale_plot_1\u001B[49m\u001B[43m[\u001B[49m\u001B[43mk\u001B[49m\u001B[43m]\u001B[49m \u001B[38;5;28;01mfor\u001B[39;00m k \u001B[38;5;129;01min\u001B[39;00m pretrain_size\u001B[38;5;241m.\u001B[39mkeys()}\n\u001B[1;32m      2\u001B[0m scale_plottt \u001B[38;5;241m=\u001B[39m np\u001B[38;5;241m.\u001B[39marray(\u001B[38;5;28mlist\u001B[39m(scale_plott\u001B[38;5;241m.\u001B[39mvalues()))\n\u001B[1;32m      3\u001B[0m scale_plot_mean \u001B[38;5;241m=\u001B[39m np\u001B[38;5;241m.\u001B[39mmean(scale_plottt[\u001B[38;5;241m-\u001B[39m\u001B[38;5;241m3\u001B[39m:])\n",
      "\u001B[0;31mKeyError\u001B[0m: 'scbert'"
     ]
    }
   ],
   "execution_count": 42
  },
  {
   "metadata": {
    "ExecuteTime": {
     "end_time": "2024-06-13T14:20:50.668078Z",
     "start_time": "2024-06-13T14:20:50.657276Z"
    }
   },
   "cell_type": "code",
   "source": [
    "mse_std = np.std(scale_plottt[-3:])\n",
    "mse_stds_2 = np.append(0, mse_std)\n",
    "mse_stds_2"
   ],
   "outputs": [
    {
     "ename": "NameError",
     "evalue": "name 'scale_plottt' is not defined",
     "output_type": "error",
     "traceback": [
      "\u001B[0;31m---------------------------------------------------------------------------\u001B[0m",
      "\u001B[0;31mNameError\u001B[0m                                 Traceback (most recent call last)",
      "Cell \u001B[0;32mIn[43], line 1\u001B[0m\n\u001B[0;32m----> 1\u001B[0m mse_std \u001B[38;5;241m=\u001B[39m np\u001B[38;5;241m.\u001B[39mstd(\u001B[43mscale_plottt\u001B[49m[\u001B[38;5;241m-\u001B[39m\u001B[38;5;241m3\u001B[39m:])\n\u001B[1;32m      2\u001B[0m mse_stds_2 \u001B[38;5;241m=\u001B[39m np\u001B[38;5;241m.\u001B[39mappend(\u001B[38;5;241m0\u001B[39m, mse_std)\n\u001B[1;32m      3\u001B[0m mse_stds_2\n",
      "\u001B[0;31mNameError\u001B[0m: name 'scale_plottt' is not defined"
     ]
    }
   ],
   "execution_count": 43
  },
  {
   "metadata": {
    "ExecuteTime": {
     "end_time": "2024-06-13T14:20:50.834686Z",
     "start_time": "2024-06-13T14:20:50.818223Z"
    }
   },
   "cell_type": "code",
   "source": [
    "import matplotlib.pyplot as plt\n",
    "import numpy as np\n",
    "\n",
    "shift = 800000 # Adjust the shift value as needed\n",
    "shifted_pre_train_sizes1 = pre_train_sizes - shift\n",
    "shifted_pre_train_sizes2 = pre_train_sizes + shift\n",
    "\n",
    "shifted_pre_train_sizes1[0] = pre_train_sizes[0]\n",
    "shifted_pre_train_sizes2[0] = pre_train_sizes[0]\n",
    "\n",
    "# Create the plot\n",
    "plt.figure(figsize=(10, 6))\n",
    "plt.errorbar(shifted_pre_train_sizes1, mse_scores_1, yerr=mse_stds_1, fmt='o', linestyle='-', capsize=5, label='SLC4A1, SP 0.0')\n",
    "plt.errorbar(shifted_pre_train_sizes2, mse_scores_2, yerr=mse_stds_2, fmt='o', linestyle='-', capsize=5, label='IKZF3, SP 0.7')\n",
    "\n",
    "plt.plot([shifted_pre_train_sizes1[1], pre_train_sizes[1]], \n",
    "         [mse_scores_1[1] - mse_stds_1[1], -0.05], \n",
    "         color='tab:blue', linestyle='--')\n",
    "\n",
    "plt.plot([shifted_pre_train_sizes2[1], pre_train_sizes[1]], \n",
    "         [mse_scores_2[1] - mse_stds_2[1], -0.05], \n",
    "         color='tab:orange', linestyle='--')\n",
    "\n",
    "# \n",
    "# plt.arrow(shifted_pre_train_sizes2[1], unique_net_mse2[1] - error_bars2[1], \n",
    "#           unique_pre_train_sizes[1] - shifted_pre_train_sizes2[1], - (unique_net_mse2[1] - error_bars2[1]), \n",
    "#           color='r', linestyle='--', head_length=0, head_width=0) \n",
    "#          color='tab:orange', linestyle='--')\n",
    "plt.xscale('log')\n",
    "plt.xlabel('Pre-train dataset size')\n",
    "plt.ylabel('Adjusted MSE')\n",
    "plt.ylim(-0.05, 0.30)\n",
    "plt.grid(True, which=\"both\", ls=\"--\")\n",
    "plt.legend()\n",
    "plt.savefig('paper_figs/scaling_law_pretrain_data.pdf', dpi=300)\n",
    "plt.show()\n"
   ],
   "outputs": [
    {
     "ename": "NameError",
     "evalue": "name 'mse_scores_1' is not defined",
     "output_type": "error",
     "traceback": [
      "\u001B[0;31m---------------------------------------------------------------------------\u001B[0m",
      "\u001B[0;31mNameError\u001B[0m                                 Traceback (most recent call last)",
      "Cell \u001B[0;32mIn[44], line 13\u001B[0m\n\u001B[1;32m     11\u001B[0m \u001B[38;5;66;03m# Create the plot\u001B[39;00m\n\u001B[1;32m     12\u001B[0m plt\u001B[38;5;241m.\u001B[39mfigure(figsize\u001B[38;5;241m=\u001B[39m(\u001B[38;5;241m10\u001B[39m, \u001B[38;5;241m6\u001B[39m))\n\u001B[0;32m---> 13\u001B[0m plt\u001B[38;5;241m.\u001B[39merrorbar(shifted_pre_train_sizes1, \u001B[43mmse_scores_1\u001B[49m, yerr\u001B[38;5;241m=\u001B[39mmse_stds_1, fmt\u001B[38;5;241m=\u001B[39m\u001B[38;5;124m'\u001B[39m\u001B[38;5;124mo\u001B[39m\u001B[38;5;124m'\u001B[39m, linestyle\u001B[38;5;241m=\u001B[39m\u001B[38;5;124m'\u001B[39m\u001B[38;5;124m-\u001B[39m\u001B[38;5;124m'\u001B[39m, capsize\u001B[38;5;241m=\u001B[39m\u001B[38;5;241m5\u001B[39m, label\u001B[38;5;241m=\u001B[39m\u001B[38;5;124m'\u001B[39m\u001B[38;5;124mSLC4A1, SP 0.0\u001B[39m\u001B[38;5;124m'\u001B[39m)\n\u001B[1;32m     14\u001B[0m plt\u001B[38;5;241m.\u001B[39merrorbar(shifted_pre_train_sizes2, mse_scores_2, yerr\u001B[38;5;241m=\u001B[39mmse_stds_2, fmt\u001B[38;5;241m=\u001B[39m\u001B[38;5;124m'\u001B[39m\u001B[38;5;124mo\u001B[39m\u001B[38;5;124m'\u001B[39m, linestyle\u001B[38;5;241m=\u001B[39m\u001B[38;5;124m'\u001B[39m\u001B[38;5;124m-\u001B[39m\u001B[38;5;124m'\u001B[39m, capsize\u001B[38;5;241m=\u001B[39m\u001B[38;5;241m5\u001B[39m, label\u001B[38;5;241m=\u001B[39m\u001B[38;5;124m'\u001B[39m\u001B[38;5;124mIKZF3, SP 0.7\u001B[39m\u001B[38;5;124m'\u001B[39m)\n\u001B[1;32m     16\u001B[0m plt\u001B[38;5;241m.\u001B[39mplot([shifted_pre_train_sizes1[\u001B[38;5;241m1\u001B[39m], pre_train_sizes[\u001B[38;5;241m1\u001B[39m]], \n\u001B[1;32m     17\u001B[0m          [mse_scores_1[\u001B[38;5;241m1\u001B[39m] \u001B[38;5;241m-\u001B[39m mse_stds_1[\u001B[38;5;241m1\u001B[39m], \u001B[38;5;241m-\u001B[39m\u001B[38;5;241m0.05\u001B[39m], \n\u001B[1;32m     18\u001B[0m          color\u001B[38;5;241m=\u001B[39m\u001B[38;5;124m'\u001B[39m\u001B[38;5;124mtab:blue\u001B[39m\u001B[38;5;124m'\u001B[39m, linestyle\u001B[38;5;241m=\u001B[39m\u001B[38;5;124m'\u001B[39m\u001B[38;5;124m--\u001B[39m\u001B[38;5;124m'\u001B[39m)\n",
      "\u001B[0;31mNameError\u001B[0m: name 'mse_scores_1' is not defined"
     ]
    },
    {
     "data": {
      "text/plain": [
       "<Figure size 1000x600 with 0 Axes>"
      ]
     },
     "metadata": {},
     "output_type": "display_data"
    }
   ],
   "execution_count": 44
  },
  {
   "metadata": {
    "ExecuteTime": {
     "end_time": "2024-06-13T14:22:57.157302Z",
     "start_time": "2024-06-13T14:22:57.153914Z"
    }
   },
   "cell_type": "code",
   "source": [
    "# load the norman_relative_auc.npy \n",
    "norman_relative_auc_scgpt = np.load('norman_relative_scgpt_auc.npy')\n",
    "norman_relative_auc_scgpt"
   ],
   "outputs": [
    {
     "data": {
      "text/plain": [
       "array(0.60641236)"
      ]
     },
     "execution_count": 72,
     "metadata": {},
     "output_type": "execute_result"
    }
   ],
   "execution_count": 72
  },
  {
   "metadata": {
    "ExecuteTime": {
     "end_time": "2024-06-13T14:22:57.567927Z",
     "start_time": "2024-06-13T14:22:57.565033Z"
    }
   },
   "cell_type": "code",
   "source": [
    "norman_relative_auc_scbert = np.load('norman_relative_scbert_auc.npy')\n",
    "norman_relative_auc_scbert"
   ],
   "outputs": [
    {
     "data": {
      "text/plain": [
       "array(0.22199898)"
      ]
     },
     "execution_count": 73,
     "metadata": {},
     "output_type": "execute_result"
    }
   ],
   "execution_count": 73
  },
  {
   "metadata": {
    "ExecuteTime": {
     "end_time": "2024-06-13T14:23:04.677475Z",
     "start_time": "2024-06-13T14:23:04.674785Z"
    }
   },
   "cell_type": "code",
   "source": "net_de_mses_dict_slc4a1",
   "outputs": [
    {
     "data": {
      "text/plain": [
       "{}"
      ]
     },
     "execution_count": 76,
     "metadata": {},
     "output_type": "execute_result"
    }
   ],
   "execution_count": 76
  },
  {
   "metadata": {
    "ExecuteTime": {
     "end_time": "2024-06-13T14:23:01.091863Z",
     "start_time": "2024-06-13T14:23:01.088636Z"
    }
   },
   "cell_type": "code",
   "source": "net_de_mses_dict_ikzf3",
   "outputs": [
    {
     "data": {
      "text/plain": [
       "{'uce': 0.010223589837551103,\n",
       " 'geneformer': 0.06271415948867803,\n",
       " 'scbert': 0.2899304777383805,\n",
       " 'scgpt': 0.019211292266845703,\n",
       " 'raw_expression': -0.0038532614707947055}"
      ]
     },
     "execution_count": 75,
     "metadata": {},
     "output_type": "execute_result"
    }
   ],
   "execution_count": 75
  },
  {
   "metadata": {
    "ExecuteTime": {
     "end_time": "2024-06-13T14:23:43.460177Z",
     "start_time": "2024-06-13T14:23:43.456955Z"
    }
   },
   "cell_type": "code",
   "source": "float(norman_relative_auc_scbert)",
   "outputs": [
    {
     "data": {
      "text/plain": [
       "0.22199897797277968"
      ]
     },
     "execution_count": 78,
     "metadata": {},
     "output_type": "execute_result"
    }
   ],
   "execution_count": 78
  },
  {
   "metadata": {
    "ExecuteTime": {
     "end_time": "2024-06-13T14:28:10.059900Z",
     "start_time": "2024-06-13T14:28:10.057443Z"
    }
   },
   "cell_type": "code",
   "source": [
    "# generate plot with on x-axis cross-split overlap between pre-train and fine-tune data and on y-axis the adjusted RMSE for both differentially expressed perturbations. Colour the points by the model used.\n",
    "cross_split_overlap = {\n",
    "    'scbert': float(norman_relative_auc_scbert),\n",
    "    'scgpt': float(norman_relative_auc_scgpt)\n",
    "}\n",
    "cross_split_overlap_values = list(cross_split_overlap.values())"
   ],
   "outputs": [],
   "execution_count": 92
  },
  {
   "metadata": {
    "ExecuteTime": {
     "end_time": "2024-06-13T14:23:45.076879Z",
     "start_time": "2024-06-13T14:23:45.074954Z"
    }
   },
   "cell_type": "code",
   "source": [
    "net_de_mses_dict_slc4a1_cso = {\n",
    "    'scbert': net_de_mses_dict_slc4a1['scbert'],\n",
    "    'scgpt': net_de_mses_dict_slc4a1['scgpt']\n",
    "}"
   ],
   "outputs": [],
   "execution_count": 80
  },
  {
   "metadata": {
    "ExecuteTime": {
     "end_time": "2024-06-13T15:01:54.899664Z",
     "start_time": "2024-06-13T15:01:54.894070Z"
    }
   },
   "cell_type": "code",
   "source": [
    "net_de_mses_dict_ikzf3_cso = {\n",
    "    'scbert': net_de_mses_dict_ikzf3['scbert'],\n",
    "    'scgpt': net_de_mses_dict_ikzf3['scgpt']\n",
    "}"
   ],
   "outputs": [],
   "execution_count": 98
  },
  {
   "metadata": {
    "ExecuteTime": {
     "end_time": "2024-06-13T14:23:46.485527Z",
     "start_time": "2024-06-13T14:23:46.483398Z"
    }
   },
   "cell_type": "code",
   "source": "model_names = list(net_de_mses_dict_slc4a1_cso.keys())",
   "outputs": [],
   "execution_count": 81
  },
  {
   "metadata": {
    "ExecuteTime": {
     "end_time": "2024-06-13T14:23:48.975209Z",
     "start_time": "2024-06-13T14:23:48.973039Z"
    }
   },
   "cell_type": "code",
   "source": [
    "model_colors_lowercase = {\n",
    "    'scbert': model_colors['scBERT'],\n",
    "    'scgpt': model_colors['scGPT']\n",
    "}"
   ],
   "outputs": [],
   "execution_count": 82
  },
  {
   "metadata": {
    "ExecuteTime": {
     "end_time": "2024-06-13T14:23:58.902781Z",
     "start_time": "2024-06-13T14:23:58.899345Z"
    }
   },
   "cell_type": "code",
   "source": [
    "model_colors_cso = {\n",
    "    'scbert': model_colors_lowercase['scbert'],\n",
    "    'scgpt': model_colors_lowercase['scgpt']\n",
    "}\n",
    "model_colors_cso"
   ],
   "outputs": [
    {
     "data": {
      "text/plain": [
       "{'scbert': (0.183898, 0.422383, 0.556944, 1.0),\n",
       " 'scgpt': (0.477504, 0.821444, 0.318195, 1.0)}"
      ]
     },
     "execution_count": 83,
     "metadata": {},
     "output_type": "execute_result"
    }
   ],
   "execution_count": 83
  },
  {
   "metadata": {
    "ExecuteTime": {
     "end_time": "2024-06-13T14:27:58.709900Z",
     "start_time": "2024-06-13T14:27:58.707237Z"
    }
   },
   "cell_type": "code",
   "source": "cross_split_overlap_values",
   "outputs": [
    {
     "data": {
      "text/plain": [
       "dict_values([0.22199897797277968, 0.6064123605523986])"
      ]
     },
     "execution_count": 91,
     "metadata": {},
     "output_type": "execute_result"
    }
   ],
   "execution_count": 91
  },
  {
   "metadata": {
    "ExecuteTime": {
     "end_time": "2024-06-13T15:01:58.569091Z",
     "start_time": "2024-06-13T15:01:58.565290Z"
    }
   },
   "cell_type": "code",
   "source": [
    "import pickle\n",
    "\n",
    "with open('model_colors_cso.pkl', 'wb') as f:\n",
    "    pickle.dump(model_colors_cso, f)\n",
    "\n",
    "with open('net_de_mses_dict_slc4a1_cso.pkl', 'wb') as f:\n",
    "    pickle.dump(net_de_mses_dict_slc4a1_cso, f)\n",
    "    \n",
    "with open('net_de_mses_dict_ikzf3_cso.pkl', 'wb') as f:\n",
    "    pickle.dump(net_de_mses_dict_ikzf3_cso, f)\n",
    "    \n",
    "with open('cross_split_overlap_values.pkl', 'wb') as f:\n",
    "    pickle.dump(cross_split_overlap_values, f)"
   ],
   "outputs": [],
   "execution_count": 99
  },
  {
   "metadata": {
    "ExecuteTime": {
     "end_time": "2024-06-13T14:28:16.708876Z",
     "start_time": "2024-06-13T14:28:16.705827Z"
    }
   },
   "cell_type": "code",
   "source": "model_names",
   "outputs": [
    {
     "data": {
      "text/plain": [
       "['scbert', 'scgpt']"
      ]
     },
     "execution_count": 93,
     "metadata": {},
     "output_type": "execute_result"
    }
   ],
   "execution_count": 93
  },
  {
   "metadata": {
    "ExecuteTime": {
     "end_time": "2024-06-13T15:07:30.337270Z",
     "start_time": "2024-06-13T15:07:30.334316Z"
    }
   },
   "cell_type": "code",
   "source": "net_de_mses_dict_ikzf3_cso",
   "outputs": [
    {
     "data": {
      "text/plain": [
       "{'scbert': 0.2899304777383805, 'scgpt': 0.019211292266845703}"
      ]
     },
     "execution_count": 102,
     "metadata": {},
     "output_type": "execute_result"
    }
   ],
   "execution_count": 102
  },
  {
   "metadata": {
    "ExecuteTime": {
     "end_time": "2024-06-13T18:16:35.831760Z",
     "start_time": "2024-06-13T18:16:35.657757Z"
    }
   },
   "cell_type": "code",
   "source": [
    "plt.figure(figsize=(10, 6))\n",
    "\n",
    "plt.plot([cross_split_overlap['scbert'], cross_split_overlap['scgpt']], \n",
    "         [net_de_mses_dict_slc4a1['scbert'], net_de_mses_dict_slc4a1['scgpt']], \n",
    "         color='tab:blue', label='SLC4A1', zorder=1)\n",
    "\n",
    "plt.plot([cross_split_overlap['scbert'], cross_split_overlap['scgpt']], \n",
    "         [net_de_mses_dict_ikzf3['scbert'], net_de_mses_dict_ikzf3['scgpt']], \n",
    "         color='tab:orange', label='IKZF3', zorder=1)\n",
    "\n",
    "for model, net_de_mse in net_de_mses_dict_slc4a1.items():\n",
    "    if model in ['scbert', 'scgpt']:\n",
    "        model_name = 'scBERT' if model == 'scbert' else 'scGPT'\n",
    "        plt.scatter(cross_split_overlap[model], net_de_mses_dict_slc4a1[model], label=model_name, color=model_colors_cso[model], edgecolor='tab:blue', zorder=2)\n",
    "\n",
    "for model, net_de_mse in net_de_mses_dict_ikzf3.items():\n",
    "    if model in ['scbert', 'scgpt']:\n",
    "        model_name = 'scBERT' if model == 'scbert' else 'scGPT'\n",
    "        plt.scatter(cross_split_overlap[model], net_de_mses_dict_ikzf3[model], color=model_colors_cso[model], edgecolor='tab:orange', zorder=2)\n",
    "\n",
    "plt.ylabel('Adjusted MSE')\n",
    "plt.ylim(-0.05, 0.30)\n",
    "plt.xlabel('Cross-split overlap between pre-train and fine-tune datasets')\n",
    "plt.legend()\n",
    "plt.savefig('paper_figs/cross_split_overlap_full.pdf', dpi=300)\n",
    "plt.show()"
   ],
   "outputs": [
    {
     "data": {
      "text/plain": [
       "<Figure size 1000x600 with 1 Axes>"
      ],
      "image/png": "[encoded data removed]"
     },
     "metadata": {},
     "output_type": "display_data"
    }
   ],
   "execution_count": 114
  },
  {
   "metadata": {
    "ExecuteTime": {
     "end_time": "2024-06-13T14:20:54.784693Z",
     "start_time": "2024-06-13T14:20:54.782379Z"
    }
   },
   "cell_type": "code",
   "source": "",
   "outputs": [],
   "execution_count": 56
  },
  {
   "metadata": {
    "ExecuteTime": {
     "end_time": "2024-06-13T14:20:54.943110Z",
     "start_time": "2024-06-13T14:20:54.941680Z"
    }
   },
   "cell_type": "code",
   "source": "",
   "outputs": [],
   "execution_count": 56
  },
  {
   "metadata": {},
   "cell_type": "code",
   "outputs": [],
   "execution_count": null,
   "source": ""
  }
 ],
 "metadata": {
  "kernelspec": {
   "display_name": "torch_env",
   "language": "python",
   "name": "python3"
  },
  "language_info": {
   "codemirror_mode": {
    "name": "ipython",
    "version": 3
   },
   "file_extension": ".py",
   "mimetype": "text/x-python",
   "name": "python",
   "nbconvert_exporter": "python",
   "pygments_lexer": "ipython3",
   "version": "3.10.13"
  }
 },
 "nbformat": 4,
 "nbformat_minor": 2
}
