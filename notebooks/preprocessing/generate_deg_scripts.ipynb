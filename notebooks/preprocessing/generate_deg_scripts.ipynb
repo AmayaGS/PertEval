{
 "cells": [
  {
   "metadata": {},
   "cell_type": "code",
   "outputs": [],
   "execution_count": null,
   "source": "# TODO: Adapt this for two-gene perts such that we are only testing the two-gene perts",
   "id": "52d9c76e2d57ce16"
  },
  {
   "cell_type": "code",
   "id": "initial_id",
   "metadata": {
    "collapsed": true,
    "ExecuteTime": {
     "end_time": "2024-09-20T14:28:56.452095Z",
     "start_time": "2024-09-20T14:28:56.386795Z"
    }
   },
   "source": [
    "import os.path\n",
    "\n",
    "import numpy as np\n",
    "%matplotlib inline\n",
    "import matplotlib.pyplot as plt\n",
    "from tqdm import tqdm\n",
    "import scanpy as sc\n",
    "from src.utils.spectra.dataset import SpectraDataset\n",
    "from src.utils.spectra.perturb import Spectra\n",
    "from gears import PertData\n",
    "import pickle as pkl"
   ],
   "outputs": [],
   "execution_count": 53
  },
  {
   "cell_type": "code",
   "source": [
    "class PerturbGraphData(SpectraDataset):\n",
    "    def parse(self, pert_data):\n",
    "        if isinstance(pert_data, PertData):\n",
    "            self.adata = pert_data.adata\n",
    "        else:\n",
    "            self.adata = pert_data\n",
    "        self.control_expression = self.adata[self.adata.obs['condition'] == 'ctrl'].X.toarray().mean(axis=0)\n",
    "        return [p for p in self.adata.obs['condition'].unique() if p != 'ctrl']\n",
    "\n",
    "    def get_mean_logfold_change(self, perturbation):\n",
    "        perturbation_expression = self.adata[self.adata.obs['condition'] == perturbation].X.toarray().mean(axis=0)\n",
    "        logfold_change = np.nan_to_num(np.log2(perturbation_expression + 1) - np.log2(self.control_expression + 1))\n",
    "        return logfold_change\n",
    "\n",
    "    def sample_to_index(self, sample):\n",
    "        if not hasattr(self, 'index_to_sequence'):\n",
    "            print(\"Generating index to sequence\")\n",
    "            self.index_to_sequence = {}\n",
    "            for i in tqdm(range(len(self))):\n",
    "                x = self.__getitem__(i)\n",
    "                self.index_to_sequence['-'.join(list(x))] = i\n",
    "\n",
    "        return self.index_to_sequence[sample]\n",
    "    \n",
    "    def __len__(self):\n",
    "        return len(self.samples)\n",
    "    \n",
    "    def __getitem__(self, idx):\n",
    "        perturbation = self.samples[idx]\n",
    "        return self.get_mean_logfold_change(perturbation)"
   ],
   "metadata": {
    "collapsed": false,
    "ExecuteTime": {
     "end_time": "2024-09-20T14:28:56.767544Z",
     "start_time": "2024-09-20T14:28:56.755993Z"
    }
   },
   "id": "296e51ca860abd00",
   "outputs": [],
   "execution_count": 54
  },
  {
   "cell_type": "code",
   "source": [
    "class SPECTRAPerturb(Spectra):\n",
    "    def spectra_properties(self, sample_one, sample_two):\n",
    "        return -np.linalg.norm(sample_one - sample_two)\n",
    "\n",
    "    def cross_split_overlap(self, train, test):\n",
    "        average_similarity = []\n",
    "\n",
    "        for i in test:\n",
    "            for j in train:\n",
    "                average_similarity.append(self.spectra_properties(i, j))\n",
    "\n",
    "        return np.mean(average_similarity)"
   ],
   "metadata": {
    "collapsed": false,
    "ExecuteTime": {
     "end_time": "2024-09-20T14:28:58.160372Z",
     "start_time": "2024-09-20T14:28:58.153680Z"
    }
   },
   "id": "5a3955bc597e47dd",
   "outputs": [],
   "execution_count": 55
  },
  {
   "metadata": {
    "ExecuteTime": {
     "end_time": "2024-09-20T14:50:30.137007Z",
     "start_time": "2024-09-20T14:50:07.774960Z"
    }
   },
   "cell_type": "code",
   "source": [
    "adata = sc.read('../data/norman_2019_raw.h5ad')\n",
    "data_type = 'norman_2'"
   ],
   "id": "d0c7982ca7deda45",
   "outputs": [],
   "execution_count": 79
  },
  {
   "metadata": {
    "ExecuteTime": {
     "end_time": "2024-09-20T14:59:50.800881Z",
     "start_time": "2024-09-20T14:59:18.649111Z"
    }
   },
   "cell_type": "code",
   "source": [
    "nonzero_genes = (adata.X.sum(axis=0) > 5).A1\n",
    "filtered_adata = adata[:, nonzero_genes]\n",
    "adata.obs['condition'] = adata.obs['guide_ids'].cat.rename_categories({'': 'ctrl'})\n",
    "# data_type = input(f\"Pick the data type from ['norman_1', 'norman_2']: \")\n",
    "# assert data_type in ['norman_1', 'norman_2']\n",
    "\n",
    "data_type = \"norman_2\"\n",
    "\n",
    "if data_type == \"norman_1\":\n",
    "    single_gene_mask = [True if \",\" not in name else False for name in adata.obs['condition']]\n",
    "    adata = filtered_adata[single_gene_mask, :]\n",
    "else:\n",
    "    adata.obs['condition'] = adata.obs['condition'].str.replace(',', '+')\n",
    "\n",
    "genes = adata.var['gene_symbols'].to_list()\n",
    "genes_and_ctrl = genes + ['ctrl']\n",
    "\n",
    "# we remove the cells with perts that are not in the genes because we need gene expression values\n",
    "# to generate an in-silico perturbation embedding\n",
    "if data_type == \"norman_1\":\n",
    "    adata = adata[adata.obs['condition'].isin(genes_and_ctrl), :]\n",
    "else:\n",
    "    conditions = adata.obs['condition']\n",
    "    \n",
    "    # need to account for the two-gene perturbations\n",
    "    filtered_conditions = conditions.apply(\n",
    "        lambda cond: cond in genes_and_ctrl or (\n",
    "                '+' in cond and all(gene in genes_and_ctrl for gene in cond.split('+'))\n",
    "        )\n",
    "    )\n",
    "    adata = adata[filtered_conditions, :]"
   ],
   "id": "2ee35e268619004",
   "outputs": [],
   "execution_count": 81
  },
  {
   "cell_type": "code",
   "source": "perturb_graph_data = PerturbGraphData(pert_adata, 'norman')",
   "metadata": {
    "collapsed": false,
    "ExecuteTime": {
     "end_time": "2024-09-20T15:00:47.053752Z",
     "start_time": "2024-09-20T15:00:42.337832Z"
    }
   },
   "id": "6154134b69ce6317",
   "outputs": [],
   "execution_count": 82
  },
  {
   "metadata": {
    "ExecuteTime": {
     "end_time": "2024-09-20T15:00:47.058865Z",
     "start_time": "2024-09-20T15:00:47.055767Z"
    }
   },
   "cell_type": "code",
   "source": [
    "all_perts_orig = [p for p in pert_adata.obs['condition'].unique() if p != 'ctrl']\n",
    "\n",
    "all_perts_map = {i: pert for i, pert in enumerate(all_perts_orig)}"
   ],
   "id": "c3eae805e9d905b2",
   "outputs": [],
   "execution_count": 83
  },
  {
   "metadata": {
    "ExecuteTime": {
     "end_time": "2024-09-20T15:00:48.599712Z",
     "start_time": "2024-09-20T15:00:48.079726Z"
    }
   },
   "cell_type": "code",
   "source": [
    "perts = PerturbGraphData.parse(perturb_graph_data, pert_adata)\n",
    "perts"
   ],
   "id": "e4e3ad0d72b6a663",
   "outputs": [
    {
     "data": {
      "text/plain": [
       "['TSC22D1',\n",
       " 'MAML2',\n",
       " 'CEBPE',\n",
       " 'DUSP9',\n",
       " 'ELMSAN1',\n",
       " 'UBASH3B',\n",
       " 'FOXA1',\n",
       " 'BCORL1',\n",
       " 'MEIS1',\n",
       " 'GLB1L2',\n",
       " 'KLF1',\n",
       " 'BAK1',\n",
       " 'FEV',\n",
       " 'ATL1',\n",
       " 'CBL',\n",
       " 'ETS2',\n",
       " 'SET',\n",
       " 'TBX3',\n",
       " 'LHX1',\n",
       " 'SLC4A1',\n",
       " 'RREB1',\n",
       " 'ZNF318',\n",
       " 'COL2A1',\n",
       " 'ZBTB25',\n",
       " 'MAP4K5',\n",
       " 'SLC6A9',\n",
       " 'MIDN',\n",
       " 'DLX2',\n",
       " 'CBFA2T3',\n",
       " 'HES7',\n",
       " 'AHR',\n",
       " 'FOXO4',\n",
       " 'RHOXF2',\n",
       " 'SPI1',\n",
       " 'RUNX1T1',\n",
       " 'S1PR2',\n",
       " 'POU3F2',\n",
       " 'CNN1',\n",
       " 'CELF2',\n",
       " 'MAP2K3',\n",
       " 'MAP4K3',\n",
       " 'SAMD1',\n",
       " 'CDKN1A',\n",
       " 'PTPN1',\n",
       " 'TBX2',\n",
       " 'IER5L',\n",
       " 'CEBPA',\n",
       " 'PTPN12',\n",
       " 'TP73',\n",
       " 'MAP7D1',\n",
       " 'FOSB',\n",
       " 'MAPK1',\n",
       " 'IRF1',\n",
       " 'IKZF3',\n",
       " 'HOXB9',\n",
       " 'HOXC13',\n",
       " 'CKS1B',\n",
       " 'CLDN6',\n",
       " 'FOXA3',\n",
       " 'COL1A1',\n",
       " 'FOXF1',\n",
       " 'ZBTB1',\n",
       " 'PRTG',\n",
       " 'PLK4',\n",
       " 'BPGM',\n",
       " 'ARRDC3',\n",
       " 'BCL2L11',\n",
       " 'LYL1',\n",
       " 'MAP2K6',\n",
       " 'SGK1',\n",
       " 'CDKN1B',\n",
       " 'FOXL2',\n",
       " 'NIT1',\n",
       " 'IGDCC3',\n",
       " 'OSR2',\n",
       " 'HNF4A',\n",
       " 'KMT2A',\n",
       " 'ISL2',\n",
       " 'TMSB4X',\n",
       " 'KIF2C',\n",
       " 'CSRNP1',\n",
       " 'ARID1A',\n",
       " 'CNNM4',\n",
       " 'UBASH3A',\n",
       " 'NCL',\n",
       " 'ZC3HAV1',\n",
       " 'PTPN9',\n",
       " 'STIL',\n",
       " 'CEBPB',\n",
       " 'TGFBR2',\n",
       " 'JUN',\n",
       " 'ZBTB10',\n",
       " 'PTPN13',\n",
       " 'SLC38A2',\n",
       " 'HOXA13',\n",
       " 'SNAI1',\n",
       " 'CITED1',\n",
       " 'PRDM1',\n",
       " 'HK2',\n",
       " 'EGR1',\n",
       " 'KIF18B',\n",
       " 'CDKN1C']"
      ]
     },
     "execution_count": 84,
     "metadata": {},
     "output_type": "execute_result"
    }
   ],
   "execution_count": 84
  },
  {
   "metadata": {
    "ExecuteTime": {
     "end_time": "2024-09-13T14:43:01.262106Z",
     "start_time": "2024-09-13T14:43:01.259469Z"
    }
   },
   "cell_type": "code",
   "source": [
    "sp_ids = [\"0.00\", \"0.10\", \"0.20\", \"0.30\", \"0.40\", \"0.50\", \"0.60\", \"0.70\"]\n",
    "replicates = 3 \n",
    "all_sps = [f\"{x}_{y}\" for x in sp_ids for y in range(replicates)]\n",
    "all_sps"
   ],
   "id": "9297013631cf36f6",
   "outputs": [
    {
     "data": {
      "text/plain": [
       "['0.00_0',\n",
       " '0.00_1',\n",
       " '0.00_2',\n",
       " '0.10_0',\n",
       " '0.10_1',\n",
       " '0.10_2',\n",
       " '0.20_0',\n",
       " '0.20_1',\n",
       " '0.20_2',\n",
       " '0.30_0',\n",
       " '0.30_1',\n",
       " '0.30_2',\n",
       " '0.40_0',\n",
       " '0.40_1',\n",
       " '0.40_2',\n",
       " '0.50_0',\n",
       " '0.50_1',\n",
       " '0.50_2',\n",
       " '0.60_0',\n",
       " '0.60_1',\n",
       " '0.60_2',\n",
       " '0.70_0',\n",
       " '0.70_1',\n",
       " '0.70_2']"
      ]
     },
     "execution_count": 9,
     "metadata": {},
     "output_type": "execute_result"
    }
   ],
   "execution_count": 9
  },
  {
   "metadata": {
    "ExecuteTime": {
     "end_time": "2024-09-13T14:43:01.270290Z",
     "start_time": "2024-09-13T14:43:01.262749Z"
    }
   },
   "cell_type": "code",
   "source": [
    "split_map = {}\n",
    "for split in all_sps:\n",
    "    split_id = f'SP_{split}'\n",
    "    with open(f'../../data/splits/perturb/{data_type}/norman_SPECTRA_splits/{split_id}/test.pkl', 'rb') as f:\n",
    "        spectra_splits = pkl.load(f)\n",
    "    test_perts = [all_perts_map[split] for split in spectra_splits]\n",
    "    split_map[split_id] = test_perts"
   ],
   "id": "103f5002704055fc",
   "outputs": [],
   "execution_count": 10
  },
  {
   "metadata": {
    "ExecuteTime": {
     "end_time": "2024-09-13T14:43:01.274800Z",
     "start_time": "2024-09-13T14:43:01.271128Z"
    }
   },
   "cell_type": "code",
   "source": "split_map",
   "id": "58ff2cbba1ddd81e",
   "outputs": [
    {
     "data": {
      "text/plain": [
       "{'SP_0.00_0': ['SNAI1',\n",
       "  'PTPN12',\n",
       "  'COL2A1',\n",
       "  'CITED1',\n",
       "  'NIT1',\n",
       "  'KLF1',\n",
       "  'FOXF1',\n",
       "  'CSRNP1',\n",
       "  'ZBTB10',\n",
       "  'ARID1A',\n",
       "  'CEBPB',\n",
       "  'SLC4A1',\n",
       "  'KIF18B',\n",
       "  'FOSB',\n",
       "  'PTPN1',\n",
       "  'CBFA2T3',\n",
       "  'SET',\n",
       "  'SAMD1',\n",
       "  'ZBTB1',\n",
       "  'BAK1',\n",
       "  'HK2'],\n",
       " 'SP_0.00_1': ['ZC3HAV1',\n",
       "  'LYL1',\n",
       "  'SPI1',\n",
       "  'ETS2',\n",
       "  'S1PR2',\n",
       "  'TSC22D1',\n",
       "  'TMSB4X',\n",
       "  'CKS1B',\n",
       "  'TBX3',\n",
       "  'CELF2',\n",
       "  'AHR',\n",
       "  'FEV',\n",
       "  'COL2A1',\n",
       "  'MEIS1',\n",
       "  'FOSB',\n",
       "  'HOXB9',\n",
       "  'ZBTB1',\n",
       "  'ZNF318',\n",
       "  'PTPN13',\n",
       "  'TP73',\n",
       "  'FOXA1'],\n",
       " 'SP_0.00_2': ['SET',\n",
       "  'CEBPB',\n",
       "  'MAP4K3',\n",
       "  'SLC6A9',\n",
       "  'LHX1',\n",
       "  'MAP2K3',\n",
       "  'BAK1',\n",
       "  'OSR2',\n",
       "  'CITED1',\n",
       "  'TP73',\n",
       "  'ZNF318',\n",
       "  'ELMSAN1',\n",
       "  'JUN',\n",
       "  'FOXA1',\n",
       "  'BCORL1',\n",
       "  'SGK1',\n",
       "  'HNF4A',\n",
       "  'ETS2',\n",
       "  'KIF2C',\n",
       "  'MAP7D1',\n",
       "  'COL1A1'],\n",
       " 'SP_0.10_0': ['PTPN9',\n",
       "  'ARID1A',\n",
       "  'JUN',\n",
       "  'CNNM4',\n",
       "  'DUSP9',\n",
       "  'IER5L',\n",
       "  'IRF1',\n",
       "  'CDKN1A',\n",
       "  'MAP2K3',\n",
       "  'TGFBR2',\n",
       "  'ZBTB1',\n",
       "  'HNF4A',\n",
       "  'HOXC13',\n",
       "  'CSRNP1',\n",
       "  'FOXL2',\n",
       "  'CKS1B'],\n",
       " 'SP_0.10_1': ['FOXA3',\n",
       "  'RREB1',\n",
       "  'CNNM4',\n",
       "  'SGK1',\n",
       "  'CITED1',\n",
       "  'FOXL2',\n",
       "  'SLC6A9',\n",
       "  'UBASH3B',\n",
       "  'SPI1',\n",
       "  'S1PR2',\n",
       "  'DUSP9',\n",
       "  'MAPK1',\n",
       "  'FOSB',\n",
       "  'CEBPE',\n",
       "  'SLC4A1',\n",
       "  'PRDM1',\n",
       "  'COL1A1'],\n",
       " 'SP_0.10_2': ['ELMSAN1',\n",
       "  'MAML2',\n",
       "  'MAP2K6',\n",
       "  'TP73',\n",
       "  'NIT1',\n",
       "  'COL1A1',\n",
       "  'HOXC13',\n",
       "  'RHOXF2',\n",
       "  'DUSP9',\n",
       "  'FEV',\n",
       "  'SPI1',\n",
       "  'TGFBR2',\n",
       "  'LHX1',\n",
       "  'CDKN1A',\n",
       "  'CKS1B',\n",
       "  'SET'],\n",
       " 'SP_0.20_0': ['ARID1A',\n",
       "  'TSC22D1',\n",
       "  'EGR1',\n",
       "  'HOXA13',\n",
       "  'HOXB9',\n",
       "  'KLF1',\n",
       "  'ZBTB10',\n",
       "  'HNF4A',\n",
       "  'MAP7D1',\n",
       "  'FOXA1',\n",
       "  'CDKN1C',\n",
       "  'MAML2'],\n",
       " 'SP_0.20_1': ['CBFA2T3',\n",
       "  'TSC22D1',\n",
       "  'IRF1',\n",
       "  'NCL',\n",
       "  'IGDCC3',\n",
       "  'CLDN6',\n",
       "  'SNAI1',\n",
       "  'HOXC13',\n",
       "  'CDKN1A',\n",
       "  'CEBPE',\n",
       "  'CKS1B',\n",
       "  'MAP2K3'],\n",
       " 'SP_0.20_2': ['HOXA13',\n",
       "  'HES7',\n",
       "  'HK2',\n",
       "  'SPI1',\n",
       "  'SLC6A9',\n",
       "  'BAK1',\n",
       "  'CDKN1C',\n",
       "  'HNF4A',\n",
       "  'KMT2A',\n",
       "  'POU3F2',\n",
       "  'ARID1A'],\n",
       " 'SP_0.30_0': ['CEBPE',\n",
       "  'FOSB',\n",
       "  'CDKN1B',\n",
       "  'IRF1',\n",
       "  'POU3F2',\n",
       "  'MAP2K3',\n",
       "  'HNF4A',\n",
       "  'DUSP9',\n",
       "  'CKS1B'],\n",
       " 'SP_0.30_1': ['FOXO4',\n",
       "  'CEBPE',\n",
       "  'CNNM4',\n",
       "  'COL2A1',\n",
       "  'CDKN1C',\n",
       "  'CLDN6',\n",
       "  'HNF4A',\n",
       "  'RHOXF2'],\n",
       " 'SP_0.30_2': ['PTPN1',\n",
       "  'ZC3HAV1',\n",
       "  'FOXF1',\n",
       "  'FOXO4',\n",
       "  'CDKN1C',\n",
       "  'TSC22D1',\n",
       "  'ZBTB10',\n",
       "  'COL2A1'],\n",
       " 'SP_0.40_0': ['CEBPE',\n",
       "  'CEBPB',\n",
       "  'HOXA13',\n",
       "  'PTPN9',\n",
       "  'IER5L',\n",
       "  'MAP2K6',\n",
       "  'COL1A1'],\n",
       " 'SP_0.40_1': ['NIT1', 'SLC4A1', 'ZBTB25', 'ZBTB10', 'CDKN1C', 'RHOXF2'],\n",
       " 'SP_0.40_2': ['SGK1', 'TGFBR2', 'LHX1', 'HES7', 'HOXA13', 'MAP2K6'],\n",
       " 'SP_0.50_0': ['ARID1A', 'LHX1', 'MAPK1', 'ETS2'],\n",
       " 'SP_0.50_1': ['HOXA13', 'COL2A1', 'SGK1', 'SLC6A9'],\n",
       " 'SP_0.50_2': ['KMT2A', 'HNF4A', 'EGR1', 'TP73'],\n",
       " 'SP_0.60_0': ['IRF1', 'TP73', 'ARID1A'],\n",
       " 'SP_0.60_1': ['HOXC13', 'COL1A1', 'MAP2K6'],\n",
       " 'SP_0.60_2': ['MAP2K3', 'CEBPA', 'GLB1L2'],\n",
       " 'SP_0.70_0': ['CEBPA', 'SLC4A1'],\n",
       " 'SP_0.70_1': ['IKZF3', 'AHR'],\n",
       " 'SP_0.70_2': ['CEBPE', 'GLB1L2']}"
      ]
     },
     "execution_count": 11,
     "metadata": {},
     "output_type": "execute_result"
    }
   ],
   "execution_count": 11
  },
  {
   "metadata": {
    "ExecuteTime": {
     "end_time": "2024-09-13T14:43:01.277791Z",
     "start_time": "2024-09-13T14:43:01.275394Z"
    }
   },
   "cell_type": "code",
   "source": "# genes_to_keep = ['SLC4A1', 'IKZF3', 'GLB1L2', 'CEBPE', 'CEBPA', 'AHR']",
   "id": "478fdd40f9ba4c66",
   "outputs": [],
   "execution_count": 12
  },
  {
   "metadata": {
    "ExecuteTime": {
     "end_time": "2024-09-13T14:43:01.280110Z",
     "start_time": "2024-09-13T14:43:01.278260Z"
    }
   },
   "cell_type": "code",
   "source": [
    "# split_map_reduced = {k: v for k, v in split_map.items() if '0.00' in k or '0.70' in k}\n",
    "# split_map_reduced"
   ],
   "id": "23e96fffba25458b",
   "outputs": [],
   "execution_count": 13
  },
  {
   "metadata": {
    "ExecuteTime": {
     "end_time": "2024-09-13T14:43:01.284128Z",
     "start_time": "2024-09-13T14:43:01.282294Z"
    }
   },
   "cell_type": "code",
   "source": [
    "def filter_dict_by_list(input_dict, filter_list):\n",
    "    filtered_dict = {}\n",
    "    for key, values in input_dict.items():\n",
    "        filtered_values = [value for value in values if value in filter_list]\n",
    "        if filtered_values:\n",
    "            filtered_dict[key] = filtered_values\n",
    "    return filtered_dict"
   ],
   "id": "ba11b9f8e042319a",
   "outputs": [],
   "execution_count": 14
  },
  {
   "metadata": {
    "ExecuteTime": {
     "end_time": "2024-09-13T14:43:01.507001Z",
     "start_time": "2024-09-13T14:43:01.284673Z"
    }
   },
   "cell_type": "code",
   "source": [
    "split_map_reduced = filter_dict_by_list(split_map_reduced, genes_to_keep)\n",
    "split_map_reduced"
   ],
   "id": "cb6679848c7b73e6",
   "outputs": [
    {
     "ename": "NameError",
     "evalue": "name 'split_map_reduced' is not defined",
     "output_type": "error",
     "traceback": [
      "\u001B[0;31m---------------------------------------------------------------------------\u001B[0m",
      "\u001B[0;31mNameError\u001B[0m                                 Traceback (most recent call last)",
      "Cell \u001B[0;32mIn[15], line 1\u001B[0m\n\u001B[0;32m----> 1\u001B[0m split_map_reduced \u001B[38;5;241m=\u001B[39m filter_dict_by_list(\u001B[43msplit_map_reduced\u001B[49m, genes_to_keep)\n\u001B[1;32m      2\u001B[0m split_map_reduced\n",
      "\u001B[0;31mNameError\u001B[0m: name 'split_map_reduced' is not defined"
     ]
    }
   ],
   "execution_count": 15
  },
  {
   "metadata": {
    "ExecuteTime": {
     "end_time": "2024-09-04T16:22:23.863662Z",
     "start_time": "2024-09-04T16:22:23.858148Z"
    }
   },
   "cell_type": "code",
   "source": [
    "# save the pert_split_map dict to a pkl file to data \n",
    "with open('../../data/splits/perturb/norman_1/pert_split_map.pkl', 'wb') as f:\n",
    "    pkl.dump(split_map, f)"
   ],
   "id": "d42b1f43de5978a7",
   "outputs": [],
   "execution_count": 25
  },
  {
   "metadata": {},
   "cell_type": "code",
   "source": [
    "pert_names = []\n",
    "for split in spectra_splits:\n",
    "    pert_name = all_perts_map[split]\n",
    "    pert_names.append(pert_name)\n",
    "pert_names"
   ],
   "id": "fed5fafd0d6c291f",
   "outputs": [],
   "execution_count": null
  },
  {
   "metadata": {},
   "cell_type": "code",
   "source": [
    "def update_yaml_config(file_path, new_eval_pert):\n",
    "    yaml = YAML()\n",
    "    yaml.preserve_quotes = True\n",
    "    yaml.indent(mapping=2, sequence=4, offset=2)\n",
    "\n",
    "    with open(file_path, 'r') as f:\n",
    "        config = yaml.load(f)\n",
    "\n",
    "    # Update the eval_pert value\n",
    "    config['data']['eval_pert'] = new_eval_pert\n",
    "\n",
    "    # Save the updated config\n",
    "    with open(file_path, 'w') as f:\n",
    "        yaml.dump(config, f)"
   ],
   "id": "f7976428210f6c74",
   "outputs": [],
   "execution_count": null
  },
  {
   "metadata": {
    "ExecuteTime": {
     "end_time": "2024-09-18T14:23:13.280378Z",
     "start_time": "2024-09-18T14:23:13.268308Z"
    }
   },
   "cell_type": "code",
   "source": [
    "# TODO: open the experiment config file and generate as many as we need \n",
    "from ruamel.yaml import YAML \n",
    "\n",
    "base_config = '../../configs/experiment/mlp_norman_inference.yaml'\n",
    "yaml = YAML()\n",
    "yaml.preserve_quotes = True\n",
    "yaml.indent(mapping=2, sequence=4, offset=2)\n",
    "\n",
    "with open(base_config, 'r') as f:\n",
    "    config = yaml.load(f)\n",
    "config"
   ],
   "id": "1c1b21d75c7cae4d",
   "outputs": [
    {
     "data": {
      "text/plain": [
       "{'model_type': 'mlp', 'defaults': [{'override /model': 'mlp'}, {'override /logger': 'wandb'}], 'total_genes': 2060, 'emb_dim': 3072, 'hidden_dim': 1536, 'mean_adjusted': False, 'save_dir': '${paths.data_dir}/${data.data_name}/pert_effects/${data.eval_pert}/pert_effect_pred_${data.fm}.pkl', 'train_date': '2024-09-13', 'timestamp': '12-08-25', 'data': {'data_name': 'norman_1', 'data_type': 'scfoundation', 'deg_eval': True, 'eval_pert': 'SET', 'split': 0.0, 'replicate': 0, 'fm': 'scfoundation'}, 'trainer': {'num_sanity_val_steps': 0, 'inference_mode': True, 'accelerator': 'cpu'}, 'ckpt_path': '${paths.log_dir}train/runs/${train_date}/${timestamp}/checkpoints/${callbacks.model_checkpoint.filename}.ckpt', 'logger': {'wandb': {'tags': ['eval', 'norman', '${data.eval_pert}', '${data.fm}', 'split_${data.split}', 'replicate_${data.replicate}'], 'group': 'test_mean_norman_${data.split}', 'project': 'perturbench-deg'}}}"
      ]
     },
     "execution_count": 51,
     "metadata": {},
     "output_type": "execute_result"
    }
   ],
   "execution_count": 51
  },
  {
   "metadata": {
    "ExecuteTime": {
     "end_time": "2024-09-18T14:23:14.536460Z",
     "start_time": "2024-09-18T14:23:14.133716Z"
    }
   },
   "cell_type": "code",
   "source": [
    "import os \n",
    "if not os.path.exists(f'../../configs/experiment/deg_evals/'):\n",
    "    os.makedirs(f'../../configs/experiment/deg_evals/')\n",
    "\n",
    "id = 1\n",
    "for i, (key, perts) in enumerate(split_map.items()):\n",
    "    split = float(key.split('_')[1])\n",
    "    replicate = int(key.split('_')[2])\n",
    "    config['data']['split'] = split\n",
    "    config['data']['replicate'] = replicate\n",
    "    for j, pert in enumerate(perts):\n",
    "        config['data']['eval_pert'] = pert\n",
    "        with open(f'../../configs/experiment/deg_evals/mlp_norman_inference_{id}.yaml', 'w') as f:\n",
    "            yaml.dump(config, f)\n",
    "        id += 1 "
   ],
   "id": "d5f8e7281cc8272a",
   "outputs": [],
   "execution_count": 52
  },
  {
   "metadata": {},
   "cell_type": "code",
   "outputs": [],
   "execution_count": null,
   "source": "",
   "id": "aaa582672b888f4"
  }
 ],
 "metadata": {
  "kernelspec": {
   "display_name": "Python 3",
   "language": "python",
   "name": "python3"
  },
  "language_info": {
   "codemirror_mode": {
    "name": "ipython",
    "version": 2
   },
   "file_extension": ".py",
   "mimetype": "text/x-python",
   "name": "python",
   "nbconvert_exporter": "python",
   "pygments_lexer": "ipython2",
   "version": "2.7.6"
  }
 },
 "nbformat": 4,
 "nbformat_minor": 5
}
